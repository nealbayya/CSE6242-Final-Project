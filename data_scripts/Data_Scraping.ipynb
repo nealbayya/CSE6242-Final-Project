{
  "cells": [
    {
      "cell_type": "markdown",
      "metadata": {
        "id": "pb1NFfrhKT_7"
      },
      "source": [
        "#Libraries\n",
        "###Only libraries needed for datascraping are pandas and json"
      ]
    },
    {
      "cell_type": "code",
      "execution_count": null,
      "metadata": {
        "id": "eedVXtXKJa3P"
      },
      "outputs": [],
      "source": [
        "import pandas as pd\n",
        "import json"
      ]
    },
    {
      "cell_type": "markdown",
      "metadata": {
        "id": "MXf9-fQyKYAS"
      },
      "source": [
        "#Dataset"
      ]
    },
    {
      "cell_type": "code",
      "execution_count": null,
      "metadata": {
        "id": "S2q9S5lDKRDh",
        "colab": {
          "base_uri": "https://localhost:8080/",
          "height": 353
        },
        "outputId": "3d6273d2-dc1f-4e9d-f336-ddb7126fc2ac"
      },
      "outputs": [
        {
          "output_type": "error",
          "ename": "FileNotFoundError",
          "evalue": "ignored",
          "traceback": [
            "\u001b[0;31m---------------------------------------------------------------------------\u001b[0m",
            "\u001b[0;31mFileNotFoundError\u001b[0m                         Traceback (most recent call last)",
            "\u001b[0;32m<ipython-input-2-828a4eb24cec>\u001b[0m in \u001b[0;36m<module>\u001b[0;34m\u001b[0m\n\u001b[0;32m----> 1\u001b[0;31m \u001b[0mtmdb_cred\u001b[0m \u001b[0;34m=\u001b[0m \u001b[0mpd\u001b[0m\u001b[0;34m.\u001b[0m\u001b[0mread_csv\u001b[0m\u001b[0;34m(\u001b[0m\u001b[0;34m'creds_tmdb.csv'\u001b[0m\u001b[0;34m)\u001b[0m\u001b[0;34m\u001b[0m\u001b[0;34m\u001b[0m\u001b[0m\n\u001b[0m\u001b[1;32m      2\u001b[0m \u001b[0mtmdb_movie\u001b[0m \u001b[0;34m=\u001b[0m \u001b[0mpd\u001b[0m\u001b[0;34m.\u001b[0m\u001b[0mread_csv\u001b[0m\u001b[0;34m(\u001b[0m\u001b[0;34m'movie_tmdb.csv'\u001b[0m\u001b[0;34m)\u001b[0m\u001b[0;34m\u001b[0m\u001b[0;34m\u001b[0m\u001b[0m\n",
            "\u001b[0;32m/usr/local/lib/python3.7/dist-packages/pandas/util/_decorators.py\u001b[0m in \u001b[0;36mwrapper\u001b[0;34m(*args, **kwargs)\u001b[0m\n\u001b[1;32m    309\u001b[0m                     \u001b[0mstacklevel\u001b[0m\u001b[0;34m=\u001b[0m\u001b[0mstacklevel\u001b[0m\u001b[0;34m,\u001b[0m\u001b[0;34m\u001b[0m\u001b[0;34m\u001b[0m\u001b[0m\n\u001b[1;32m    310\u001b[0m                 )\n\u001b[0;32m--> 311\u001b[0;31m             \u001b[0;32mreturn\u001b[0m \u001b[0mfunc\u001b[0m\u001b[0;34m(\u001b[0m\u001b[0;34m*\u001b[0m\u001b[0margs\u001b[0m\u001b[0;34m,\u001b[0m \u001b[0;34m**\u001b[0m\u001b[0mkwargs\u001b[0m\u001b[0;34m)\u001b[0m\u001b[0;34m\u001b[0m\u001b[0;34m\u001b[0m\u001b[0m\n\u001b[0m\u001b[1;32m    312\u001b[0m \u001b[0;34m\u001b[0m\u001b[0m\n\u001b[1;32m    313\u001b[0m         \u001b[0;32mreturn\u001b[0m \u001b[0mwrapper\u001b[0m\u001b[0;34m\u001b[0m\u001b[0;34m\u001b[0m\u001b[0m\n",
            "\u001b[0;32m/usr/local/lib/python3.7/dist-packages/pandas/io/parsers/readers.py\u001b[0m in \u001b[0;36mread_csv\u001b[0;34m(filepath_or_buffer, sep, delimiter, header, names, index_col, usecols, squeeze, prefix, mangle_dupe_cols, dtype, engine, converters, true_values, false_values, skipinitialspace, skiprows, skipfooter, nrows, na_values, keep_default_na, na_filter, verbose, skip_blank_lines, parse_dates, infer_datetime_format, keep_date_col, date_parser, dayfirst, cache_dates, iterator, chunksize, compression, thousands, decimal, lineterminator, quotechar, quoting, doublequote, escapechar, comment, encoding, encoding_errors, dialect, error_bad_lines, warn_bad_lines, on_bad_lines, delim_whitespace, low_memory, memory_map, float_precision, storage_options)\u001b[0m\n\u001b[1;32m    584\u001b[0m     \u001b[0mkwds\u001b[0m\u001b[0;34m.\u001b[0m\u001b[0mupdate\u001b[0m\u001b[0;34m(\u001b[0m\u001b[0mkwds_defaults\u001b[0m\u001b[0;34m)\u001b[0m\u001b[0;34m\u001b[0m\u001b[0;34m\u001b[0m\u001b[0m\n\u001b[1;32m    585\u001b[0m \u001b[0;34m\u001b[0m\u001b[0m\n\u001b[0;32m--> 586\u001b[0;31m     \u001b[0;32mreturn\u001b[0m \u001b[0m_read\u001b[0m\u001b[0;34m(\u001b[0m\u001b[0mfilepath_or_buffer\u001b[0m\u001b[0;34m,\u001b[0m \u001b[0mkwds\u001b[0m\u001b[0;34m)\u001b[0m\u001b[0;34m\u001b[0m\u001b[0;34m\u001b[0m\u001b[0m\n\u001b[0m\u001b[1;32m    587\u001b[0m \u001b[0;34m\u001b[0m\u001b[0m\n\u001b[1;32m    588\u001b[0m \u001b[0;34m\u001b[0m\u001b[0m\n",
            "\u001b[0;32m/usr/local/lib/python3.7/dist-packages/pandas/io/parsers/readers.py\u001b[0m in \u001b[0;36m_read\u001b[0;34m(filepath_or_buffer, kwds)\u001b[0m\n\u001b[1;32m    480\u001b[0m \u001b[0;34m\u001b[0m\u001b[0m\n\u001b[1;32m    481\u001b[0m     \u001b[0;31m# Create the parser.\u001b[0m\u001b[0;34m\u001b[0m\u001b[0;34m\u001b[0m\u001b[0;34m\u001b[0m\u001b[0m\n\u001b[0;32m--> 482\u001b[0;31m     \u001b[0mparser\u001b[0m \u001b[0;34m=\u001b[0m \u001b[0mTextFileReader\u001b[0m\u001b[0;34m(\u001b[0m\u001b[0mfilepath_or_buffer\u001b[0m\u001b[0;34m,\u001b[0m \u001b[0;34m**\u001b[0m\u001b[0mkwds\u001b[0m\u001b[0;34m)\u001b[0m\u001b[0;34m\u001b[0m\u001b[0;34m\u001b[0m\u001b[0m\n\u001b[0m\u001b[1;32m    483\u001b[0m \u001b[0;34m\u001b[0m\u001b[0m\n\u001b[1;32m    484\u001b[0m     \u001b[0;32mif\u001b[0m \u001b[0mchunksize\u001b[0m \u001b[0;32mor\u001b[0m \u001b[0miterator\u001b[0m\u001b[0;34m:\u001b[0m\u001b[0;34m\u001b[0m\u001b[0;34m\u001b[0m\u001b[0m\n",
            "\u001b[0;32m/usr/local/lib/python3.7/dist-packages/pandas/io/parsers/readers.py\u001b[0m in \u001b[0;36m__init__\u001b[0;34m(self, f, engine, **kwds)\u001b[0m\n\u001b[1;32m    809\u001b[0m             \u001b[0mself\u001b[0m\u001b[0;34m.\u001b[0m\u001b[0moptions\u001b[0m\u001b[0;34m[\u001b[0m\u001b[0;34m\"has_index_names\"\u001b[0m\u001b[0;34m]\u001b[0m \u001b[0;34m=\u001b[0m \u001b[0mkwds\u001b[0m\u001b[0;34m[\u001b[0m\u001b[0;34m\"has_index_names\"\u001b[0m\u001b[0;34m]\u001b[0m\u001b[0;34m\u001b[0m\u001b[0;34m\u001b[0m\u001b[0m\n\u001b[1;32m    810\u001b[0m \u001b[0;34m\u001b[0m\u001b[0m\n\u001b[0;32m--> 811\u001b[0;31m         \u001b[0mself\u001b[0m\u001b[0;34m.\u001b[0m\u001b[0m_engine\u001b[0m \u001b[0;34m=\u001b[0m \u001b[0mself\u001b[0m\u001b[0;34m.\u001b[0m\u001b[0m_make_engine\u001b[0m\u001b[0;34m(\u001b[0m\u001b[0mself\u001b[0m\u001b[0;34m.\u001b[0m\u001b[0mengine\u001b[0m\u001b[0;34m)\u001b[0m\u001b[0;34m\u001b[0m\u001b[0;34m\u001b[0m\u001b[0m\n\u001b[0m\u001b[1;32m    812\u001b[0m \u001b[0;34m\u001b[0m\u001b[0m\n\u001b[1;32m    813\u001b[0m     \u001b[0;32mdef\u001b[0m \u001b[0mclose\u001b[0m\u001b[0;34m(\u001b[0m\u001b[0mself\u001b[0m\u001b[0;34m)\u001b[0m\u001b[0;34m:\u001b[0m\u001b[0;34m\u001b[0m\u001b[0;34m\u001b[0m\u001b[0m\n",
            "\u001b[0;32m/usr/local/lib/python3.7/dist-packages/pandas/io/parsers/readers.py\u001b[0m in \u001b[0;36m_make_engine\u001b[0;34m(self, engine)\u001b[0m\n\u001b[1;32m   1038\u001b[0m             )\n\u001b[1;32m   1039\u001b[0m         \u001b[0;31m# error: Too many arguments for \"ParserBase\"\u001b[0m\u001b[0;34m\u001b[0m\u001b[0;34m\u001b[0m\u001b[0;34m\u001b[0m\u001b[0m\n\u001b[0;32m-> 1040\u001b[0;31m         \u001b[0;32mreturn\u001b[0m \u001b[0mmapping\u001b[0m\u001b[0;34m[\u001b[0m\u001b[0mengine\u001b[0m\u001b[0;34m]\u001b[0m\u001b[0;34m(\u001b[0m\u001b[0mself\u001b[0m\u001b[0;34m.\u001b[0m\u001b[0mf\u001b[0m\u001b[0;34m,\u001b[0m \u001b[0;34m**\u001b[0m\u001b[0mself\u001b[0m\u001b[0;34m.\u001b[0m\u001b[0moptions\u001b[0m\u001b[0;34m)\u001b[0m  \u001b[0;31m# type: ignore[call-arg]\u001b[0m\u001b[0;34m\u001b[0m\u001b[0;34m\u001b[0m\u001b[0m\n\u001b[0m\u001b[1;32m   1041\u001b[0m \u001b[0;34m\u001b[0m\u001b[0m\n\u001b[1;32m   1042\u001b[0m     \u001b[0;32mdef\u001b[0m \u001b[0m_failover_to_python\u001b[0m\u001b[0;34m(\u001b[0m\u001b[0mself\u001b[0m\u001b[0;34m)\u001b[0m\u001b[0;34m:\u001b[0m\u001b[0;34m\u001b[0m\u001b[0;34m\u001b[0m\u001b[0m\n",
            "\u001b[0;32m/usr/local/lib/python3.7/dist-packages/pandas/io/parsers/c_parser_wrapper.py\u001b[0m in \u001b[0;36m__init__\u001b[0;34m(self, src, **kwds)\u001b[0m\n\u001b[1;32m     49\u001b[0m \u001b[0;34m\u001b[0m\u001b[0m\n\u001b[1;32m     50\u001b[0m         \u001b[0;31m# open handles\u001b[0m\u001b[0;34m\u001b[0m\u001b[0;34m\u001b[0m\u001b[0;34m\u001b[0m\u001b[0m\n\u001b[0;32m---> 51\u001b[0;31m         \u001b[0mself\u001b[0m\u001b[0;34m.\u001b[0m\u001b[0m_open_handles\u001b[0m\u001b[0;34m(\u001b[0m\u001b[0msrc\u001b[0m\u001b[0;34m,\u001b[0m \u001b[0mkwds\u001b[0m\u001b[0;34m)\u001b[0m\u001b[0;34m\u001b[0m\u001b[0;34m\u001b[0m\u001b[0m\n\u001b[0m\u001b[1;32m     52\u001b[0m         \u001b[0;32massert\u001b[0m \u001b[0mself\u001b[0m\u001b[0;34m.\u001b[0m\u001b[0mhandles\u001b[0m \u001b[0;32mis\u001b[0m \u001b[0;32mnot\u001b[0m \u001b[0;32mNone\u001b[0m\u001b[0;34m\u001b[0m\u001b[0;34m\u001b[0m\u001b[0m\n\u001b[1;32m     53\u001b[0m \u001b[0;34m\u001b[0m\u001b[0m\n",
            "\u001b[0;32m/usr/local/lib/python3.7/dist-packages/pandas/io/parsers/base_parser.py\u001b[0m in \u001b[0;36m_open_handles\u001b[0;34m(self, src, kwds)\u001b[0m\n\u001b[1;32m    227\u001b[0m             \u001b[0mmemory_map\u001b[0m\u001b[0;34m=\u001b[0m\u001b[0mkwds\u001b[0m\u001b[0;34m.\u001b[0m\u001b[0mget\u001b[0m\u001b[0;34m(\u001b[0m\u001b[0;34m\"memory_map\"\u001b[0m\u001b[0;34m,\u001b[0m \u001b[0;32mFalse\u001b[0m\u001b[0;34m)\u001b[0m\u001b[0;34m,\u001b[0m\u001b[0;34m\u001b[0m\u001b[0;34m\u001b[0m\u001b[0m\n\u001b[1;32m    228\u001b[0m             \u001b[0mstorage_options\u001b[0m\u001b[0;34m=\u001b[0m\u001b[0mkwds\u001b[0m\u001b[0;34m.\u001b[0m\u001b[0mget\u001b[0m\u001b[0;34m(\u001b[0m\u001b[0;34m\"storage_options\"\u001b[0m\u001b[0;34m,\u001b[0m \u001b[0;32mNone\u001b[0m\u001b[0;34m)\u001b[0m\u001b[0;34m,\u001b[0m\u001b[0;34m\u001b[0m\u001b[0;34m\u001b[0m\u001b[0m\n\u001b[0;32m--> 229\u001b[0;31m             \u001b[0merrors\u001b[0m\u001b[0;34m=\u001b[0m\u001b[0mkwds\u001b[0m\u001b[0;34m.\u001b[0m\u001b[0mget\u001b[0m\u001b[0;34m(\u001b[0m\u001b[0;34m\"encoding_errors\"\u001b[0m\u001b[0;34m,\u001b[0m \u001b[0;34m\"strict\"\u001b[0m\u001b[0;34m)\u001b[0m\u001b[0;34m,\u001b[0m\u001b[0;34m\u001b[0m\u001b[0;34m\u001b[0m\u001b[0m\n\u001b[0m\u001b[1;32m    230\u001b[0m         )\n\u001b[1;32m    231\u001b[0m \u001b[0;34m\u001b[0m\u001b[0m\n",
            "\u001b[0;32m/usr/local/lib/python3.7/dist-packages/pandas/io/common.py\u001b[0m in \u001b[0;36mget_handle\u001b[0;34m(path_or_buf, mode, encoding, compression, memory_map, is_text, errors, storage_options)\u001b[0m\n\u001b[1;32m    705\u001b[0m                 \u001b[0mencoding\u001b[0m\u001b[0;34m=\u001b[0m\u001b[0mioargs\u001b[0m\u001b[0;34m.\u001b[0m\u001b[0mencoding\u001b[0m\u001b[0;34m,\u001b[0m\u001b[0;34m\u001b[0m\u001b[0;34m\u001b[0m\u001b[0m\n\u001b[1;32m    706\u001b[0m                 \u001b[0merrors\u001b[0m\u001b[0;34m=\u001b[0m\u001b[0merrors\u001b[0m\u001b[0;34m,\u001b[0m\u001b[0;34m\u001b[0m\u001b[0;34m\u001b[0m\u001b[0m\n\u001b[0;32m--> 707\u001b[0;31m                 \u001b[0mnewline\u001b[0m\u001b[0;34m=\u001b[0m\u001b[0;34m\"\"\u001b[0m\u001b[0;34m,\u001b[0m\u001b[0;34m\u001b[0m\u001b[0;34m\u001b[0m\u001b[0m\n\u001b[0m\u001b[1;32m    708\u001b[0m             )\n\u001b[1;32m    709\u001b[0m         \u001b[0;32melse\u001b[0m\u001b[0;34m:\u001b[0m\u001b[0;34m\u001b[0m\u001b[0;34m\u001b[0m\u001b[0m\n",
            "\u001b[0;31mFileNotFoundError\u001b[0m: [Errno 2] No such file or directory: 'creds_tmdb.csv'"
          ]
        }
      ],
      "source": [
        "tmdb_cred = pd.read_csv('creds_tmdb.csv')\n",
        "tmdb_movie = pd.read_csv('movie_tmdb.csv')"
      ]
    },
    {
      "cell_type": "markdown",
      "metadata": {
        "id": "vfbQ8LkfKo5c"
      },
      "source": [
        "#Data Visualization"
      ]
    },
    {
      "cell_type": "markdown",
      "metadata": {
        "id": "oqpD6tUJXLf_"
      },
      "source": [
        "### Visualize TMDB Credit"
      ]
    },
    {
      "cell_type": "code",
      "execution_count": null,
      "metadata": {
        "colab": {
          "base_uri": "https://localhost:8080/",
          "height": 337
        },
        "id": "eivg7m4CXYsl",
        "outputId": "22931437-9ef7-4e85-c5d6-73de2e797480"
      },
      "outputs": [
        {
          "output_type": "execute_result",
          "data": {
            "text/plain": [
              "   movie_id                                     title  \\\n",
              "0     19995                                    Avatar   \n",
              "1       285  Pirates of the Caribbean: At World's End   \n",
              "2    206647                                   Spectre   \n",
              "3     49026                     The Dark Knight Rises   \n",
              "4     49529                               John Carter   \n",
              "\n",
              "                                                cast  \\\n",
              "0  [{\"cast_id\": 242, \"character\": \"Jake Sully\", \"...   \n",
              "1  [{\"cast_id\": 4, \"character\": \"Captain Jack Spa...   \n",
              "2  [{\"cast_id\": 1, \"character\": \"James Bond\", \"cr...   \n",
              "3  [{\"cast_id\": 2, \"character\": \"Bruce Wayne / Ba...   \n",
              "4  [{\"cast_id\": 5, \"character\": \"John Carter\", \"c...   \n",
              "\n",
              "                                                crew  \n",
              "0  [{\"credit_id\": \"52fe48009251416c750aca23\", \"de...  \n",
              "1  [{\"credit_id\": \"52fe4232c3a36847f800b579\", \"de...  \n",
              "2  [{\"credit_id\": \"54805967c3a36829b5002c41\", \"de...  \n",
              "3  [{\"credit_id\": \"52fe4781c3a36847f81398c3\", \"de...  \n",
              "4  [{\"credit_id\": \"52fe479ac3a36847f813eaa3\", \"de...  "
            ],
            "text/html": [
              "\n",
              "  <div id=\"df-896ec976-b26d-4b07-8a60-91621a8adff2\">\n",
              "    <div class=\"colab-df-container\">\n",
              "      <div>\n",
              "<style scoped>\n",
              "    .dataframe tbody tr th:only-of-type {\n",
              "        vertical-align: middle;\n",
              "    }\n",
              "\n",
              "    .dataframe tbody tr th {\n",
              "        vertical-align: top;\n",
              "    }\n",
              "\n",
              "    .dataframe thead th {\n",
              "        text-align: right;\n",
              "    }\n",
              "</style>\n",
              "<table border=\"1\" class=\"dataframe\">\n",
              "  <thead>\n",
              "    <tr style=\"text-align: right;\">\n",
              "      <th></th>\n",
              "      <th>movie_id</th>\n",
              "      <th>title</th>\n",
              "      <th>cast</th>\n",
              "      <th>crew</th>\n",
              "    </tr>\n",
              "  </thead>\n",
              "  <tbody>\n",
              "    <tr>\n",
              "      <th>0</th>\n",
              "      <td>19995</td>\n",
              "      <td>Avatar</td>\n",
              "      <td>[{\"cast_id\": 242, \"character\": \"Jake Sully\", \"...</td>\n",
              "      <td>[{\"credit_id\": \"52fe48009251416c750aca23\", \"de...</td>\n",
              "    </tr>\n",
              "    <tr>\n",
              "      <th>1</th>\n",
              "      <td>285</td>\n",
              "      <td>Pirates of the Caribbean: At World's End</td>\n",
              "      <td>[{\"cast_id\": 4, \"character\": \"Captain Jack Spa...</td>\n",
              "      <td>[{\"credit_id\": \"52fe4232c3a36847f800b579\", \"de...</td>\n",
              "    </tr>\n",
              "    <tr>\n",
              "      <th>2</th>\n",
              "      <td>206647</td>\n",
              "      <td>Spectre</td>\n",
              "      <td>[{\"cast_id\": 1, \"character\": \"James Bond\", \"cr...</td>\n",
              "      <td>[{\"credit_id\": \"54805967c3a36829b5002c41\", \"de...</td>\n",
              "    </tr>\n",
              "    <tr>\n",
              "      <th>3</th>\n",
              "      <td>49026</td>\n",
              "      <td>The Dark Knight Rises</td>\n",
              "      <td>[{\"cast_id\": 2, \"character\": \"Bruce Wayne / Ba...</td>\n",
              "      <td>[{\"credit_id\": \"52fe4781c3a36847f81398c3\", \"de...</td>\n",
              "    </tr>\n",
              "    <tr>\n",
              "      <th>4</th>\n",
              "      <td>49529</td>\n",
              "      <td>John Carter</td>\n",
              "      <td>[{\"cast_id\": 5, \"character\": \"John Carter\", \"c...</td>\n",
              "      <td>[{\"credit_id\": \"52fe479ac3a36847f813eaa3\", \"de...</td>\n",
              "    </tr>\n",
              "  </tbody>\n",
              "</table>\n",
              "</div>\n",
              "      <button class=\"colab-df-convert\" onclick=\"convertToInteractive('df-896ec976-b26d-4b07-8a60-91621a8adff2')\"\n",
              "              title=\"Convert this dataframe to an interactive table.\"\n",
              "              style=\"display:none;\">\n",
              "        \n",
              "  <svg xmlns=\"http://www.w3.org/2000/svg\" height=\"24px\"viewBox=\"0 0 24 24\"\n",
              "       width=\"24px\">\n",
              "    <path d=\"M0 0h24v24H0V0z\" fill=\"none\"/>\n",
              "    <path d=\"M18.56 5.44l.94 2.06.94-2.06 2.06-.94-2.06-.94-.94-2.06-.94 2.06-2.06.94zm-11 1L8.5 8.5l.94-2.06 2.06-.94-2.06-.94L8.5 2.5l-.94 2.06-2.06.94zm10 10l.94 2.06.94-2.06 2.06-.94-2.06-.94-.94-2.06-.94 2.06-2.06.94z\"/><path d=\"M17.41 7.96l-1.37-1.37c-.4-.4-.92-.59-1.43-.59-.52 0-1.04.2-1.43.59L10.3 9.45l-7.72 7.72c-.78.78-.78 2.05 0 2.83L4 21.41c.39.39.9.59 1.41.59.51 0 1.02-.2 1.41-.59l7.78-7.78 2.81-2.81c.8-.78.8-2.07 0-2.86zM5.41 20L4 18.59l7.72-7.72 1.47 1.35L5.41 20z\"/>\n",
              "  </svg>\n",
              "      </button>\n",
              "      \n",
              "  <style>\n",
              "    .colab-df-container {\n",
              "      display:flex;\n",
              "      flex-wrap:wrap;\n",
              "      gap: 12px;\n",
              "    }\n",
              "\n",
              "    .colab-df-convert {\n",
              "      background-color: #E8F0FE;\n",
              "      border: none;\n",
              "      border-radius: 50%;\n",
              "      cursor: pointer;\n",
              "      display: none;\n",
              "      fill: #1967D2;\n",
              "      height: 32px;\n",
              "      padding: 0 0 0 0;\n",
              "      width: 32px;\n",
              "    }\n",
              "\n",
              "    .colab-df-convert:hover {\n",
              "      background-color: #E2EBFA;\n",
              "      box-shadow: 0px 1px 2px rgba(60, 64, 67, 0.3), 0px 1px 3px 1px rgba(60, 64, 67, 0.15);\n",
              "      fill: #174EA6;\n",
              "    }\n",
              "\n",
              "    [theme=dark] .colab-df-convert {\n",
              "      background-color: #3B4455;\n",
              "      fill: #D2E3FC;\n",
              "    }\n",
              "\n",
              "    [theme=dark] .colab-df-convert:hover {\n",
              "      background-color: #434B5C;\n",
              "      box-shadow: 0px 1px 3px 1px rgba(0, 0, 0, 0.15);\n",
              "      filter: drop-shadow(0px 1px 2px rgba(0, 0, 0, 0.3));\n",
              "      fill: #FFFFFF;\n",
              "    }\n",
              "  </style>\n",
              "\n",
              "      <script>\n",
              "        const buttonEl =\n",
              "          document.querySelector('#df-896ec976-b26d-4b07-8a60-91621a8adff2 button.colab-df-convert');\n",
              "        buttonEl.style.display =\n",
              "          google.colab.kernel.accessAllowed ? 'block' : 'none';\n",
              "\n",
              "        async function convertToInteractive(key) {\n",
              "          const element = document.querySelector('#df-896ec976-b26d-4b07-8a60-91621a8adff2');\n",
              "          const dataTable =\n",
              "            await google.colab.kernel.invokeFunction('convertToInteractive',\n",
              "                                                     [key], {});\n",
              "          if (!dataTable) return;\n",
              "\n",
              "          const docLinkHtml = 'Like what you see? Visit the ' +\n",
              "            '<a target=\"_blank\" href=https://colab.research.google.com/notebooks/data_table.ipynb>data table notebook</a>'\n",
              "            + ' to learn more about interactive tables.';\n",
              "          element.innerHTML = '';\n",
              "          dataTable['output_type'] = 'display_data';\n",
              "          await google.colab.output.renderOutput(dataTable, element);\n",
              "          const docLink = document.createElement('div');\n",
              "          docLink.innerHTML = docLinkHtml;\n",
              "          element.appendChild(docLink);\n",
              "        }\n",
              "      </script>\n",
              "    </div>\n",
              "  </div>\n",
              "  "
            ]
          },
          "metadata": {},
          "execution_count": 8
        }
      ],
      "source": [
        "tmdb_cred.head()"
      ]
    },
    {
      "cell_type": "markdown",
      "metadata": {
        "id": "o6Qz4bMkXQiu"
      },
      "source": [
        "### Visualize TMDB Movie"
      ]
    },
    {
      "cell_type": "code",
      "execution_count": null,
      "metadata": {
        "colab": {
          "base_uri": "https://localhost:8080/",
          "height": 774
        },
        "id": "M7zDJoqoKrSF",
        "outputId": "0268443b-0329-4a57-dc87-04bcb4045804"
      },
      "outputs": [
        {
          "output_type": "execute_result",
          "data": {
            "text/plain": [
              "      budget                                             genres  \\\n",
              "0  237000000  [{\"id\": 28, \"name\": \"Action\"}, {\"id\": 12, \"nam...   \n",
              "1  300000000  [{\"id\": 12, \"name\": \"Adventure\"}, {\"id\": 14, \"...   \n",
              "2  245000000  [{\"id\": 28, \"name\": \"Action\"}, {\"id\": 12, \"nam...   \n",
              "3  250000000  [{\"id\": 28, \"name\": \"Action\"}, {\"id\": 80, \"nam...   \n",
              "4  260000000  [{\"id\": 28, \"name\": \"Action\"}, {\"id\": 12, \"nam...   \n",
              "\n",
              "                                       homepage      id  \\\n",
              "0                   http://www.avatarmovie.com/   19995   \n",
              "1  http://disney.go.com/disneypictures/pirates/     285   \n",
              "2   http://www.sonypictures.com/movies/spectre/  206647   \n",
              "3            http://www.thedarkknightrises.com/   49026   \n",
              "4          http://movies.disney.com/john-carter   49529   \n",
              "\n",
              "                                            keywords original_language  \\\n",
              "0  [{\"id\": 1463, \"name\": \"culture clash\"}, {\"id\":...                en   \n",
              "1  [{\"id\": 270, \"name\": \"ocean\"}, {\"id\": 726, \"na...                en   \n",
              "2  [{\"id\": 470, \"name\": \"spy\"}, {\"id\": 818, \"name...                en   \n",
              "3  [{\"id\": 849, \"name\": \"dc comics\"}, {\"id\": 853,...                en   \n",
              "4  [{\"id\": 818, \"name\": \"based on novel\"}, {\"id\":...                en   \n",
              "\n",
              "                             original_title  \\\n",
              "0                                    Avatar   \n",
              "1  Pirates of the Caribbean: At World's End   \n",
              "2                                   Spectre   \n",
              "3                     The Dark Knight Rises   \n",
              "4                               John Carter   \n",
              "\n",
              "                                            overview  popularity  \\\n",
              "0  In the 22nd century, a paraplegic Marine is di...  150.437577   \n",
              "1  Captain Barbossa, long believed to be dead, ha...  139.082615   \n",
              "2  A cryptic message from Bond’s past sends him o...  107.376788   \n",
              "3  Following the death of District Attorney Harve...  112.312950   \n",
              "4  John Carter is a war-weary, former military ca...   43.926995   \n",
              "\n",
              "                                production_companies  \\\n",
              "0  [{\"name\": \"Ingenious Film Partners\", \"id\": 289...   \n",
              "1  [{\"name\": \"Walt Disney Pictures\", \"id\": 2}, {\"...   \n",
              "2  [{\"name\": \"Columbia Pictures\", \"id\": 5}, {\"nam...   \n",
              "3  [{\"name\": \"Legendary Pictures\", \"id\": 923}, {\"...   \n",
              "4        [{\"name\": \"Walt Disney Pictures\", \"id\": 2}]   \n",
              "\n",
              "                                production_countries release_date     revenue  \\\n",
              "0  [{\"iso_3166_1\": \"US\", \"name\": \"United States o...   2009-12-10  2787965087   \n",
              "1  [{\"iso_3166_1\": \"US\", \"name\": \"United States o...   2007-05-19   961000000   \n",
              "2  [{\"iso_3166_1\": \"GB\", \"name\": \"United Kingdom\"...   2015-10-26   880674609   \n",
              "3  [{\"iso_3166_1\": \"US\", \"name\": \"United States o...   2012-07-16  1084939099   \n",
              "4  [{\"iso_3166_1\": \"US\", \"name\": \"United States o...   2012-03-07   284139100   \n",
              "\n",
              "   runtime                                   spoken_languages    status  \\\n",
              "0    162.0  [{\"iso_639_1\": \"en\", \"name\": \"English\"}, {\"iso...  Released   \n",
              "1    169.0           [{\"iso_639_1\": \"en\", \"name\": \"English\"}]  Released   \n",
              "2    148.0  [{\"iso_639_1\": \"fr\", \"name\": \"Fran\\u00e7ais\"},...  Released   \n",
              "3    165.0           [{\"iso_639_1\": \"en\", \"name\": \"English\"}]  Released   \n",
              "4    132.0           [{\"iso_639_1\": \"en\", \"name\": \"English\"}]  Released   \n",
              "\n",
              "                                          tagline  \\\n",
              "0                     Enter the World of Pandora.   \n",
              "1  At the end of the world, the adventure begins.   \n",
              "2                           A Plan No One Escapes   \n",
              "3                                 The Legend Ends   \n",
              "4            Lost in our world, found in another.   \n",
              "\n",
              "                                      title  vote_average  vote_count  \n",
              "0                                    Avatar           7.2       11800  \n",
              "1  Pirates of the Caribbean: At World's End           6.9        4500  \n",
              "2                                   Spectre           6.3        4466  \n",
              "3                     The Dark Knight Rises           7.6        9106  \n",
              "4                               John Carter           6.1        2124  "
            ],
            "text/html": [
              "\n",
              "  <div id=\"df-e4244517-0b1f-44b3-8569-806c78e3b415\">\n",
              "    <div class=\"colab-df-container\">\n",
              "      <div>\n",
              "<style scoped>\n",
              "    .dataframe tbody tr th:only-of-type {\n",
              "        vertical-align: middle;\n",
              "    }\n",
              "\n",
              "    .dataframe tbody tr th {\n",
              "        vertical-align: top;\n",
              "    }\n",
              "\n",
              "    .dataframe thead th {\n",
              "        text-align: right;\n",
              "    }\n",
              "</style>\n",
              "<table border=\"1\" class=\"dataframe\">\n",
              "  <thead>\n",
              "    <tr style=\"text-align: right;\">\n",
              "      <th></th>\n",
              "      <th>budget</th>\n",
              "      <th>genres</th>\n",
              "      <th>homepage</th>\n",
              "      <th>id</th>\n",
              "      <th>keywords</th>\n",
              "      <th>original_language</th>\n",
              "      <th>original_title</th>\n",
              "      <th>overview</th>\n",
              "      <th>popularity</th>\n",
              "      <th>production_companies</th>\n",
              "      <th>production_countries</th>\n",
              "      <th>release_date</th>\n",
              "      <th>revenue</th>\n",
              "      <th>runtime</th>\n",
              "      <th>spoken_languages</th>\n",
              "      <th>status</th>\n",
              "      <th>tagline</th>\n",
              "      <th>title</th>\n",
              "      <th>vote_average</th>\n",
              "      <th>vote_count</th>\n",
              "    </tr>\n",
              "  </thead>\n",
              "  <tbody>\n",
              "    <tr>\n",
              "      <th>0</th>\n",
              "      <td>237000000</td>\n",
              "      <td>[{\"id\": 28, \"name\": \"Action\"}, {\"id\": 12, \"nam...</td>\n",
              "      <td>http://www.avatarmovie.com/</td>\n",
              "      <td>19995</td>\n",
              "      <td>[{\"id\": 1463, \"name\": \"culture clash\"}, {\"id\":...</td>\n",
              "      <td>en</td>\n",
              "      <td>Avatar</td>\n",
              "      <td>In the 22nd century, a paraplegic Marine is di...</td>\n",
              "      <td>150.437577</td>\n",
              "      <td>[{\"name\": \"Ingenious Film Partners\", \"id\": 289...</td>\n",
              "      <td>[{\"iso_3166_1\": \"US\", \"name\": \"United States o...</td>\n",
              "      <td>2009-12-10</td>\n",
              "      <td>2787965087</td>\n",
              "      <td>162.0</td>\n",
              "      <td>[{\"iso_639_1\": \"en\", \"name\": \"English\"}, {\"iso...</td>\n",
              "      <td>Released</td>\n",
              "      <td>Enter the World of Pandora.</td>\n",
              "      <td>Avatar</td>\n",
              "      <td>7.2</td>\n",
              "      <td>11800</td>\n",
              "    </tr>\n",
              "    <tr>\n",
              "      <th>1</th>\n",
              "      <td>300000000</td>\n",
              "      <td>[{\"id\": 12, \"name\": \"Adventure\"}, {\"id\": 14, \"...</td>\n",
              "      <td>http://disney.go.com/disneypictures/pirates/</td>\n",
              "      <td>285</td>\n",
              "      <td>[{\"id\": 270, \"name\": \"ocean\"}, {\"id\": 726, \"na...</td>\n",
              "      <td>en</td>\n",
              "      <td>Pirates of the Caribbean: At World's End</td>\n",
              "      <td>Captain Barbossa, long believed to be dead, ha...</td>\n",
              "      <td>139.082615</td>\n",
              "      <td>[{\"name\": \"Walt Disney Pictures\", \"id\": 2}, {\"...</td>\n",
              "      <td>[{\"iso_3166_1\": \"US\", \"name\": \"United States o...</td>\n",
              "      <td>2007-05-19</td>\n",
              "      <td>961000000</td>\n",
              "      <td>169.0</td>\n",
              "      <td>[{\"iso_639_1\": \"en\", \"name\": \"English\"}]</td>\n",
              "      <td>Released</td>\n",
              "      <td>At the end of the world, the adventure begins.</td>\n",
              "      <td>Pirates of the Caribbean: At World's End</td>\n",
              "      <td>6.9</td>\n",
              "      <td>4500</td>\n",
              "    </tr>\n",
              "    <tr>\n",
              "      <th>2</th>\n",
              "      <td>245000000</td>\n",
              "      <td>[{\"id\": 28, \"name\": \"Action\"}, {\"id\": 12, \"nam...</td>\n",
              "      <td>http://www.sonypictures.com/movies/spectre/</td>\n",
              "      <td>206647</td>\n",
              "      <td>[{\"id\": 470, \"name\": \"spy\"}, {\"id\": 818, \"name...</td>\n",
              "      <td>en</td>\n",
              "      <td>Spectre</td>\n",
              "      <td>A cryptic message from Bond’s past sends him o...</td>\n",
              "      <td>107.376788</td>\n",
              "      <td>[{\"name\": \"Columbia Pictures\", \"id\": 5}, {\"nam...</td>\n",
              "      <td>[{\"iso_3166_1\": \"GB\", \"name\": \"United Kingdom\"...</td>\n",
              "      <td>2015-10-26</td>\n",
              "      <td>880674609</td>\n",
              "      <td>148.0</td>\n",
              "      <td>[{\"iso_639_1\": \"fr\", \"name\": \"Fran\\u00e7ais\"},...</td>\n",
              "      <td>Released</td>\n",
              "      <td>A Plan No One Escapes</td>\n",
              "      <td>Spectre</td>\n",
              "      <td>6.3</td>\n",
              "      <td>4466</td>\n",
              "    </tr>\n",
              "    <tr>\n",
              "      <th>3</th>\n",
              "      <td>250000000</td>\n",
              "      <td>[{\"id\": 28, \"name\": \"Action\"}, {\"id\": 80, \"nam...</td>\n",
              "      <td>http://www.thedarkknightrises.com/</td>\n",
              "      <td>49026</td>\n",
              "      <td>[{\"id\": 849, \"name\": \"dc comics\"}, {\"id\": 853,...</td>\n",
              "      <td>en</td>\n",
              "      <td>The Dark Knight Rises</td>\n",
              "      <td>Following the death of District Attorney Harve...</td>\n",
              "      <td>112.312950</td>\n",
              "      <td>[{\"name\": \"Legendary Pictures\", \"id\": 923}, {\"...</td>\n",
              "      <td>[{\"iso_3166_1\": \"US\", \"name\": \"United States o...</td>\n",
              "      <td>2012-07-16</td>\n",
              "      <td>1084939099</td>\n",
              "      <td>165.0</td>\n",
              "      <td>[{\"iso_639_1\": \"en\", \"name\": \"English\"}]</td>\n",
              "      <td>Released</td>\n",
              "      <td>The Legend Ends</td>\n",
              "      <td>The Dark Knight Rises</td>\n",
              "      <td>7.6</td>\n",
              "      <td>9106</td>\n",
              "    </tr>\n",
              "    <tr>\n",
              "      <th>4</th>\n",
              "      <td>260000000</td>\n",
              "      <td>[{\"id\": 28, \"name\": \"Action\"}, {\"id\": 12, \"nam...</td>\n",
              "      <td>http://movies.disney.com/john-carter</td>\n",
              "      <td>49529</td>\n",
              "      <td>[{\"id\": 818, \"name\": \"based on novel\"}, {\"id\":...</td>\n",
              "      <td>en</td>\n",
              "      <td>John Carter</td>\n",
              "      <td>John Carter is a war-weary, former military ca...</td>\n",
              "      <td>43.926995</td>\n",
              "      <td>[{\"name\": \"Walt Disney Pictures\", \"id\": 2}]</td>\n",
              "      <td>[{\"iso_3166_1\": \"US\", \"name\": \"United States o...</td>\n",
              "      <td>2012-03-07</td>\n",
              "      <td>284139100</td>\n",
              "      <td>132.0</td>\n",
              "      <td>[{\"iso_639_1\": \"en\", \"name\": \"English\"}]</td>\n",
              "      <td>Released</td>\n",
              "      <td>Lost in our world, found in another.</td>\n",
              "      <td>John Carter</td>\n",
              "      <td>6.1</td>\n",
              "      <td>2124</td>\n",
              "    </tr>\n",
              "  </tbody>\n",
              "</table>\n",
              "</div>\n",
              "      <button class=\"colab-df-convert\" onclick=\"convertToInteractive('df-e4244517-0b1f-44b3-8569-806c78e3b415')\"\n",
              "              title=\"Convert this dataframe to an interactive table.\"\n",
              "              style=\"display:none;\">\n",
              "        \n",
              "  <svg xmlns=\"http://www.w3.org/2000/svg\" height=\"24px\"viewBox=\"0 0 24 24\"\n",
              "       width=\"24px\">\n",
              "    <path d=\"M0 0h24v24H0V0z\" fill=\"none\"/>\n",
              "    <path d=\"M18.56 5.44l.94 2.06.94-2.06 2.06-.94-2.06-.94-.94-2.06-.94 2.06-2.06.94zm-11 1L8.5 8.5l.94-2.06 2.06-.94-2.06-.94L8.5 2.5l-.94 2.06-2.06.94zm10 10l.94 2.06.94-2.06 2.06-.94-2.06-.94-.94-2.06-.94 2.06-2.06.94z\"/><path d=\"M17.41 7.96l-1.37-1.37c-.4-.4-.92-.59-1.43-.59-.52 0-1.04.2-1.43.59L10.3 9.45l-7.72 7.72c-.78.78-.78 2.05 0 2.83L4 21.41c.39.39.9.59 1.41.59.51 0 1.02-.2 1.41-.59l7.78-7.78 2.81-2.81c.8-.78.8-2.07 0-2.86zM5.41 20L4 18.59l7.72-7.72 1.47 1.35L5.41 20z\"/>\n",
              "  </svg>\n",
              "      </button>\n",
              "      \n",
              "  <style>\n",
              "    .colab-df-container {\n",
              "      display:flex;\n",
              "      flex-wrap:wrap;\n",
              "      gap: 12px;\n",
              "    }\n",
              "\n",
              "    .colab-df-convert {\n",
              "      background-color: #E8F0FE;\n",
              "      border: none;\n",
              "      border-radius: 50%;\n",
              "      cursor: pointer;\n",
              "      display: none;\n",
              "      fill: #1967D2;\n",
              "      height: 32px;\n",
              "      padding: 0 0 0 0;\n",
              "      width: 32px;\n",
              "    }\n",
              "\n",
              "    .colab-df-convert:hover {\n",
              "      background-color: #E2EBFA;\n",
              "      box-shadow: 0px 1px 2px rgba(60, 64, 67, 0.3), 0px 1px 3px 1px rgba(60, 64, 67, 0.15);\n",
              "      fill: #174EA6;\n",
              "    }\n",
              "\n",
              "    [theme=dark] .colab-df-convert {\n",
              "      background-color: #3B4455;\n",
              "      fill: #D2E3FC;\n",
              "    }\n",
              "\n",
              "    [theme=dark] .colab-df-convert:hover {\n",
              "      background-color: #434B5C;\n",
              "      box-shadow: 0px 1px 3px 1px rgba(0, 0, 0, 0.15);\n",
              "      filter: drop-shadow(0px 1px 2px rgba(0, 0, 0, 0.3));\n",
              "      fill: #FFFFFF;\n",
              "    }\n",
              "  </style>\n",
              "\n",
              "      <script>\n",
              "        const buttonEl =\n",
              "          document.querySelector('#df-e4244517-0b1f-44b3-8569-806c78e3b415 button.colab-df-convert');\n",
              "        buttonEl.style.display =\n",
              "          google.colab.kernel.accessAllowed ? 'block' : 'none';\n",
              "\n",
              "        async function convertToInteractive(key) {\n",
              "          const element = document.querySelector('#df-e4244517-0b1f-44b3-8569-806c78e3b415');\n",
              "          const dataTable =\n",
              "            await google.colab.kernel.invokeFunction('convertToInteractive',\n",
              "                                                     [key], {});\n",
              "          if (!dataTable) return;\n",
              "\n",
              "          const docLinkHtml = 'Like what you see? Visit the ' +\n",
              "            '<a target=\"_blank\" href=https://colab.research.google.com/notebooks/data_table.ipynb>data table notebook</a>'\n",
              "            + ' to learn more about interactive tables.';\n",
              "          element.innerHTML = '';\n",
              "          dataTable['output_type'] = 'display_data';\n",
              "          await google.colab.output.renderOutput(dataTable, element);\n",
              "          const docLink = document.createElement('div');\n",
              "          docLink.innerHTML = docLinkHtml;\n",
              "          element.appendChild(docLink);\n",
              "        }\n",
              "      </script>\n",
              "    </div>\n",
              "  </div>\n",
              "  "
            ]
          },
          "metadata": {},
          "execution_count": 9
        }
      ],
      "source": [
        "tmdb_movie.head()\n"
      ]
    },
    {
      "cell_type": "markdown",
      "metadata": {
        "id": "RvxmeUkyXcwz"
      },
      "source": [
        "#Helper Functions"
      ]
    },
    {
      "cell_type": "code",
      "execution_count": null,
      "metadata": {
        "id": "IAH0nqT0O7ag"
      },
      "outputs": [],
      "source": [
        "def json_str_conv_movie(convertKey):\n",
        "  tmdb_movie[convertKey] = tmdb_movie[convertKey].apply(json.loads)\n",
        "\n",
        "  iterable = zip(tmdb_movie.index, tmdb_movie[convertKey])\n",
        "  for fInd, element in iterable:\n",
        "      indexKeyList = []\n",
        "\n",
        "      elmSize = len(element)\n",
        "      for innerIndex in range(0, elmSize):\n",
        "          genre_elem = (element[innerIndex]['name']);\n",
        "          indexKeyList.append(genre_elem)\n",
        "\n",
        "      strOfList = str(indexKeyList)\n",
        "      tmdb_movie.loc[fInd, convertKey] = strOfList"
      ]
    },
    {
      "cell_type": "code",
      "execution_count": null,
      "metadata": {
        "id": "GgrZrK8kVkib"
      },
      "outputs": [],
      "source": [
        "def json_str_conv_cred(convertKey):\n",
        "  tmdb_cred[convertKey] = tmdb_cred[convertKey].apply(json.loads)\n",
        "\n",
        "  iterable = zip(tmdb_cred.index, tmdb_cred[convertKey])\n",
        "  for fInd, element in iterable:\n",
        "      indexKeyList = []\n",
        "\n",
        "      elmSize = len(element)\n",
        "      for innerIndex in range(0, elmSize):\n",
        "          genre_elem = (element[innerIndex]['name']);\n",
        "          indexKeyList.append(genre_elem)\n",
        "\n",
        "      strOfList = str(indexKeyList)\n",
        "      tmdb_cred.loc[fInd, convertKey] = strOfList"
      ]
    },
    {
      "cell_type": "code",
      "execution_count": null,
      "metadata": {
        "id": "qrARowZ1QZi_"
      },
      "outputs": [],
      "source": [
        "def find_dir_crew(elementCp):\n",
        "    for currElm in elementCp:\n",
        "        if 'Director' == currElm['job']:\n",
        "            crewName = currElm['name']\n",
        "            return crewName"
      ]
    },
    {
      "cell_type": "code",
      "execution_count": null,
      "metadata": {
        "id": "rnNkwOauWR2x"
      },
      "outputs": [],
      "source": [
        "def crewConv(convertKey, fromKey):\n",
        "  tmdb_cred[convertKey] = tmdb_cred[convertKey].apply(json.loads)\n",
        "  tmdb_cred[convertKey] = tmdb_cred[convertKey].apply(find_dir_crew)\n",
        "  tmdb_cred.rename(columns={'crew':'director'},inplace=True)"
      ]
    },
    {
      "cell_type": "markdown",
      "metadata": {
        "id": "Dts81D2dX5QN"
      },
      "source": [
        "#JSON to String Conversion"
      ]
    },
    {
      "cell_type": "markdown",
      "metadata": {
        "id": "IyDN8SCmK5PX"
      },
      "source": [
        "Convert Genre JSON"
      ]
    },
    {
      "cell_type": "code",
      "execution_count": null,
      "metadata": {
        "id": "xrgEX6wfPNjP"
      },
      "outputs": [],
      "source": [
        "json_str_conv_movie('genres')"
      ]
    },
    {
      "cell_type": "markdown",
      "metadata": {
        "id": "1Ac2EptRLIDP"
      },
      "source": [
        "Convert KeyWords JSON"
      ]
    },
    {
      "cell_type": "code",
      "execution_count": null,
      "metadata": {
        "id": "BXiSMy5eLMdU"
      },
      "outputs": [],
      "source": [
        "json_str_conv_movie('keywords')"
      ]
    },
    {
      "cell_type": "markdown",
      "metadata": {
        "id": "otgfYN-wLQBV"
      },
      "source": [
        "Convert Production Companies JSON"
      ]
    },
    {
      "cell_type": "code",
      "execution_count": null,
      "metadata": {
        "id": "XUtXhZJyLPeK"
      },
      "outputs": [],
      "source": [
        "json_str_conv_movie('production_companies')"
      ]
    },
    {
      "cell_type": "markdown",
      "metadata": {
        "id": "J8UnTlSCLV6V"
      },
      "source": [
        "Convert Cast JSON"
      ]
    },
    {
      "cell_type": "code",
      "execution_count": null,
      "metadata": {
        "id": "sno8bJRELatJ"
      },
      "outputs": [],
      "source": [
        "json_str_conv_cred('cast')"
      ]
    },
    {
      "cell_type": "markdown",
      "metadata": {
        "id": "EOKDexfDLc0S"
      },
      "source": [
        "Convert Crew JSON"
      ]
    },
    {
      "cell_type": "code",
      "execution_count": null,
      "metadata": {
        "id": "ZhBUMZPdLe5t"
      },
      "outputs": [],
      "source": [
        "crewConv('crew', 'director')"
      ]
    },
    {
      "cell_type": "markdown",
      "metadata": {
        "id": "llr9aE-2Ljjh"
      },
      "source": [
        "#Display Scraped Data\n",
        "\n"
      ]
    },
    {
      "cell_type": "markdown",
      "metadata": {
        "id": "uZvHmIBpX_-L"
      },
      "source": [
        "###Credit Display"
      ]
    },
    {
      "cell_type": "code",
      "execution_count": null,
      "metadata": {
        "colab": {
          "base_uri": "https://localhost:8080/"
        },
        "id": "ntILxkHsYC3S",
        "outputId": "34707a3e-17f2-4831-e1c0-531966129b04"
      },
      "outputs": [
        {
          "output_type": "execute_result",
          "data": {
            "text/plain": [
              "movie_id                                                19995\n",
              "title                                                  Avatar\n",
              "cast        ['Sam Worthington', 'Zoe Saldana', 'Sigourney ...\n",
              "director                                        James Cameron\n",
              "Name: 0, dtype: object"
            ]
          },
          "metadata": {},
          "execution_count": 19
        }
      ],
      "source": [
        "tmdb_cred.iloc[0]"
      ]
    },
    {
      "cell_type": "markdown",
      "metadata": {
        "id": "lTDuzGWTYDMZ"
      },
      "source": [
        "###Movie Display"
      ]
    },
    {
      "cell_type": "code",
      "execution_count": null,
      "metadata": {
        "colab": {
          "base_uri": "https://localhost:8080/"
        },
        "id": "V6upNdR_Lhr4",
        "outputId": "7daab802-7995-4f67-b926-b66c3b8a0d1d"
      },
      "outputs": [
        {
          "output_type": "execute_result",
          "data": {
            "text/plain": [
              "budget                                                          237000000\n",
              "genres                  ['Action', 'Adventure', 'Fantasy', 'Science Fi...\n",
              "homepage                                      http://www.avatarmovie.com/\n",
              "id                                                                  19995\n",
              "keywords                ['culture clash', 'future', 'space war', 'spac...\n",
              "original_language                                                      en\n",
              "original_title                                                     Avatar\n",
              "overview                In the 22nd century, a paraplegic Marine is di...\n",
              "popularity                                                     150.437577\n",
              "production_companies    ['Ingenious Film Partners', 'Twentieth Century...\n",
              "production_countries    [{\"iso_3166_1\": \"US\", \"name\": \"United States o...\n",
              "release_date                                                   2009-12-10\n",
              "revenue                                                        2787965087\n",
              "runtime                                                             162.0\n",
              "spoken_languages        [{\"iso_639_1\": \"en\", \"name\": \"English\"}, {\"iso...\n",
              "status                                                           Released\n",
              "tagline                                       Enter the World of Pandora.\n",
              "title                                                              Avatar\n",
              "vote_average                                                          7.2\n",
              "vote_count                                                          11800\n",
              "Name: 0, dtype: object"
            ]
          },
          "metadata": {},
          "execution_count": 20
        }
      ],
      "source": [
        "tmdb_movie.iloc[0]"
      ]
    },
    {
      "cell_type": "markdown",
      "metadata": {
        "id": "OyBSkEMXL6we"
      },
      "source": [
        "#Merge Movies and Credits"
      ]
    },
    {
      "cell_type": "code",
      "execution_count": null,
      "metadata": {
        "id": "LWbLE0ZFL8dI"
      },
      "outputs": [],
      "source": [
        "leftCol = 'id'\n",
        "rightCol = 'movie_id'\n",
        "\n",
        "joinOn = 'left'\n",
        "tmdb_movie_credits = tmdb_movie.merge(tmdb_cred, left_on=leftCol, right_on=rightCol, how=joinOn)"
      ]
    },
    {
      "cell_type": "markdown",
      "metadata": {
        "id": "OaAiislFYxHn"
      },
      "source": [
        "#Merged Movie Display"
      ]
    },
    {
      "cell_type": "code",
      "execution_count": null,
      "metadata": {
        "colab": {
          "base_uri": "https://localhost:8080/"
        },
        "id": "O4HYc8YWYzpl",
        "outputId": "2813a640-fce2-4174-8826-2dd8c04e9100"
      },
      "outputs": [
        {
          "output_type": "execute_result",
          "data": {
            "text/plain": [
              "budget                                                          237000000\n",
              "genres                  ['Action', 'Adventure', 'Fantasy', 'Science Fi...\n",
              "homepage                                      http://www.avatarmovie.com/\n",
              "id                                                                  19995\n",
              "keywords                ['culture clash', 'future', 'space war', 'spac...\n",
              "original_language                                                      en\n",
              "original_title                                                     Avatar\n",
              "overview                In the 22nd century, a paraplegic Marine is di...\n",
              "popularity                                                     150.437577\n",
              "production_companies    ['Ingenious Film Partners', 'Twentieth Century...\n",
              "production_countries    [{\"iso_3166_1\": \"US\", \"name\": \"United States o...\n",
              "release_date                                                   2009-12-10\n",
              "revenue                                                        2787965087\n",
              "runtime                                                             162.0\n",
              "spoken_languages        [{\"iso_639_1\": \"en\", \"name\": \"English\"}, {\"iso...\n",
              "status                                                           Released\n",
              "tagline                                       Enter the World of Pandora.\n",
              "title_x                                                            Avatar\n",
              "vote_average                                                          7.2\n",
              "vote_count                                                          11800\n",
              "movie_id                                                            19995\n",
              "title_y                                                            Avatar\n",
              "cast                    ['Sam Worthington', 'Zoe Saldana', 'Sigourney ...\n",
              "director                                                    James Cameron\n",
              "Name: 0, dtype: object"
            ]
          },
          "metadata": {},
          "execution_count": 22
        }
      ],
      "source": [
        "tmdb_movie_credits.iloc[0]"
      ]
    },
    {
      "cell_type": "markdown",
      "metadata": {
        "id": "LCulEu2bMiA-"
      },
      "source": [
        "#Movie Size"
      ]
    },
    {
      "cell_type": "code",
      "execution_count": null,
      "metadata": {
        "colab": {
          "base_uri": "https://localhost:8080/"
        },
        "id": "uiDULjq-Mm61",
        "outputId": "6d4af868-f276-4e82-c850-660b32d78793"
      },
      "outputs": [
        {
          "output_type": "execute_result",
          "data": {
            "text/plain": [
              "115272"
            ]
          },
          "metadata": {},
          "execution_count": 23
        }
      ],
      "source": [
        "tmdb_movie_credits.size\n"
      ]
    },
    {
      "cell_type": "markdown",
      "metadata": {
        "id": "-cJ99ymGZD-6"
      },
      "source": [
        "#Columns"
      ]
    },
    {
      "cell_type": "code",
      "execution_count": null,
      "metadata": {
        "colab": {
          "base_uri": "https://localhost:8080/"
        },
        "id": "X73sZnqOMrUC",
        "outputId": "ee051626-1531-4249-f25e-d5115edd85fa"
      },
      "outputs": [
        {
          "output_type": "execute_result",
          "data": {
            "text/plain": [
              "Index(['budget', 'genres', 'homepage', 'id', 'keywords', 'original_language',\n",
              "       'original_title', 'overview', 'popularity', 'production_companies',\n",
              "       'production_countries', 'release_date', 'revenue', 'runtime',\n",
              "       'spoken_languages', 'status', 'tagline', 'title_x', 'vote_average',\n",
              "       'vote_count', 'movie_id', 'title_y', 'cast', 'director'],\n",
              "      dtype='object')"
            ]
          },
          "metadata": {},
          "execution_count": 24
        }
      ],
      "source": [
        "tmdb_movie_credits.columns"
      ]
    },
    {
      "cell_type": "markdown",
      "metadata": {
        "id": "hEGBmsZUZM7T"
      },
      "source": [
        "#Column Data Types"
      ]
    },
    {
      "cell_type": "code",
      "execution_count": null,
      "metadata": {
        "colab": {
          "base_uri": "https://localhost:8080/"
        },
        "id": "o0iGafCQMzWH",
        "outputId": "2bdee2e9-1b6e-42ec-ab5b-09e3831f04cf"
      },
      "outputs": [
        {
          "output_type": "execute_result",
          "data": {
            "text/plain": [
              "budget                    int64\n",
              "genres                   object\n",
              "homepage                 object\n",
              "id                        int64\n",
              "keywords                 object\n",
              "original_language        object\n",
              "original_title           object\n",
              "overview                 object\n",
              "popularity              float64\n",
              "production_companies     object\n",
              "production_countries     object\n",
              "release_date             object\n",
              "revenue                   int64\n",
              "runtime                 float64\n",
              "spoken_languages         object\n",
              "status                   object\n",
              "tagline                  object\n",
              "title_x                  object\n",
              "vote_average            float64\n",
              "vote_count                int64\n",
              "movie_id                  int64\n",
              "title_y                  object\n",
              "cast                     object\n",
              "director                 object\n",
              "dtype: object"
            ]
          },
          "metadata": {},
          "execution_count": 25
        }
      ],
      "source": [
        "tmdb_movie_credits.dtypes\n"
      ]
    },
    {
      "cell_type": "markdown",
      "metadata": {
        "id": "KCSUPp6eZsZO"
      },
      "source": [
        "#Dataframe to CSV"
      ]
    },
    {
      "cell_type": "code",
      "execution_count": null,
      "metadata": {
        "id": "KQmygWw-ZvvD"
      },
      "outputs": [],
      "source": [
        "tmdb_movie_credits.to_csv('clean_movie_credits_tmdb.csv')"
      ]
    },
    {
      "cell_type": "markdown",
      "metadata": {
        "id": "yt2tZGRdZQTm"
      },
      "source": [
        "#Filter Merged Movies"
      ]
    },
    {
      "cell_type": "code",
      "execution_count": null,
      "metadata": {
        "id": "L8b8zWq7QvpQ"
      },
      "outputs": [],
      "source": [
        "filter_tmdb_movie_credits = tmdb_movie_credits[['id','original_title','genres','cast','vote_average','director','keywords']]"
      ]
    },
    {
      "cell_type": "markdown",
      "metadata": {
        "id": "H2GXrWKLZbn7"
      },
      "source": [
        "#Merged Movie Display"
      ]
    },
    {
      "cell_type": "code",
      "execution_count": null,
      "metadata": {
        "colab": {
          "base_uri": "https://localhost:8080/"
        },
        "id": "r_asuTj6Q3ju",
        "outputId": "1a290f44-4ef0-46de-8561-b305e40a556d"
      },
      "outputs": [
        {
          "output_type": "execute_result",
          "data": {
            "text/plain": [
              "id                                                            19995\n",
              "original_title                                               Avatar\n",
              "genres            ['Action', 'Adventure', 'Fantasy', 'Science Fi...\n",
              "cast              ['Sam Worthington', 'Zoe Saldana', 'Sigourney ...\n",
              "vote_average                                                    7.2\n",
              "director                                              James Cameron\n",
              "keywords          ['culture clash', 'future', 'space war', 'spac...\n",
              "Name: 0, dtype: object"
            ]
          },
          "metadata": {},
          "execution_count": 28
        }
      ],
      "source": [
        "filter_tmdb_movie_credits.iloc[0]"
      ]
    },
    {
      "cell_type": "markdown",
      "metadata": {
        "id": "ODn7jK7uZhvQ"
      },
      "source": [
        "#Merged Movie Size"
      ]
    },
    {
      "cell_type": "code",
      "execution_count": null,
      "metadata": {
        "colab": {
          "base_uri": "https://localhost:8080/"
        },
        "id": "qsN75sP-Q7f_",
        "outputId": "258f6f4e-31d6-49b9-b8f7-3c78d39fc68b"
      },
      "outputs": [
        {
          "output_type": "execute_result",
          "data": {
            "text/plain": [
              "33621"
            ]
          },
          "metadata": {},
          "execution_count": 29
        }
      ],
      "source": [
        "filter_tmdb_movie_credits.size"
      ]
    },
    {
      "cell_type": "markdown",
      "metadata": {
        "id": "P38Q6KKCZjpR"
      },
      "source": [
        "#Merged Movie Columns"
      ]
    },
    {
      "cell_type": "code",
      "execution_count": null,
      "metadata": {
        "colab": {
          "base_uri": "https://localhost:8080/"
        },
        "id": "PCrgSPXGQ_ie",
        "outputId": "2d2d035b-27f4-4032-c585-7e986cd4fd1c"
      },
      "outputs": [
        {
          "output_type": "execute_result",
          "data": {
            "text/plain": [
              "Index(['id', 'original_title', 'genres', 'cast', 'vote_average', 'director',\n",
              "       'keywords'],\n",
              "      dtype='object')"
            ]
          },
          "metadata": {},
          "execution_count": 30
        }
      ],
      "source": [
        "filter_tmdb_movie_credits.columns"
      ]
    },
    {
      "cell_type": "markdown",
      "metadata": {
        "id": "gDzRnjQOZnL8"
      },
      "source": [
        "#Merged Movie Data Types"
      ]
    },
    {
      "cell_type": "code",
      "execution_count": null,
      "metadata": {
        "colab": {
          "base_uri": "https://localhost:8080/"
        },
        "id": "5UNLw_mbRAuk",
        "outputId": "b34bb307-f65e-4e07-8ba6-acd036a1c322"
      },
      "outputs": [
        {
          "output_type": "execute_result",
          "data": {
            "text/plain": [
              "id                  int64\n",
              "original_title     object\n",
              "genres             object\n",
              "cast               object\n",
              "vote_average      float64\n",
              "director           object\n",
              "keywords           object\n",
              "dtype: object"
            ]
          },
          "metadata": {},
          "execution_count": 31
        }
      ],
      "source": [
        "filter_tmdb_movie_credits.dtypes"
      ]
    },
    {
      "cell_type": "markdown",
      "metadata": {
        "id": "0avQt8kMaSmX"
      },
      "source": [
        "#Dataframe to CSV"
      ]
    },
    {
      "cell_type": "code",
      "execution_count": null,
      "metadata": {
        "id": "374obO7GaUat"
      },
      "outputs": [],
      "source": [
        "filter_tmdb_movie_credits.to_csv('filtered_clean_movie_credits_tmdb.csv')"
      ]
    },
    {
      "cell_type": "markdown",
      "metadata": {
        "id": "CKalS3Pg5E0W"
      },
      "source": [
        "# Load Saved Movie and Credits datasets"
      ]
    },
    {
      "cell_type": "code",
      "execution_count": null,
      "metadata": {
        "id": "ZiLlN9cCogaD"
      },
      "outputs": [],
      "source": [
        "import pandas as pd\n",
        "import numpy as np"
      ]
    },
    {
      "cell_type": "code",
      "execution_count": null,
      "metadata": {
        "id": "AGKdbhb-5HRZ"
      },
      "outputs": [],
      "source": [
        "tmdb_movie_credits = pd.read_csv('clean_movie_credits_tmdb.csv')\n",
        "filter_tmdb_movie_credits = pd.read_csv('filtered_clean_movie_credits_tmdb.csv')"
      ]
    },
    {
      "cell_type": "code",
      "execution_count": null,
      "metadata": {
        "colab": {
          "base_uri": "https://localhost:8080/"
        },
        "id": "t8HpdJn75Y_J",
        "outputId": "d6ac5849-db7c-49c5-af61-bf1c6f5d9983"
      },
      "outputs": [
        {
          "output_type": "execute_result",
          "data": {
            "text/plain": [
              "Index(['Unnamed: 0', 'budget', 'genres', 'homepage', 'id', 'keywords',\n",
              "       'original_language', 'original_title', 'overview', 'popularity',\n",
              "       'production_companies', 'production_countries', 'release_date',\n",
              "       'revenue', 'runtime', 'spoken_languages', 'status', 'tagline',\n",
              "       'title_x', 'vote_average', 'vote_count', 'movie_id', 'title_y', 'cast',\n",
              "       'director'],\n",
              "      dtype='object')"
            ]
          },
          "metadata": {},
          "execution_count": 35
        }
      ],
      "source": [
        "tmdb_movie_credits.columns"
      ]
    },
    {
      "cell_type": "code",
      "execution_count": null,
      "metadata": {
        "colab": {
          "base_uri": "https://localhost:8080/",
          "height": 803
        },
        "id": "TjibPqjHobTu",
        "outputId": "9fcb39bc-da26-482a-ad88-a1b5a0606588"
      },
      "outputs": [
        {
          "output_type": "execute_result",
          "data": {
            "text/plain": [
              "   Unnamed: 0     budget                                             genres  \\\n",
              "0           0  237000000  ['Action', 'Adventure', 'Fantasy', 'Science Fi...   \n",
              "1           1  300000000                 ['Adventure', 'Fantasy', 'Action']   \n",
              "2           2  245000000                   ['Action', 'Adventure', 'Crime']   \n",
              "3           3  250000000           ['Action', 'Crime', 'Drama', 'Thriller']   \n",
              "4           4  260000000         ['Action', 'Adventure', 'Science Fiction']   \n",
              "\n",
              "                                       homepage      id  \\\n",
              "0                   http://www.avatarmovie.com/   19995   \n",
              "1  http://disney.go.com/disneypictures/pirates/     285   \n",
              "2   http://www.sonypictures.com/movies/spectre/  206647   \n",
              "3            http://www.thedarkknightrises.com/   49026   \n",
              "4          http://movies.disney.com/john-carter   49529   \n",
              "\n",
              "                                            keywords original_language  \\\n",
              "0  ['culture clash', 'future', 'space war', 'spac...                en   \n",
              "1  ['ocean', 'drug abuse', 'exotic island', 'east...                en   \n",
              "2  ['spy', 'based on novel', 'secret agent', 'seq...                en   \n",
              "3  ['dc comics', 'crime fighter', 'terrorist', 's...                en   \n",
              "4  ['based on novel', 'mars', 'medallion', 'space...                en   \n",
              "\n",
              "                             original_title  \\\n",
              "0                                    Avatar   \n",
              "1  Pirates of the Caribbean: At World's End   \n",
              "2                                   Spectre   \n",
              "3                     The Dark Knight Rises   \n",
              "4                               John Carter   \n",
              "\n",
              "                                            overview  popularity  ...  \\\n",
              "0  In the 22nd century, a paraplegic Marine is di...  150.437577  ...   \n",
              "1  Captain Barbossa, long believed to be dead, ha...  139.082615  ...   \n",
              "2  A cryptic message from Bond’s past sends him o...  107.376788  ...   \n",
              "3  Following the death of District Attorney Harve...  112.312950  ...   \n",
              "4  John Carter is a war-weary, former military ca...   43.926995  ...   \n",
              "\n",
              "                                    spoken_languages    status  \\\n",
              "0  [{\"iso_639_1\": \"en\", \"name\": \"English\"}, {\"iso...  Released   \n",
              "1           [{\"iso_639_1\": \"en\", \"name\": \"English\"}]  Released   \n",
              "2  [{\"iso_639_1\": \"fr\", \"name\": \"Fran\\u00e7ais\"},...  Released   \n",
              "3           [{\"iso_639_1\": \"en\", \"name\": \"English\"}]  Released   \n",
              "4           [{\"iso_639_1\": \"en\", \"name\": \"English\"}]  Released   \n",
              "\n",
              "                                          tagline  \\\n",
              "0                     Enter the World of Pandora.   \n",
              "1  At the end of the world, the adventure begins.   \n",
              "2                           A Plan No One Escapes   \n",
              "3                                 The Legend Ends   \n",
              "4            Lost in our world, found in another.   \n",
              "\n",
              "                                    title_x  vote_average vote_count movie_id  \\\n",
              "0                                    Avatar           7.2      11800    19995   \n",
              "1  Pirates of the Caribbean: At World's End           6.9       4500      285   \n",
              "2                                   Spectre           6.3       4466   206647   \n",
              "3                     The Dark Knight Rises           7.6       9106    49026   \n",
              "4                               John Carter           6.1       2124    49529   \n",
              "\n",
              "                                    title_y  \\\n",
              "0                                    Avatar   \n",
              "1  Pirates of the Caribbean: At World's End   \n",
              "2                                   Spectre   \n",
              "3                     The Dark Knight Rises   \n",
              "4                               John Carter   \n",
              "\n",
              "                                                cast           director  \n",
              "0  ['Sam Worthington', 'Zoe Saldana', 'Sigourney ...      James Cameron  \n",
              "1  ['Johnny Depp', 'Orlando Bloom', 'Keira Knight...     Gore Verbinski  \n",
              "2  ['Daniel Craig', 'Christoph Waltz', 'Léa Seydo...         Sam Mendes  \n",
              "3  ['Christian Bale', 'Michael Caine', 'Gary Oldm...  Christopher Nolan  \n",
              "4  ['Taylor Kitsch', 'Lynn Collins', 'Samantha Mo...     Andrew Stanton  \n",
              "\n",
              "[5 rows x 25 columns]"
            ],
            "text/html": [
              "\n",
              "  <div id=\"df-3c472332-af02-4930-bb2c-044d7a22b5ff\">\n",
              "    <div class=\"colab-df-container\">\n",
              "      <div>\n",
              "<style scoped>\n",
              "    .dataframe tbody tr th:only-of-type {\n",
              "        vertical-align: middle;\n",
              "    }\n",
              "\n",
              "    .dataframe tbody tr th {\n",
              "        vertical-align: top;\n",
              "    }\n",
              "\n",
              "    .dataframe thead th {\n",
              "        text-align: right;\n",
              "    }\n",
              "</style>\n",
              "<table border=\"1\" class=\"dataframe\">\n",
              "  <thead>\n",
              "    <tr style=\"text-align: right;\">\n",
              "      <th></th>\n",
              "      <th>Unnamed: 0</th>\n",
              "      <th>budget</th>\n",
              "      <th>genres</th>\n",
              "      <th>homepage</th>\n",
              "      <th>id</th>\n",
              "      <th>keywords</th>\n",
              "      <th>original_language</th>\n",
              "      <th>original_title</th>\n",
              "      <th>overview</th>\n",
              "      <th>popularity</th>\n",
              "      <th>...</th>\n",
              "      <th>spoken_languages</th>\n",
              "      <th>status</th>\n",
              "      <th>tagline</th>\n",
              "      <th>title_x</th>\n",
              "      <th>vote_average</th>\n",
              "      <th>vote_count</th>\n",
              "      <th>movie_id</th>\n",
              "      <th>title_y</th>\n",
              "      <th>cast</th>\n",
              "      <th>director</th>\n",
              "    </tr>\n",
              "  </thead>\n",
              "  <tbody>\n",
              "    <tr>\n",
              "      <th>0</th>\n",
              "      <td>0</td>\n",
              "      <td>237000000</td>\n",
              "      <td>['Action', 'Adventure', 'Fantasy', 'Science Fi...</td>\n",
              "      <td>http://www.avatarmovie.com/</td>\n",
              "      <td>19995</td>\n",
              "      <td>['culture clash', 'future', 'space war', 'spac...</td>\n",
              "      <td>en</td>\n",
              "      <td>Avatar</td>\n",
              "      <td>In the 22nd century, a paraplegic Marine is di...</td>\n",
              "      <td>150.437577</td>\n",
              "      <td>...</td>\n",
              "      <td>[{\"iso_639_1\": \"en\", \"name\": \"English\"}, {\"iso...</td>\n",
              "      <td>Released</td>\n",
              "      <td>Enter the World of Pandora.</td>\n",
              "      <td>Avatar</td>\n",
              "      <td>7.2</td>\n",
              "      <td>11800</td>\n",
              "      <td>19995</td>\n",
              "      <td>Avatar</td>\n",
              "      <td>['Sam Worthington', 'Zoe Saldana', 'Sigourney ...</td>\n",
              "      <td>James Cameron</td>\n",
              "    </tr>\n",
              "    <tr>\n",
              "      <th>1</th>\n",
              "      <td>1</td>\n",
              "      <td>300000000</td>\n",
              "      <td>['Adventure', 'Fantasy', 'Action']</td>\n",
              "      <td>http://disney.go.com/disneypictures/pirates/</td>\n",
              "      <td>285</td>\n",
              "      <td>['ocean', 'drug abuse', 'exotic island', 'east...</td>\n",
              "      <td>en</td>\n",
              "      <td>Pirates of the Caribbean: At World's End</td>\n",
              "      <td>Captain Barbossa, long believed to be dead, ha...</td>\n",
              "      <td>139.082615</td>\n",
              "      <td>...</td>\n",
              "      <td>[{\"iso_639_1\": \"en\", \"name\": \"English\"}]</td>\n",
              "      <td>Released</td>\n",
              "      <td>At the end of the world, the adventure begins.</td>\n",
              "      <td>Pirates of the Caribbean: At World's End</td>\n",
              "      <td>6.9</td>\n",
              "      <td>4500</td>\n",
              "      <td>285</td>\n",
              "      <td>Pirates of the Caribbean: At World's End</td>\n",
              "      <td>['Johnny Depp', 'Orlando Bloom', 'Keira Knight...</td>\n",
              "      <td>Gore Verbinski</td>\n",
              "    </tr>\n",
              "    <tr>\n",
              "      <th>2</th>\n",
              "      <td>2</td>\n",
              "      <td>245000000</td>\n",
              "      <td>['Action', 'Adventure', 'Crime']</td>\n",
              "      <td>http://www.sonypictures.com/movies/spectre/</td>\n",
              "      <td>206647</td>\n",
              "      <td>['spy', 'based on novel', 'secret agent', 'seq...</td>\n",
              "      <td>en</td>\n",
              "      <td>Spectre</td>\n",
              "      <td>A cryptic message from Bond’s past sends him o...</td>\n",
              "      <td>107.376788</td>\n",
              "      <td>...</td>\n",
              "      <td>[{\"iso_639_1\": \"fr\", \"name\": \"Fran\\u00e7ais\"},...</td>\n",
              "      <td>Released</td>\n",
              "      <td>A Plan No One Escapes</td>\n",
              "      <td>Spectre</td>\n",
              "      <td>6.3</td>\n",
              "      <td>4466</td>\n",
              "      <td>206647</td>\n",
              "      <td>Spectre</td>\n",
              "      <td>['Daniel Craig', 'Christoph Waltz', 'Léa Seydo...</td>\n",
              "      <td>Sam Mendes</td>\n",
              "    </tr>\n",
              "    <tr>\n",
              "      <th>3</th>\n",
              "      <td>3</td>\n",
              "      <td>250000000</td>\n",
              "      <td>['Action', 'Crime', 'Drama', 'Thriller']</td>\n",
              "      <td>http://www.thedarkknightrises.com/</td>\n",
              "      <td>49026</td>\n",
              "      <td>['dc comics', 'crime fighter', 'terrorist', 's...</td>\n",
              "      <td>en</td>\n",
              "      <td>The Dark Knight Rises</td>\n",
              "      <td>Following the death of District Attorney Harve...</td>\n",
              "      <td>112.312950</td>\n",
              "      <td>...</td>\n",
              "      <td>[{\"iso_639_1\": \"en\", \"name\": \"English\"}]</td>\n",
              "      <td>Released</td>\n",
              "      <td>The Legend Ends</td>\n",
              "      <td>The Dark Knight Rises</td>\n",
              "      <td>7.6</td>\n",
              "      <td>9106</td>\n",
              "      <td>49026</td>\n",
              "      <td>The Dark Knight Rises</td>\n",
              "      <td>['Christian Bale', 'Michael Caine', 'Gary Oldm...</td>\n",
              "      <td>Christopher Nolan</td>\n",
              "    </tr>\n",
              "    <tr>\n",
              "      <th>4</th>\n",
              "      <td>4</td>\n",
              "      <td>260000000</td>\n",
              "      <td>['Action', 'Adventure', 'Science Fiction']</td>\n",
              "      <td>http://movies.disney.com/john-carter</td>\n",
              "      <td>49529</td>\n",
              "      <td>['based on novel', 'mars', 'medallion', 'space...</td>\n",
              "      <td>en</td>\n",
              "      <td>John Carter</td>\n",
              "      <td>John Carter is a war-weary, former military ca...</td>\n",
              "      <td>43.926995</td>\n",
              "      <td>...</td>\n",
              "      <td>[{\"iso_639_1\": \"en\", \"name\": \"English\"}]</td>\n",
              "      <td>Released</td>\n",
              "      <td>Lost in our world, found in another.</td>\n",
              "      <td>John Carter</td>\n",
              "      <td>6.1</td>\n",
              "      <td>2124</td>\n",
              "      <td>49529</td>\n",
              "      <td>John Carter</td>\n",
              "      <td>['Taylor Kitsch', 'Lynn Collins', 'Samantha Mo...</td>\n",
              "      <td>Andrew Stanton</td>\n",
              "    </tr>\n",
              "  </tbody>\n",
              "</table>\n",
              "<p>5 rows × 25 columns</p>\n",
              "</div>\n",
              "      <button class=\"colab-df-convert\" onclick=\"convertToInteractive('df-3c472332-af02-4930-bb2c-044d7a22b5ff')\"\n",
              "              title=\"Convert this dataframe to an interactive table.\"\n",
              "              style=\"display:none;\">\n",
              "        \n",
              "  <svg xmlns=\"http://www.w3.org/2000/svg\" height=\"24px\"viewBox=\"0 0 24 24\"\n",
              "       width=\"24px\">\n",
              "    <path d=\"M0 0h24v24H0V0z\" fill=\"none\"/>\n",
              "    <path d=\"M18.56 5.44l.94 2.06.94-2.06 2.06-.94-2.06-.94-.94-2.06-.94 2.06-2.06.94zm-11 1L8.5 8.5l.94-2.06 2.06-.94-2.06-.94L8.5 2.5l-.94 2.06-2.06.94zm10 10l.94 2.06.94-2.06 2.06-.94-2.06-.94-.94-2.06-.94 2.06-2.06.94z\"/><path d=\"M17.41 7.96l-1.37-1.37c-.4-.4-.92-.59-1.43-.59-.52 0-1.04.2-1.43.59L10.3 9.45l-7.72 7.72c-.78.78-.78 2.05 0 2.83L4 21.41c.39.39.9.59 1.41.59.51 0 1.02-.2 1.41-.59l7.78-7.78 2.81-2.81c.8-.78.8-2.07 0-2.86zM5.41 20L4 18.59l7.72-7.72 1.47 1.35L5.41 20z\"/>\n",
              "  </svg>\n",
              "      </button>\n",
              "      \n",
              "  <style>\n",
              "    .colab-df-container {\n",
              "      display:flex;\n",
              "      flex-wrap:wrap;\n",
              "      gap: 12px;\n",
              "    }\n",
              "\n",
              "    .colab-df-convert {\n",
              "      background-color: #E8F0FE;\n",
              "      border: none;\n",
              "      border-radius: 50%;\n",
              "      cursor: pointer;\n",
              "      display: none;\n",
              "      fill: #1967D2;\n",
              "      height: 32px;\n",
              "      padding: 0 0 0 0;\n",
              "      width: 32px;\n",
              "    }\n",
              "\n",
              "    .colab-df-convert:hover {\n",
              "      background-color: #E2EBFA;\n",
              "      box-shadow: 0px 1px 2px rgba(60, 64, 67, 0.3), 0px 1px 3px 1px rgba(60, 64, 67, 0.15);\n",
              "      fill: #174EA6;\n",
              "    }\n",
              "\n",
              "    [theme=dark] .colab-df-convert {\n",
              "      background-color: #3B4455;\n",
              "      fill: #D2E3FC;\n",
              "    }\n",
              "\n",
              "    [theme=dark] .colab-df-convert:hover {\n",
              "      background-color: #434B5C;\n",
              "      box-shadow: 0px 1px 3px 1px rgba(0, 0, 0, 0.15);\n",
              "      filter: drop-shadow(0px 1px 2px rgba(0, 0, 0, 0.3));\n",
              "      fill: #FFFFFF;\n",
              "    }\n",
              "  </style>\n",
              "\n",
              "      <script>\n",
              "        const buttonEl =\n",
              "          document.querySelector('#df-3c472332-af02-4930-bb2c-044d7a22b5ff button.colab-df-convert');\n",
              "        buttonEl.style.display =\n",
              "          google.colab.kernel.accessAllowed ? 'block' : 'none';\n",
              "\n",
              "        async function convertToInteractive(key) {\n",
              "          const element = document.querySelector('#df-3c472332-af02-4930-bb2c-044d7a22b5ff');\n",
              "          const dataTable =\n",
              "            await google.colab.kernel.invokeFunction('convertToInteractive',\n",
              "                                                     [key], {});\n",
              "          if (!dataTable) return;\n",
              "\n",
              "          const docLinkHtml = 'Like what you see? Visit the ' +\n",
              "            '<a target=\"_blank\" href=https://colab.research.google.com/notebooks/data_table.ipynb>data table notebook</a>'\n",
              "            + ' to learn more about interactive tables.';\n",
              "          element.innerHTML = '';\n",
              "          dataTable['output_type'] = 'display_data';\n",
              "          await google.colab.output.renderOutput(dataTable, element);\n",
              "          const docLink = document.createElement('div');\n",
              "          docLink.innerHTML = docLinkHtml;\n",
              "          element.appendChild(docLink);\n",
              "        }\n",
              "      </script>\n",
              "    </div>\n",
              "  </div>\n",
              "  "
            ]
          },
          "metadata": {},
          "execution_count": 36
        }
      ],
      "source": [
        "tmdb_movie_credits.head()"
      ]
    },
    {
      "cell_type": "code",
      "execution_count": null,
      "metadata": {
        "id": "fqKs8S0BpDjC"
      },
      "outputs": [],
      "source": [
        "genreList = []\n",
        "for index, row in tmdb_movie_credits.iterrows():\n",
        "    genres = str(row[\"genres\"])[2:-2]\n",
        "    genres = genres.split(\"', '\")    \n",
        "    for genre in genres:\n",
        "        if genre not in genreList:\n",
        "            genreList.append(genre)"
      ]
    },
    {
      "cell_type": "code",
      "execution_count": null,
      "metadata": {
        "id": "XpTz1m0ap2Lx"
      },
      "outputs": [],
      "source": [
        "castList = []\n",
        "for index, row in tmdb_movie_credits.iterrows():\n",
        "    cast = str(row[\"cast\"])[2:-2]\n",
        "    cast = cast.split(\"', '\")  \n",
        "    \n",
        "    for i in cast:\n",
        "        if i not in castList:\n",
        "            castList.append(i)"
      ]
    },
    {
      "cell_type": "code",
      "execution_count": null,
      "metadata": {
        "id": "5Wi0IrsyqCWB"
      },
      "outputs": [],
      "source": [
        "directorList=[]\n",
        "for i in tmdb_movie_credits['director']:\n",
        "    if i not in directorList:\n",
        "        directorList.append(i)"
      ]
    },
    {
      "cell_type": "code",
      "execution_count": null,
      "metadata": {
        "id": "l9_LH__JqGnp"
      },
      "outputs": [],
      "source": [
        "words_list = []\n",
        "for index, row in tmdb_movie_credits.iterrows():\n",
        "    keywords = str(row[\"keywords\"])[2:-2]\n",
        "    keywords = keywords.split(\"', '\")  \n",
        "    \n",
        "    for k in keywords:\n",
        "        if k not in words_list:\n",
        "            words_list.append(k)"
      ]
    },
    {
      "cell_type": "code",
      "execution_count": null,
      "metadata": {
        "id": "qzFCvIxysf-_"
      },
      "outputs": [],
      "source": [
        "tmdb_movie_credits = pd.get_dummies(tmdb_movie_credits, columns=[\"original_language\",\"status\"], prefix=[\"language\",\"status\"])"
      ]
    },
    {
      "cell_type": "code",
      "execution_count": null,
      "metadata": {
        "id": "APEd27hctZDt"
      },
      "outputs": [],
      "source": [
        "for genre in genreList:\n",
        "  tmdb_movie_credits[genre] = np.where(genre in str(tmdb_movie_credits[\"genres\"]), 1, 0)"
      ]
    },
    {
      "cell_type": "code",
      "execution_count": null,
      "metadata": {
        "id": "UNp9qgE1uG-A"
      },
      "outputs": [],
      "source": [
        "columns_numeric = [\"budget\", \"popularity\", \"revenue\", \"runtime\", \"vote_average\", \"vote_count\"]"
      ]
    },
    {
      "cell_type": "code",
      "execution_count": null,
      "metadata": {
        "id": "-fN1LvefuqUU"
      },
      "outputs": [],
      "source": [
        "language_categorical = ['language_af', 'language_ar',\n",
        "       'language_cn', 'language_cs', 'language_da', 'language_de',\n",
        "       'language_el', 'language_en', 'language_es', 'language_fa',\n",
        "       'language_fr', 'language_he', 'language_hi', 'language_hu',\n",
        "       'language_id', 'language_is', 'language_it', 'language_ja',\n",
        "       'language_ko', 'language_ky', 'language_nb', 'language_nl',\n",
        "       'language_no', 'language_pl', 'language_ps', 'language_pt',\n",
        "       'language_ro', 'language_ru', 'language_sl', 'language_sv',\n",
        "       'language_ta', 'language_te', 'language_th', 'language_tr',\n",
        "       'language_vi', 'language_xx', 'language_zh',]"
      ]
    },
    {
      "cell_type": "code",
      "execution_count": null,
      "metadata": {
        "id": "LY1y4i75wjSy"
      },
      "outputs": [],
      "source": [
        "genre_categorical = ['Action', 'Adventure', 'Fantasy', 'Science Fiction', 'Crime', 'Drama',\n",
        "       'Thriller', 'Animation', 'Family', 'Western', 'Comedy', 'Romance',\n",
        "       'Horror', 'Mystery', 'History', 'War', 'Music', 'Documentary',\n",
        "       'Foreign', 'TV Movie', '']"
      ]
    },
    {
      "cell_type": "code",
      "execution_count": null,
      "metadata": {
        "id": "zcvzKW1hr1F3"
      },
      "outputs": [],
      "source": [
        "pca_features_movies = tmdb_movie_credits[ columns_numeric + language_categorical + genre_categorical ]"
      ]
    },
    {
      "cell_type": "markdown",
      "metadata": {
        "id": "Xq8Xxdmmu7vd"
      },
      "source": [
        "# Principal Component Analysis"
      ]
    },
    {
      "cell_type": "code",
      "execution_count": null,
      "metadata": {
        "id": "jt6VBGjgrhyX"
      },
      "outputs": [],
      "source": [
        "from sklearn.decomposition import PCA\n",
        "import matplotlib.pyplot as plot"
      ]
    },
    {
      "cell_type": "code",
      "execution_count": null,
      "metadata": {
        "id": "pJc0d07PxUmg"
      },
      "outputs": [],
      "source": [
        "pca_features_movies_normalized = (pca_features_movies - pca_features_movies.mean()) / (pca_features_movies.std()+1)"
      ]
    },
    {
      "cell_type": "code",
      "execution_count": null,
      "metadata": {
        "id": "mHhuGHqrxXwA"
      },
      "outputs": [],
      "source": [
        "pca_features_movies_normalized[\"runtime\"] = pca_features_movies_normalized[\"runtime\"].fillna(0)"
      ]
    },
    {
      "cell_type": "code",
      "execution_count": null,
      "metadata": {
        "colab": {
          "base_uri": "https://localhost:8080/"
        },
        "id": "OGIvnrErri4e",
        "outputId": "b15defb0-80a5-4f49-fbba-a25e8d3e8adc"
      },
      "outputs": [
        {
          "output_type": "execute_result",
          "data": {
            "text/plain": [
              "PCA(n_components=64)"
            ]
          },
          "metadata": {},
          "execution_count": 50
        }
      ],
      "source": [
        "pca = PCA(n_components=pca_features_movies_normalized.shape[1])\n",
        "pca.fit(pca_features_movies_normalized)"
      ]
    },
    {
      "cell_type": "code",
      "execution_count": null,
      "metadata": {
        "colab": {
          "base_uri": "https://localhost:8080/"
        },
        "id": "B2yCq8HrrrXJ",
        "outputId": "06930a92-bb64-42c6-87a3-37f4e873d418"
      },
      "outputs": [
        {
          "output_type": "stream",
          "name": "stdout",
          "text": [
            "                   PC0       PC1       PC2       PC3       PC4       PC5  \\\n",
            "budget        0.455748 -0.079330 -0.707000  0.371212 -0.345487 -0.168135   \n",
            "popularity    0.455527 -0.132860  0.537686  0.612761  0.029034  0.330714   \n",
            "revenue       0.511821 -0.152938 -0.203038 -0.545038  0.272145  0.549775   \n",
            "runtime       0.222157  0.941889 -0.040922  0.069004  0.237821 -0.009446   \n",
            "vote_average  0.097361  0.229273  0.251628 -0.304901 -0.862404  0.190291   \n",
            "...                ...       ...       ...       ...       ...       ...   \n",
            "Music        -0.000000  0.000000  0.000000 -0.000000 -0.000000  0.000000   \n",
            "Documentary  -0.000000  0.000000  0.000000 -0.000000 -0.000000  0.000000   \n",
            "Foreign      -0.000000  0.000000  0.000000 -0.000000 -0.000000  0.000000   \n",
            "TV Movie     -0.000000  0.000000  0.000000 -0.000000 -0.000000  0.000000   \n",
            "             -0.000000  0.000000  0.000000 -0.000000 -0.000000  0.000000   \n",
            "\n",
            "                   PC6       PC7       PC8       PC9  ...  PC54  PC55  PC56  \\\n",
            "budget        0.026416 -0.002787  0.000928 -0.001474  ...   0.0   0.0   0.0   \n",
            "popularity    0.006444  0.000122 -0.000728  0.000047  ...   0.0   0.0   0.0   \n",
            "revenue      -0.005775  0.001484  0.000212 -0.001067  ...   0.0   0.0   0.0   \n",
            "runtime      -0.017559  0.006190  0.002318 -0.001476  ...   0.0   0.0   0.0   \n",
            "vote_average -0.040438 -0.000381 -0.003046  0.000434  ...   0.0   0.0   0.0   \n",
            "...                ...       ...       ...       ...  ...   ...   ...   ...   \n",
            "Music        -0.000000  0.000000  0.000000  0.000000  ...   0.0   0.0   0.0   \n",
            "Documentary  -0.000000  0.000000  0.000000  0.000000  ...   0.0   0.0   0.0   \n",
            "Foreign      -0.000000  0.000000  0.000000  0.000000  ...   0.0   0.0   0.0   \n",
            "TV Movie     -0.000000  0.000000  0.000000  0.000000  ...   0.0   0.0   0.0   \n",
            "             -0.000000  0.000000  0.000000  0.000000  ...   0.0   0.0   0.0   \n",
            "\n",
            "              PC57  PC58  PC59  PC60  PC61  PC62  PC63  \n",
            "budget         0.0   0.0   0.0   0.0   0.0   0.0   0.0  \n",
            "popularity     0.0   0.0   0.0   0.0   0.0   0.0   0.0  \n",
            "revenue        0.0   0.0   0.0   0.0   0.0   0.0   0.0  \n",
            "runtime        0.0   0.0   0.0   0.0   0.0   0.0   0.0  \n",
            "vote_average   0.0   0.0   0.0   0.0   0.0   0.0   0.0  \n",
            "...            ...   ...   ...   ...   ...   ...   ...  \n",
            "Music          0.0   0.0   1.0   0.0   0.0   0.0   0.0  \n",
            "Documentary    0.0   0.0   0.0   1.0   0.0   0.0   0.0  \n",
            "Foreign        0.0   0.0   0.0   0.0   1.0   0.0   0.0  \n",
            "TV Movie       0.0   0.0   0.0   0.0   0.0   1.0   0.0  \n",
            "               0.0   0.0   0.0   0.0   0.0   0.0   1.0  \n",
            "\n",
            "[64 rows x 64 columns]\n"
          ]
        }
      ],
      "source": [
        "# Reformat and view results\n",
        "loadings = pd.DataFrame(pca.components_.T,\n",
        "columns=['PC%s' % _ for _ in range(len(pca_features_movies_normalized.columns))],\n",
        "index=pca_features_movies_normalized.columns)\n",
        "print(loadings)"
      ]
    },
    {
      "cell_type": "code",
      "execution_count": null,
      "metadata": {
        "colab": {
          "base_uri": "https://localhost:8080/",
          "height": 279
        },
        "id": "x7qzoU-2rwDd",
        "outputId": "f837124f-b9d7-453c-85e9-7bbb47c19418"
      },
      "outputs": [
        {
          "output_type": "display_data",
          "data": {
            "text/plain": [
              "<Figure size 432x288 with 1 Axes>"
            ],
            "image/png": "[encoded data removed]"
          },
          "metadata": {
            "needs_background": "light"
          }
        }
      ],
      "source": [
        "plot.plot(pca.explained_variance_ratio_)\n",
        "plot.ylabel('Explained Variance')\n",
        "plot.xlabel('Components')\n",
        "plot.show()"
      ]
    },
    {
      "cell_type": "code",
      "execution_count": null,
      "metadata": {
        "id": "VXpnnujDyufj"
      },
      "outputs": [],
      "source": [
        "num_features = 8"
      ]
    },
    {
      "cell_type": "code",
      "execution_count": null,
      "metadata": {
        "colab": {
          "base_uri": "https://localhost:8080/"
        },
        "id": "LobzHI2xywtY",
        "outputId": "329d9042-84cb-481f-8b7f-2ac8de5df073"
      },
      "outputs": [
        {
          "output_type": "execute_result",
          "data": {
            "text/plain": [
              "PCA(n_components=8)"
            ]
          },
          "metadata": {},
          "execution_count": 54
        }
      ],
      "source": [
        "pca = PCA(n_components = num_features)\n",
        "pca.fit(pca_features_movies_normalized)"
      ]
    },
    {
      "cell_type": "code",
      "execution_count": null,
      "metadata": {
        "id": "oco7ptzXy2Zk"
      },
      "outputs": [],
      "source": [
        "pca_transform = pca.transform(pca_features_movies_normalized)"
      ]
    },
    {
      "cell_type": "code",
      "execution_count": null,
      "metadata": {
        "colab": {
          "base_uri": "https://localhost:8080/"
        },
        "id": "eETXNn1ZymW7",
        "outputId": "9fc690bc-1e2b-49ae-a7c4-edee5fd6bb2b"
      },
      "outputs": [
        {
          "output_type": "execute_result",
          "data": {
            "text/plain": [
              "(4803, 8)"
            ]
          },
          "metadata": {},
          "execution_count": 56
        }
      ],
      "source": [
        "pca_transform.shape"
      ]
    },
    {
      "cell_type": "code",
      "execution_count": null,
      "metadata": {
        "id": "qQNL0-SLy-iV"
      },
      "outputs": [],
      "source": [
        "pd.DataFrame(pca_transform).to_csv('movie_pca_features.csv')"
      ]
    },
    {
      "cell_type": "markdown",
      "metadata": {
        "id": "By_Xk03vzYbM"
      },
      "source": [
        "# K Nearest Neighbors Recommendation"
      ]
    },
    {
      "cell_type": "code",
      "execution_count": null,
      "metadata": {
        "id": "RHNoD83DppDj"
      },
      "outputs": [],
      "source": [
        "def binary(col_list):\n",
        "    binaryList = []\n",
        "    \n",
        "    for genre in genreList:\n",
        "        if genre in col_list:\n",
        "            binaryList.append(1)\n",
        "        else:\n",
        "            binaryList.append(0)\n",
        "    \n",
        "    return binaryList"
      ]
    },
    {
      "cell_type": "code",
      "execution_count": null,
      "metadata": {
        "id": "CxG0G5QMppS0"
      },
      "outputs": [],
      "source": [
        "# tmdb_movie_credits['genres_bin'] = tmdb_movie_credits['genres'].apply(lambda x: binary(x))\n",
        "# tmdb_movie_credits['cast_bin'] = tmdb_movie_credits['cast'].apply(lambda x: binary(x))\n",
        "# tmdb_movie_credits['director_bin'] = tmdb_movie_credits['director'].apply(lambda x: binary(x))"
      ]
    },
    {
      "cell_type": "code",
      "execution_count": null,
      "metadata": {
        "id": "AfR_z3guqJwI"
      },
      "outputs": [],
      "source": [
        "from scipy import spatial\n",
        "\n",
        "def Similarity(movieId1, movieId2):\n",
        "    # a = tmdb_movie_credits.iloc[movieId1]\n",
        "    # b = tmdb_movie_credits.iloc[movieId2]\n",
        "\n",
        "    pcaDistance = spatial.distance.cosine(pca_transform[movieId1], pca_transform[movieId2])\n",
        "    # genresA = a['genres_bin']\n",
        "    # genresB = b['genres_bin']\n",
        "    \n",
        "    # genreDistance = spatial.distance.cosine(genresA, genresB)\n",
        "    \n",
        "    # scoreA = a['cast_bin']\n",
        "    # scoreB = b['cast_bin']\n",
        "    # scoreDistance = spatial.distance.cosine(scoreA, scoreB)\n",
        "    \n",
        "    # directA = a['director_bin']\n",
        "    # directB = b['director_bin']\n",
        "    # directDistance = spatial.distance.cosine(directA, directB)\n",
        "    \n",
        "    # wordsA = a['words_bin']\n",
        "    # wordsB = b['words_bin']\n",
        "    # wordsDistance = spatial.distance.cosine(directA, directB)\n",
        "    return pcaDistance #+ genreDistance + directDistance + scoreDistance + wordsDistance"
      ]
    },
    {
      "cell_type": "code",
      "execution_count": null,
      "metadata": {
        "id": "bLzc942KqVRH"
      },
      "outputs": [],
      "source": [
        "new_id = list(range(0,tmdb_movie_credits.shape[0]))\n",
        "tmdb_movie_credits['new_id']=new_id"
      ]
    },
    {
      "cell_type": "code",
      "execution_count": null,
      "metadata": {
        "id": "58XwQCerqeMK"
      },
      "outputs": [],
      "source": [
        "tmdb_movie_credits_recommendation = tmdb_movie_credits[['original_title','genres','vote_average','new_id','director']]"
      ]
    },
    {
      "cell_type": "code",
      "execution_count": null,
      "metadata": {
        "id": "rvbonbMKqpk9"
      },
      "outputs": [],
      "source": [
        "import operator"
      ]
    },
    {
      "cell_type": "code",
      "execution_count": null,
      "metadata": {
        "id": "8p1Wqz7q19SB"
      },
      "outputs": [],
      "source": [
        "def getNeighbors(baseMovie, K):\n",
        "    distances = []\n",
        "\n",
        "    for index, movie in tmdb_movie_credits_recommendation.iterrows():\n",
        "        if movie['new_id'] != baseMovie['new_id'].values[0]:\n",
        "            dist = Similarity(baseMovie['new_id'].values[0], movie['new_id'])\n",
        "            distances.append((movie['new_id'], dist))\n",
        "\n",
        "    distances.sort(key=operator.itemgetter(1))\n",
        "    neighbors = []\n",
        "\n",
        "    for x in range(K):\n",
        "        neighbors.append(distances[x])\n",
        "    return neighbors"
      ]
    },
    {
      "cell_type": "code",
      "execution_count": null,
      "metadata": {
        "id": "0qSP5mXiqiSh"
      },
      "outputs": [],
      "source": [
        "def predict_score(name):\n",
        "    #name = input('Enter a movie title: ')\n",
        "    new_movie = tmdb_movie_credits_recommendation[tmdb_movie_credits_recommendation['original_title'].str.contains(name)].iloc[0].to_frame().T\n",
        "    print('Selected Movie: ',new_movie.original_title.values[0])\n",
        "\n",
        "    K = 10\n",
        "    avgRating = 0\n",
        "    neighbors = getNeighbors(new_movie, K)\n",
        "    \n",
        "    print('\\nRecommended Movies: \\n')\n",
        "    for neighbor in neighbors:\n",
        "        avgRating = avgRating+tmdb_movie_credits.iloc[neighbor[0]][2]  \n",
        "        print( tmdb_movie_credits.iloc[neighbor[0]][0]+\" | Genres: \"+str(tmdb_movie_credits.iloc[neighbor[0]][1]).strip('[]').replace(' ','')+\" | Rating: \"+str(tmdb_movie_credits.iloc[neighbor[0]][2]))\n",
        "    \n",
        "    print('\\n')\n",
        "    avgRating = avgRating/K\n",
        "    print('The predicted rating for %s is: %f' %(new_movie['original_title'].values[0],avgRating))\n",
        "    print('The actual rating for %s is %f' %(new_movie['original_title'].values[0],new_movie['vote_average']))"
      ]
    },
    {
      "cell_type": "code",
      "execution_count": null,
      "metadata": {
        "colab": {
          "base_uri": "https://localhost:8080/",
          "height": 373
        },
        "id": "1hWBFCcCq2Xv",
        "outputId": "368a7682-095d-4766-b78b-c031d1b205b4"
      },
      "outputs": [
        {
          "output_type": "stream",
          "name": "stdout",
          "text": [
            "Selected Movie:  The Godfather: Part III\n",
            "\n",
            "Recommended Movies: \n",
            "\n"
          ]
        },
        {
          "output_type": "error",
          "ename": "TypeError",
          "evalue": "ignored",
          "traceback": [
            "\u001b[0;31m---------------------------------------------------------------------------\u001b[0m",
            "\u001b[0;31mTypeError\u001b[0m                                 Traceback (most recent call last)",
            "\u001b[0;32m<ipython-input-66-1f7589b87aa2>\u001b[0m in \u001b[0;36m<module>\u001b[0;34m\u001b[0m\n\u001b[0;32m----> 1\u001b[0;31m \u001b[0mpredict_score\u001b[0m\u001b[0;34m(\u001b[0m\u001b[0;34m'Godfather'\u001b[0m\u001b[0;34m)\u001b[0m\u001b[0;34m\u001b[0m\u001b[0;34m\u001b[0m\u001b[0m\n\u001b[0m",
            "\u001b[0;32m<ipython-input-65-d172066408e4>\u001b[0m in \u001b[0;36mpredict_score\u001b[0;34m(name)\u001b[0m\n\u001b[1;32m     10\u001b[0m     \u001b[0mprint\u001b[0m\u001b[0;34m(\u001b[0m\u001b[0;34m'\\nRecommended Movies: \\n'\u001b[0m\u001b[0;34m)\u001b[0m\u001b[0;34m\u001b[0m\u001b[0;34m\u001b[0m\u001b[0m\n\u001b[1;32m     11\u001b[0m     \u001b[0;32mfor\u001b[0m \u001b[0mneighbor\u001b[0m \u001b[0;32min\u001b[0m \u001b[0mneighbors\u001b[0m\u001b[0;34m:\u001b[0m\u001b[0;34m\u001b[0m\u001b[0;34m\u001b[0m\u001b[0m\n\u001b[0;32m---> 12\u001b[0;31m         \u001b[0mavgRating\u001b[0m \u001b[0;34m=\u001b[0m \u001b[0mavgRating\u001b[0m\u001b[0;34m+\u001b[0m\u001b[0mtmdb_movie_credits\u001b[0m\u001b[0;34m.\u001b[0m\u001b[0miloc\u001b[0m\u001b[0;34m[\u001b[0m\u001b[0mneighbor\u001b[0m\u001b[0;34m[\u001b[0m\u001b[0;36m0\u001b[0m\u001b[0;34m]\u001b[0m\u001b[0;34m]\u001b[0m\u001b[0;34m[\u001b[0m\u001b[0;36m2\u001b[0m\u001b[0;34m]\u001b[0m\u001b[0;34m\u001b[0m\u001b[0;34m\u001b[0m\u001b[0m\n\u001b[0m\u001b[1;32m     13\u001b[0m         \u001b[0mprint\u001b[0m\u001b[0;34m(\u001b[0m \u001b[0mtmdb_movie_credits\u001b[0m\u001b[0;34m.\u001b[0m\u001b[0miloc\u001b[0m\u001b[0;34m[\u001b[0m\u001b[0mneighbor\u001b[0m\u001b[0;34m[\u001b[0m\u001b[0;36m0\u001b[0m\u001b[0;34m]\u001b[0m\u001b[0;34m]\u001b[0m\u001b[0;34m[\u001b[0m\u001b[0;36m0\u001b[0m\u001b[0;34m]\u001b[0m\u001b[0;34m+\u001b[0m\u001b[0;34m\" | Genres: \"\u001b[0m\u001b[0;34m+\u001b[0m\u001b[0mstr\u001b[0m\u001b[0;34m(\u001b[0m\u001b[0mtmdb_movie_credits\u001b[0m\u001b[0;34m.\u001b[0m\u001b[0miloc\u001b[0m\u001b[0;34m[\u001b[0m\u001b[0mneighbor\u001b[0m\u001b[0;34m[\u001b[0m\u001b[0;36m0\u001b[0m\u001b[0;34m]\u001b[0m\u001b[0;34m]\u001b[0m\u001b[0;34m[\u001b[0m\u001b[0;36m1\u001b[0m\u001b[0;34m]\u001b[0m\u001b[0;34m)\u001b[0m\u001b[0;34m.\u001b[0m\u001b[0mstrip\u001b[0m\u001b[0;34m(\u001b[0m\u001b[0;34m'[]'\u001b[0m\u001b[0;34m)\u001b[0m\u001b[0;34m.\u001b[0m\u001b[0mreplace\u001b[0m\u001b[0;34m(\u001b[0m\u001b[0;34m' '\u001b[0m\u001b[0;34m,\u001b[0m\u001b[0;34m''\u001b[0m\u001b[0;34m)\u001b[0m\u001b[0;34m+\u001b[0m\u001b[0;34m\" | Rating: \"\u001b[0m\u001b[0;34m+\u001b[0m\u001b[0mstr\u001b[0m\u001b[0;34m(\u001b[0m\u001b[0mtmdb_movie_credits\u001b[0m\u001b[0;34m.\u001b[0m\u001b[0miloc\u001b[0m\u001b[0;34m[\u001b[0m\u001b[0mneighbor\u001b[0m\u001b[0;34m[\u001b[0m\u001b[0;36m0\u001b[0m\u001b[0;34m]\u001b[0m\u001b[0;34m]\u001b[0m\u001b[0;34m[\u001b[0m\u001b[0;36m2\u001b[0m\u001b[0;34m]\u001b[0m\u001b[0;34m)\u001b[0m\u001b[0;34m)\u001b[0m\u001b[0;34m\u001b[0m\u001b[0;34m\u001b[0m\u001b[0m\n\u001b[1;32m     14\u001b[0m \u001b[0;34m\u001b[0m\u001b[0m\n",
            "\u001b[0;31mTypeError\u001b[0m: unsupported operand type(s) for +: 'int' and 'str'"
          ]
        }
      ],
      "source": [
        "predict_score('Godfather')"
      ]
    },
    {
      "cell_type": "markdown",
      "metadata": {
        "id": "o3Oxl4Qi1UUu"
      },
      "source": [
        "# Process all recommended movies for each movie"
      ]
    },
    {
      "cell_type": "code",
      "execution_count": null,
      "metadata": {
        "colab": {
          "base_uri": "https://localhost:8080/",
          "height": 235
        },
        "id": "lSXNpt2U0mFv",
        "outputId": "56ed6a51-f340-4e00-bde3-297b7ce6820b"
      },
      "outputs": [
        {
          "output_type": "error",
          "ename": "TypeError",
          "evalue": "ignored",
          "traceback": [
            "\u001b[0;31m---------------------------------------------------------------------------\u001b[0m",
            "\u001b[0;31mTypeError\u001b[0m                                 Traceback (most recent call last)",
            "\u001b[0;32m<ipython-input-67-9501cd5afa63>\u001b[0m in \u001b[0;36m<module>\u001b[0;34m\u001b[0m\n\u001b[1;32m     11\u001b[0m   \u001b[0mratings\u001b[0m \u001b[0;34m=\u001b[0m \u001b[0;34m[\u001b[0m\u001b[0;34m]\u001b[0m\u001b[0;34m\u001b[0m\u001b[0;34m\u001b[0m\u001b[0m\n\u001b[1;32m     12\u001b[0m   \u001b[0;32mfor\u001b[0m \u001b[0mneighbor\u001b[0m \u001b[0;32min\u001b[0m \u001b[0mneighbors\u001b[0m\u001b[0;34m:\u001b[0m\u001b[0;34m\u001b[0m\u001b[0;34m\u001b[0m\u001b[0m\n\u001b[0;32m---> 13\u001b[0;31m       \u001b[0mavgRating\u001b[0m \u001b[0;34m=\u001b[0m \u001b[0mavgRating\u001b[0m\u001b[0;34m+\u001b[0m\u001b[0mtmdb_movie_credits\u001b[0m\u001b[0;34m.\u001b[0m\u001b[0miloc\u001b[0m\u001b[0;34m[\u001b[0m\u001b[0mneighbor\u001b[0m\u001b[0;34m[\u001b[0m\u001b[0;36m0\u001b[0m\u001b[0;34m]\u001b[0m\u001b[0;34m]\u001b[0m\u001b[0;34m[\u001b[0m\u001b[0;36m2\u001b[0m\u001b[0;34m]\u001b[0m\u001b[0;34m\u001b[0m\u001b[0;34m\u001b[0m\u001b[0m\n\u001b[0m\u001b[1;32m     14\u001b[0m       \u001b[0mnames\u001b[0m\u001b[0;34m.\u001b[0m\u001b[0mappend\u001b[0m\u001b[0;34m(\u001b[0m\u001b[0mtmdb_movie_credits\u001b[0m\u001b[0;34m.\u001b[0m\u001b[0miloc\u001b[0m\u001b[0;34m[\u001b[0m\u001b[0mneighbor\u001b[0m\u001b[0;34m[\u001b[0m\u001b[0;36m0\u001b[0m\u001b[0;34m]\u001b[0m\u001b[0;34m]\u001b[0m\u001b[0;34m[\u001b[0m\u001b[0;36m0\u001b[0m\u001b[0;34m]\u001b[0m\u001b[0;34m)\u001b[0m\u001b[0;34m\u001b[0m\u001b[0;34m\u001b[0m\u001b[0m\n\u001b[1;32m     15\u001b[0m       \u001b[0mgenres\u001b[0m\u001b[0;34m.\u001b[0m\u001b[0mappend\u001b[0m\u001b[0;34m(\u001b[0m\u001b[0mstr\u001b[0m\u001b[0;34m(\u001b[0m\u001b[0mtmdb_movie_credits\u001b[0m\u001b[0;34m.\u001b[0m\u001b[0miloc\u001b[0m\u001b[0;34m[\u001b[0m\u001b[0mneighbor\u001b[0m\u001b[0;34m[\u001b[0m\u001b[0;36m0\u001b[0m\u001b[0;34m]\u001b[0m\u001b[0;34m]\u001b[0m\u001b[0;34m[\u001b[0m\u001b[0;36m1\u001b[0m\u001b[0;34m]\u001b[0m\u001b[0;34m)\u001b[0m\u001b[0;34m.\u001b[0m\u001b[0mstrip\u001b[0m\u001b[0;34m(\u001b[0m\u001b[0;34m'[]'\u001b[0m\u001b[0;34m)\u001b[0m\u001b[0;34m.\u001b[0m\u001b[0mreplace\u001b[0m\u001b[0;34m(\u001b[0m\u001b[0;34m' '\u001b[0m\u001b[0;34m,\u001b[0m\u001b[0;34m''\u001b[0m\u001b[0;34m)\u001b[0m\u001b[0;34m)\u001b[0m\u001b[0;34m\u001b[0m\u001b[0;34m\u001b[0m\u001b[0m\n",
            "\u001b[0;31mTypeError\u001b[0m: unsupported operand type(s) for +: 'int' and 'str'"
          ]
        }
      ],
      "source": [
        "recommended_movies = []\n",
        "for index, movie in tmdb_movie_credits_recommendation.iterrows():\n",
        "  name = movie[\"original_title\"]\n",
        "  new_movie = tmdb_movie_credits_recommendation[tmdb_movie_credits_recommendation['original_title'].str.contains(name)].iloc[0].to_frame().T\n",
        "  \n",
        "  K = 10\n",
        "  avgRating = 0\n",
        "  neighbors = getNeighbors(new_movie, K)\n",
        "  names = []\n",
        "  genres = []\n",
        "  ratings = []\n",
        "  for neighbor in neighbors:\n",
        "      avgRating = avgRating+tmdb_movie_credits.iloc[neighbor[0]][2]  \n",
        "      names.append(tmdb_movie_credits.iloc[neighbor[0]][0])\n",
        "      genres.append(str(tmdb_movie_credits.iloc[neighbor[0]][1]).strip('[]').replace(' ',''))\n",
        "      ratings.append(str(tmdb_movie_credits.iloc[neighbor[0]][2]))\n",
        "    \n",
        "\n",
        "  recommended_movies.append([new_movie['original_title'].item()] + names + genres + ratings + [avgRating / K, float(new_movie['vote_average'])])\n",
        "\n",
        "recommendations_dataframe = pd.DataFrame(recommended_movies)\n",
        "col_names = [f'Recommend Name {i}' for i in range(K)]\n",
        "col_genres = [f'Recommend Genres{i}' for i in range(K)]\n",
        "col_ratings = [f'Recommend Rating{i}' for i in range(K)]\n",
        "recommendations_dataframe.columns =['Name'] + col_names + col_genres + col_ratings + ['Predicted Rating', 'Actual Rating']"
      ]
    },
    {
      "cell_type": "code",
      "execution_count": null,
      "metadata": {
        "colab": {
          "base_uri": "https://localhost:8080/",
          "height": 165
        },
        "id": "Zp5HCXrR3nEU",
        "outputId": "00d754fd-b96c-4fb0-9f95-3ed3bcf2fc15"
      },
      "outputs": [
        {
          "output_type": "error",
          "ename": "NameError",
          "evalue": "ignored",
          "traceback": [
            "\u001b[0;31m---------------------------------------------------------------------------\u001b[0m",
            "\u001b[0;31mNameError\u001b[0m                                 Traceback (most recent call last)",
            "\u001b[0;32m<ipython-input-68-dcd5102a6c63>\u001b[0m in \u001b[0;36m<module>\u001b[0;34m\u001b[0m\n\u001b[0;32m----> 1\u001b[0;31m \u001b[0mrecommendations_dataframe\u001b[0m\u001b[0;34m.\u001b[0m\u001b[0mhead\u001b[0m\u001b[0;34m(\u001b[0m\u001b[0;34m)\u001b[0m\u001b[0;34m\u001b[0m\u001b[0;34m\u001b[0m\u001b[0m\n\u001b[0m",
            "\u001b[0;31mNameError\u001b[0m: name 'recommendations_dataframe' is not defined"
          ]
        }
      ],
      "source": [
        "recommendations_dataframe.head()"
      ]
    },
    {
      "cell_type": "code",
      "execution_count": null,
      "metadata": {
        "colab": {
          "base_uri": "https://localhost:8080/",
          "height": 165
        },
        "id": "6oAkFk2E3Oug",
        "outputId": "cae3029b-7acf-4048-e910-378be21b32ee"
      },
      "outputs": [
        {
          "output_type": "error",
          "ename": "NameError",
          "evalue": "ignored",
          "traceback": [
            "\u001b[0;31m---------------------------------------------------------------------------\u001b[0m",
            "\u001b[0;31mNameError\u001b[0m                                 Traceback (most recent call last)",
            "\u001b[0;32m<ipython-input-69-fc0d93fb584a>\u001b[0m in \u001b[0;36m<module>\u001b[0;34m\u001b[0m\n\u001b[0;32m----> 1\u001b[0;31m \u001b[0mrecommendations_dataframe\u001b[0m\u001b[0;34m.\u001b[0m\u001b[0mto_csv\u001b[0m\u001b[0;34m(\u001b[0m\u001b[0;34m'recommendations.csv'\u001b[0m\u001b[0;34m)\u001b[0m\u001b[0;34m\u001b[0m\u001b[0;34m\u001b[0m\u001b[0m\n\u001b[0m",
            "\u001b[0;31mNameError\u001b[0m: name 'recommendations_dataframe' is not defined"
          ]
        }
      ],
      "source": [
        "recommendations_dataframe.to_csv('recommendations.csv')"
      ]
    },
    {
      "cell_type": "markdown",
      "source": [
        "# KMeans Clustering"
      ],
      "metadata": {
        "id": "_V01ohRCy4SL"
      }
    },
    {
      "cell_type": "code",
      "source": [
        "from sklearn.cluster import KMeans\n",
        "import seaborn as sns"
      ],
      "metadata": {
        "id": "bnUGFvLry-xR"
      },
      "execution_count": null,
      "outputs": []
    },
    {
      "cell_type": "code",
      "source": [
        "kmeans = KMeans(n_clusters=10, random_state=42)\n",
        "kmeans.fit(pca_features_movies_normalized)\n",
        "print(len(kmeans.labels_))\n",
        "print(type(kmeans.labels_))\n",
        "kmeans.labels_"
      ],
      "metadata": {
        "colab": {
          "base_uri": "https://localhost:8080/"
        },
        "id": "WP-lP2KLzVL2",
        "outputId": "dbd0355a-90d7-41b4-d143-9c3a10dd87ed"
      },
      "execution_count": null,
      "outputs": [
        {
          "output_type": "stream",
          "name": "stdout",
          "text": [
            "4803\n",
            "<class 'numpy.ndarray'>\n"
          ]
        },
        {
          "output_type": "execute_result",
          "data": {
            "text/plain": [
              "array([4, 4, 4, ..., 9, 3, 3], dtype=int32)"
            ]
          },
          "metadata": {},
          "execution_count": 79
        }
      ]
    },
    {
      "cell_type": "code",
      "source": [
        "within_cluster_sum_of_squares = []\n",
        "k_values = []\n",
        "for number_of_clusters in range(1, 20):\n",
        "  k_values.append(number_of_clusters)\n",
        "  kmeans = KMeans(n_clusters = number_of_clusters, random_state = 42)\n",
        "  kmeans.fit(pca_features_movies_normalized)\n",
        "  within_cluster_sum_of_squares.append(kmeans.inertia_)\n"
      ],
      "metadata": {
        "id": "DokRBYoh0AwT"
      },
      "execution_count": null,
      "outputs": []
    },
    {
      "cell_type": "code",
      "source": [
        "plot.plot(k_values, within_cluster_sum_of_squares)"
      ],
      "metadata": {
        "colab": {
          "base_uri": "https://localhost:8080/",
          "height": 282
        },
        "id": "Wnjm0LoO0Vkg",
        "outputId": "a0a82802-55c5-4263-b5ca-90425e08a9f8"
      },
      "execution_count": null,
      "outputs": [
        {
          "output_type": "execute_result",
          "data": {
            "text/plain": [
              "[<matplotlib.lines.Line2D at 0x7f9ac0d62fd0>]"
            ]
          },
          "metadata": {},
          "execution_count": 77
        },
        {
          "output_type": "display_data",
          "data": {
            "text/plain": [
              "<Figure size 432x288 with 1 Axes>"
            ],
            "image/png": "[encoded data removed]"
          },
          "metadata": {
            "needs_background": "light"
          }
        }
      ]
    },
    {
      "cell_type": "code",
      "source": [
        "kmeans_labels_dict = {}\n",
        "for index, movie in tmdb_movie_credits_recommendation.iterrows():\n",
        "  name = movie[\"original_title\"]\n",
        "  kmeans_labels_dict[name] = kmeans.labels_[index]"
      ],
      "metadata": {
        "id": "JLhZXri41flN"
      },
      "execution_count": null,
      "outputs": []
    },
    {
      "cell_type": "code",
      "source": [
        "print(kmeans_labels_dict)"
      ],
      "metadata": {
        "colab": {
          "base_uri": "https://localhost:8080/"
        },
        "id": "rRtNpIDL4_7p",
        "outputId": "db5c5054-62e1-41e3-c6f9-42d6b0a84520"
      },
      "execution_count": null,
      "outputs": [
        {
          "output_type": "stream",
          "name": "stdout",
          "text": [
            "{'Avatar': 4, \"Pirates of the Caribbean: At World's End\": 4, 'Spectre': 4, 'The Dark Knight Rises': 4, 'John Carter': 1, 'Spider-Man 3': 4, 'Tangled': 1, 'Avengers: Age of Ultron': 4, 'Harry Potter and the Half-Blood Prince': 4, 'Batman v Superman: Dawn of Justice': 4, 'Superman Returns': 1, 'Quantum of Solace': 1, \"Pirates of the Caribbean: Dead Man's Chest\": 4, 'The Lone Ranger': 1, 'Man of Steel': 4, 'The Chronicles of Narnia: Prince Caspian': 1, 'The Avengers': 4, 'Pirates of the Caribbean: On Stranger Tides': 4, 'Men in Black 3': 1, 'The Hobbit: The Battle of the Five Armies': 4, 'The Amazing Spider-Man': 4, 'Robin Hood': 1, 'The Hobbit: The Desolation of Smaug': 4, 'The Golden Compass': 1, 'King Kong': 1, 'Titanic': 4, 'Captain America: Civil War': 4, 'Battleship': 1, 'Jurassic World': 5, 'Skyfall': 4, 'Spider-Man 2': 4, 'Iron Man 3': 4, 'Alice in Wonderland': 4, 'X-Men: The Last Stand': 1, 'Monsters University': 4, 'Transformers: Revenge of the Fallen': 1, 'Transformers: Age of Extinction': 4, 'Oz: The Great and Powerful': 1, 'The Amazing Spider-Man 2': 4, 'TRON: Legacy': 1, 'Cars 2': 1, 'Green Lantern': 1, 'Toy Story 3': 4, 'Terminator Salvation': 1, 'Furious 7': 4, 'World War Z': 4, 'X-Men: Days of Future Past': 4, 'Star Trek Into Darkness': 1, 'Jack the Giant Slayer': 1, 'The Great Gatsby': 7, 'Prince of Persia: The Sands of Time': 1, 'Pacific Rim': 1, 'Transformers: Dark of the Moon': 4, 'Indiana Jones and the Kingdom of the Crystal Skull': 1, 'The Good Dinosaur': 1, 'Brave': 4, 'Star Trek Beyond': 1, 'WALL·E': 4, 'Rush Hour 3': 1, '2012': 4, 'A Christmas Carol': 1, 'Jupiter Ascending': 1, 'The Legend of Tarzan': 1, 'The Chronicles of Narnia: The Lion, the Witch and the Wardrobe': 1, 'X-Men: Apocalypse': 4, 'The Dark Knight': 4, 'Up': 4, 'Monsters vs Aliens': 1, 'Iron Man': 4, 'Hugo': 1, 'Wild Wild West': 1, 'The Mummy: Tomb of the Dragon Emperor': 1, 'Suicide Squad': 4, 'Evan Almighty': 1, 'Edge of Tomorrow': 1, 'Waterworld': 1, 'G.I. Joe: The Rise of Cobra': 1, 'Inside Out': 4, 'The Jungle Book': 4, 'Iron Man 2': 4, 'Snow White and the Huntsman': 1, 'Maleficent': 4, 'Dawn of the Planet of the Apes': 4, 'The Lovers': 3, '47 Ronin': 1, 'Captain America: The Winter Soldier': 4, 'Shrek Forever After': 1, 'Tomorrowland': 1, 'Big Hero 6': 4, 'Wreck-It Ralph': 1, 'The Polar Express': 1, 'Independence Day: Resurgence': 1, 'How to Train Your Dragon': 1, 'Terminator 3: Rise of the Machines': 1, 'Guardians of the Galaxy': 5, 'Interstellar': 5, 'Inception': 4, 'シン・ゴジラ': 9, 'The Hobbit: An Unexpected Journey': 4, 'The Fast and the Furious': 2, 'The Curious Case of Benjamin Button': 1, 'X-Men: First Class': 1, 'The Hunger Games: Mockingjay - Part 2': 4, \"The Sorcerer's Apprentice\": 1, 'Poseidon': 1, 'Alice Through the Looking Glass': 1, 'Shrek the Third': 1, 'Warcraft': 1, 'Terminator Genisys': 4, 'The Chronicles of Narnia: The Voyage of the Dawn Treader': 1, 'Pearl Harbor': 1, 'Transformers': 1, 'Alexander': 1, 'Harry Potter and the Order of the Phoenix': 4, 'Harry Potter and the Goblet of Fire': 4, 'Hancock': 1, 'I Am Legend': 1, 'Charlie and the Chocolate Factory': 1, 'Ratatouille': 1, 'Batman Begins': 4, 'Madagascar: Escape 2 Africa': 1, 'Night at the Museum: Battle of the Smithsonian': 1, 'X-Men Origins: Wolverine': 1, 'The Matrix Revolutions': 1, 'Frozen': 4, 'The Matrix Reloaded': 1, 'Thor: The Dark World': 4, 'Mad Max: Fury Road': 5, 'Angels & Demons': 1, 'Thor': 4, 'Bolt': 1, 'G-Force': 1, 'Wrath of the Titans': 1, 'Dark Shadows': 1, 'Mission: Impossible - Rogue Nation': 4, 'The Wolfman': 0, 'Bee Movie': 1, 'Kung Fu Panda 2': 1, 'The Last Airbender': 1, 'Mission: Impossible III': 1, 'White House Down': 1, 'Mars Needs Moms': 0, 'Flushed Away': 0, 'Pan': 1, 'Mr. Peabody & Sherman': 1, 'Troy': 1, \"Madagascar 3: Europe's Most Wanted\": 1, 'Die Another Day': 1, 'Ghostbusters': 1, 'Armageddon': 1, 'Men in Black II': 1, 'Beowulf': 0, 'Kung Fu Panda 3': 1, 'Mission: Impossible - Ghost Protocol': 4, 'Rise of the Guardians': 1, 'Fun with Dick and Jane': 0, 'The Last Samurai': 1, 'Exodus: Gods and Kings': 1, 'Star Trek': 1, 'Spider-Man': 4, 'How to Train Your Dragon 2': 1, 'Gods of Egypt': 1, 'Stealth': 0, 'Watchmen': 1, 'Lethal Weapon 4': 1, 'Hulk': 1, 'G.I. Joe: Retaliation': 1, 'Sahara': 0, 'Final Fantasy: The Spirits Within': 0, 'Captain America: The First Avenger': 7, 'The World Is Not Enough': 1, 'Master and Commander: The Far Side of the World': 1, 'The Twilight Saga: Breaking Dawn - Part 2': 1, 'Happy Feet Two': 0, 'The Incredible Hulk': 1, 'The BFG': 1, 'The Revenant': 4, 'Turbo': 1, 'Rango': 1, 'Penguins of Madagascar': 1, 'The Bourne Ultimatum': 1, 'Kung Fu Panda': 1, 'Ant-Man': 4, 'The Hunger Games: Catching Fire': 4, 'Home': 1, 'War of the Worlds': 1, 'Bad Boys II': 1, 'Puss in Boots': 1, 'Salt': 1, 'Noah': 1, 'The Adventures of Tintin': 1, 'Harry Potter and the Prisoner of Azkaban': 4, 'Australia': 6, 'After Earth': 1, 'Dinosaur': 1, 'Night at the Museum: Secret of the Tomb': 1, 'Megamind': 1, \"Harry Potter and the Philosopher's Stone\": 4, 'R.I.P.D.': 0, 'Pirates of the Caribbean: The Curse of the Black Pearl': 4, 'The Hunger Games: Mockingjay - Part 1': 4, 'The Da Vinci Code': 1, 'Rio 2': 1, 'X2': 1, 'Fast Five': 1, 'Sherlock Holmes: A Game of Shadows': 1, 'Clash of the Titans': 1, 'Total Recall': 2, 'The 13th Warrior': 0, 'The Bourne Legacy': 1, 'Batman & Robin': 1, 'How the Grinch Stole Christmas': 1, 'The Day After Tomorrow': 1, 'Mission: Impossible II': 1, 'The Perfect Storm': 1, '4: Rise of the Silver Surfer': 1, 'Life of Pi': 4, 'Ghost Rider': 1, 'Jason Bourne': 1, \"Charlie's Angels: Full Throttle\": 1, 'Prometheus': 7, 'Stuart Little 2': 0, 'Elysium': 1, 'The Chronicles of Riddick': 0, 'RoboCop': 1, 'Speed Racer': 0, 'How Do You Know': 0, 'Knight and Day': 1, 'Oblivion': 7, 'Star Wars: Episode III - Revenge of the Sith': 4, 'Star Wars: Episode II - Attack of the Clones': 1, 'Monsters, Inc.': 4, 'The Wolverine': 1, 'Star Wars: Episode I - The Phantom Menace': 4, 'The Croods': 1, 'Astérix aux Jeux Olympiques': 0, 'Windtalkers': 0, \"The Huntsman: Winter's War\": 1, 'Teenage Mutant Ninja Turtles': 1, 'Gravity': 4, \"Dante's Peak\": 0, 'Teenage Mutant Ninja Turtles: Out of the Shadows': 1, 'Fantastic Four': 1, 'Night at the Museum': 1, 'San Andreas': 1, 'Tomorrow Never Dies': 1, 'The Patriot': 6, \"Ocean's Twelve\": 1, 'Mr. & Mrs. Smith': 1, 'Insurgent': 7, 'The Aviator': 6, \"Gulliver's Travels\": 0, 'The Green Hornet': 1, '300: Rise of an Empire': 1, 'The Smurfs': 1, 'Home on the Range': 0, 'Allegiant': 1, 'Real Steel': 1, 'The Smurfs 2': 1, 'Speed 2: Cruise Control': 1, \"Ender's Game\": 1, 'Live Free or Die Hard': 1, 'The Lord of the Rings: The Fellowship of the Ring': 4, 'Around the World in 80 Days': 0, 'Ali': 6, 'The Cat in the Hat': 3, 'I, Robot': 1, 'Kingdom of Heaven': 1, 'Stuart Little': 1, 'The Princess and the Frog': 1, 'The Martian': 4, 'The Island': 1, 'Town & Country': 0, 'Gone in Sixty Seconds': 1, 'Gladiator': 7, 'Minority Report': 1, 'Harry Potter and the Chamber of Secrets': 4, 'Casino Royale': 1, 'Planet of the Apes': 1, 'Terminator 2: Judgment Day': 7, 'Public Enemies': 0, 'American Gangster': 1, 'True Lies': 1, 'The Taking of Pelham 1 2 3': 0, 'Little Fockers': 0, 'The Other Guys': 0, 'Eraser': 0, 'Django Unchained': 4, 'The Hunchback of Notre Dame': 0, \"The Emperor's New Groove\": 0, 'The Expendables 2': 1, 'National Treasure': 1, 'Eragon': 0, 'Where the Wild Things Are': 0, 'Epic': 0, 'The Tourist': 1, 'End of Days': 0, 'Blood Diamond': 1, 'The Wolf of Wall Street': 7, 'Batman Forever': 1, 'Starship Troopers': 0, 'Cloud Atlas': 7, \"Legend of the Guardians: The Owls of Ga'Hoole\": 0, 'Catwoman': 0, 'Hercules': 1, 'Treasure Planet': 0, 'Land of the Lost': 0, 'The Expendables 3': 1, 'Point Break': 0, 'Son of the Mask': 0, 'In the Heart of the Sea': 0, 'The Adventures of Pluto Nash': 0, 'Green Zone': 0, 'The Peanuts Movie': 0, 'The Spanish Prisoner': 9, 'The Mummy Returns': 1, 'Gangs of New York': 6, '金陵十三釵': 6, \"Surf's Up\": 0, 'The Stepford Wives': 0, 'Black Hawk Down': 0, 'The Campaign': 3, 'The Fifth Element': 7, 'Sex and the City 2': 0, 'The Road to El Dorado': 0, 'Ice Age: Continental Drift': 1, 'Cinderella': 1, 'The Lovely Bones': 0, 'Finding Nemo': 4, 'The Lord of the Rings: The Return of the King': 4, 'The Lord of the Rings: The Two Towers': 4, 'Seventh Son': 0, 'Lara Croft: Tomb Raider': 1, 'Transcendence': 1, 'Jurassic Park III': 1, 'Rise of the Planet of the Apes': 7, 'The Spiderwick Chronicles': 0, 'A Good Day to Die Hard': 1, 'The Alamo': 0, 'The Incredibles': 7, 'Cutthroat Island': 0, 'Percy Jackson & the Olympians: The Lightning Thief': 1, 'Men in Black': 7, 'Toy Story 2': 7, 'Unstoppable': 0, 'Rush Hour 2': 0, 'What Lies Beneath': 0, 'Cloudy with a Chance of Meatballs': 1, 'Ice Age: Dawn of the Dinosaurs': 1, 'The Secret Life of Walter Mitty': 1, \"Charlie's Angels\": 0, 'The Departed': 7, 'Mulan': 1, 'Tropic Thunder': 0, 'The Girl with the Dragon Tattoo': 1, 'Die Hard: With a Vengeance': 1, 'Sherlock Holmes': 7, 'Ben-Hur': 0, 'Atlantis: The Lost Empire': 1, 'Alvin and the Chipmunks: The Road Chip': 3, 'Valkyrie': 0, \"You Don't Mess with the Zohan\": 0, 'Pixels': 7, 'A.I. Artificial Intelligence': 1, 'The Haunted Mansion': 0, 'Contact': 6, 'Hollow Man': 0, 'The Interpreter': 0, 'Percy Jackson: Sea of Monsters': 0, 'Lara Croft Tomb Raider: The Cradle of Life': 0, 'Now You See Me 2': 1, 'The Saint': 0, 'Spy Game': 0, 'Mission to Mars': 0, 'Rio': 1, 'Bicentennial Man': 0, 'Volcano': 0, \"The Devil's Own\": 0, 'K-19: The Widowmaker': 0, 'Conan the Barbarian': 9, 'Cinderella Man': 6, 'The Nutcracker: The Untold Story': 0, 'Seabiscuit': 0, 'Twister': 1, 'Cast Away': 1, 'Happy Feet': 1, 'The Bourne Supremacy': 7, 'Air Force One': 0, \"Ocean's Eleven\": 7, 'The Three Musketeers': 0, 'Hotel Transylvania': 1, 'Enchanted': 1, 'Safe House': 0, '102 Dalmatians': 0, 'Tower Heist': 0, 'The Holiday': 0, 'Enemy of the State': 0, \"It's Complicated\": 0, \"Ocean's Thirteen\": 1, 'Open Season': 0, 'Divergent': 7, 'Enemy at the Gates': 0, 'The Rundown': 0, 'Last Action Hero': 0, 'Memoirs of a Geisha': 6, 'The Fast and the Furious: Tokyo Drift': 0, 'Arthur Christmas': 3, 'Meet Joe Black': 6, 'Collateral Damage': 0, 'All That Jazz': 9, 'Mirror Mirror': 0, 'Scott Pilgrim vs. the World': 2, 'The Core': 0, 'Nutty Professor II: The Klumps': 0, 'Scooby-Doo': 0, 'Dredd': 2, 'Click': 0, 'Creepshow': 9, 'Cats & Dogs 2 : The Revenge of Kitty Galore': 0, 'Jumper': 0, 'Hellboy II: The Golden Army': 0, 'Zodiac': 6, 'The 6th Day': 0, 'Bruce Almighty': 7, 'The Expendables': 7, 'Mission: Impossible': 1, 'The Hunger Games': 4, 'The Hangover Part II': 7, 'Batman Returns': 1, 'Over the Hedge': 0, 'Lilo & Stitch': 0, \"Charlotte's Web\": 0, 'Deep Impact': 0, 'RED 2': 0, 'The Longest Yard': 0, 'Alvin and the Chipmunks: Chipwrecked': 0, 'Grown Ups 2': 0, 'Get Smart': 0, \"Something's Gotta Give\": 0, 'Shutter Island': 7, 'Four Christmases': 0, 'Robots': 0, 'Face/Off': 0, 'Bedtime Stories': 0, 'Road to Perdition': 0, 'Just Go with It': 0, 'Con Air': 0, 'Eagle Eye': 0, 'Cold Mountain': 6, 'The Book of Eli': 0, 'Flubber': 0, 'The Haunting': 0, 'Space Jam': 0, 'The Pink Panther': 3, 'The Day the Earth Stood Still': 0, 'Conspiracy Theory': 0, 'Fury': 7, 'Six Days Seven Nights': 0, 'Yogi Bear': 0, 'Spirit: Stallion of the Cimarron': 0, 'Zookeeper': 0, 'Lost in Space': 0, 'The Manchurian Candidate': 0, 'Déjà Vu': 9, 'Hotel Transylvania 2': 1, 'Fantasia 2000': 0, 'The Time Machine': 0, 'Mighty Joe Young': 0, 'Swordfish': 0, 'The Legend of Zorro': 0, 'What Dreams May Come': 0, 'Little Nicky': 0, 'The Brothers Grimm': 0, 'Mars Attacks!': 0, 'Évolution': 3, 'The Edge': 9, 'Surrogates': 0, 'Thirteen Days': 6, 'Daylight': 0, 'Walking With Dinosaurs': 0, 'Battlefield Earth': 0, 'Looney Tunes: Back in Action': 0, 'Nine': 0, 'Timeline': 0, 'The Postman': 6, 'Babe: Pig in the City': 0, 'The Last Witch Hunter': 0, 'Red Planet': 0, 'Arthur et les Minimoys': 0, 'Oceans': 3, 'A Sound of Thunder': 0, 'Pompeii': 0, 'Don Gato: El inicio de la pandilla': 3, 'A Beautiful Mind': 7, 'The Lion King': 7, 'Journey 2: The Mysterious Island': 0, 'Cloudy with a Chance of Meatballs 2': 0, 'Red Dragon': 0, 'Hidalgo': 0, 'Jack and Jill': 0, '2 Fast 2 Furious': 0, 'The Little Prince': 0, 'The Invasion': 0, 'The Adventures of Rocky & Bullwinkle': 0, 'The Secret Life of Pets': 1, 'The League of Extraordinary Gentlemen': 0, 'Despicable Me 2': 4, 'Independence Day': 1, 'The Lost World: Jurassic Park': 0, 'Madagascar': 1, 'Children of Men': 2, 'X-Men': 7, 'Wanted': 7, 'The Rock': 1, 'Ice Age: The Meltdown': 1, '50 First Dates': 2, 'Hairspray': 0, 'Exorcist: The Beginning': 0, 'Inspector Gadget': 0, 'Now You See Me': 7, 'Grown Ups': 0, 'The Terminal': 2, 'Hotel for Dogs': 3, 'Vertical Limit': 0, \"Charlie Wilson's War\": 0, 'Shark Tale': 1, 'Dreamgirls': 0, 'Be Cool': 0, 'Munich': 6, 'Tears of the Sun': 0, 'Killers': 0, 'The Man from U.N.C.L.E.': 2, 'Spanglish': 0, 'Monster House': 0, 'Bandits': 0, 'First Knight': 0, 'Anna and the King': 6, 'Immortals': 0, 'Hostage': 0, 'Titan A.E.': 0, 'Hollywood Homicide': 0, 'Soldier': 0, 'Carriers': 3, 'Monkeybone': 0, 'Flight of the Phoenix': 0, 'Unbreakable': 2, 'Minions': 5, 'Sucker Punch': 0, 'Snake Eyes': 0, 'Sphere': 0, 'The Angry Birds Movie': 0, \"Fool's Gold\": 0, 'Funny People': 6, 'The Kingdom': 0, 'Talladega Nights: The Ballad of Ricky Bobby': 0, 'Dr. Dolittle 2': 0, 'Braveheart': 7, 'Jarhead': 0, 'The Simpsons Movie': 1, 'The Majestic': 6, 'Driven': 0, 'Deux frères': 0, 'The Village': 0, 'Doctor Dolittle': 0, 'Signs': 1, 'Shrek 2': 1, 'Cars': 1, 'Runaway Bride': 0, 'xXx': 0, 'The SpongeBob Movie: Sponge Out of Water': 0, 'Ransom': 0, 'Inglourious Basterds': 7, 'Hook': 0, 'Die Hard 2': 2, 'S.W.A.T.': 0, 'Vanilla Sky': 0, 'Lady in the Water': 0, 'AVP: Alien vs. Predator': 0, 'Alvin and the Chipmunks: The Squeakquel': 0, 'We Were Soldiers': 0, 'Olympus Has Fallen': 7, 'Star Trek: Insurrection': 0, 'Battle: Los Angeles': 0, 'Big Fish': 2, 'Wolf': 9, 'War Horse': 6, 'The Monuments Men': 0, 'The Abyss': 0, 'Wall Street: Money Never Sleeps': 0, 'Dracula Untold': 2, 'The Siege': 0, 'Stardust': 0, 'Seven Years in Tibet': 0, 'The Dilemma': 0, 'Bad Company': 0, 'Doom': 0, 'I Spy': 0, 'Underworld: Awakening': 2, 'Rock of Ages': 0, \"Hart's War\": 0, 'Killer Elite': 0, 'Rollerball': 3, 'Ballistic: Ecks vs. Sever': 0, 'Hard Rain': 0, 'Osmosis Jones': 0, \"Legends of Oz: Dorothy's Return\": 0, 'Blackhat': 0, 'Sky Captain and the World of Tomorrow': 0, 'Basic Instinct 2': 0, 'Escape Plan': 2, 'The Legend of Hercules': 0, 'The Sum of All Fears': 0, 'The Twilight Saga: Eclipse': 1, 'The Score': 0, 'Despicable Me': 7, 'Money Train': 0, 'Ted 2': 2, 'Agora': 0, 'Mystery Men': 0, 'Hall Pass': 0, 'The Insider': 6, 'The Finest Hours': 0, 'Body of Lies': 0, 'Dinner for Schmucks': 0, 'Abraham Lincoln: Vampire Hunter': 0, 'Entrapment': 0, 'The X Files': 0, 'The Last Legion': 0, 'Saving Private Ryan': 7, 'Need for Speed': 2, 'What Women Want': 0, 'Ice Age': 7, 'Dreamcatcher': 0, 'Lincoln': 6, 'The Matrix': 7, 'Apollo 13': 2, 'The Santa Clause 2': 0, 'Les Misérables': 1, \"You've Got Mail\": 0, 'Step Brothers': 0, 'The Mask of Zorro': 0, 'Due Date': 2, 'Unbroken': 2, 'Space Cowboys': 0, 'Cliffhanger': 0, 'Broken Arrow': 0, 'The Kid': 0, 'World Trade Center': 0, 'Mona Lisa Smile': 0, 'The Dictator': 0, 'Eyes Wide Shut': 6, 'Annie': 0, 'Focus': 2, 'This Means War': 0, 'Blade: Trinity': 0, 'Red Dawn': 9, 'Primary Colors': 6, 'Resident Evil: Retribution': 0, 'Death Race': 2, 'The Long Kiss Goodnight': 0, 'Proof of Life': 0, 'Zathura: A Space Adventure': 0, 'Fight Club': 7, 'We Are Marshall': 0, 'Hudson Hawk': 0, 'Lucky Numbers': 0, 'I, Frankenstein': 0, 'Oliver Twist': 0, 'Elektra': 0, 'Sin City: A Dame to Kill For': 2, 'Random Hearts': 0, 'Everest': 2, 'Perfume: The Story of a Murderer': 6, 'Austin Powers in Goldmember': 0, 'Astro Boy': 0, 'Jurassic Park': 4, 'Wyatt Earp': 6, 'Clear and Present Danger': 0, '天將雄師': 0, 'Little Man': 0, 'U-571': 0, 'The American President': 0, 'The Love Guru': 0, '3000 Miles to Graceland': 0, 'The Hateful Eight': 7, 'Blades of Glory': 0, 'Hop': 0, '300': 7, 'Meet the Fockers': 1, 'Marley & Me': 2, 'The Green Mile': 7, 'Wild Hogs': 2, 'Chicken Little': 1, 'Gone Girl': 7, 'The Bourne Identity': 7, 'GoldenEye': 2, \"The General's Daughter\": 0, 'The Truman Show': 7, 'The Prince of Egypt': 0, 'Daddy Day Care': 0, '2 Guns': 2, 'Cats & Dogs': 0, 'The Italian Job': 2, 'Two Weeks Notice': 0, 'Antz': 0, 'Couples Retreat': 0, 'Days of Thunder': 0, 'Cheaper by the Dozen 2': 0, 'Maze Runner: The Scorch Trials': 7, 'Eat Pray Love': 0, 'The Family Man': 0, 'RED': 2, 'Any Given Sunday': 6, 'The Horse Whisperer': 6, 'Collateral': 2, 'The Scorpion King': 0, 'Ladder 49': 0, 'Jack Reacher': 7, 'Deep Blue Sea': 0, \"Michael Jackson's This Is It\": 0, 'Contagion': 0, 'Kangaroo Jack': 3, 'Coraline': 2, 'The Happening': 0, 'Man on Fire': 6, 'The Shaggy Dog': 0, 'Starsky & Hutch': 0, 'Jingle All the Way': 0, 'Hellboy': 2, 'A Civil Action': 0, 'ParaNorman': 0, 'The Jackal': 0, 'Paycheck': 0, 'Up Close & Personal': 0, 'The Tale of Despereaux': 0, 'The Tuxedo': 3, 'Under Siege 2: Dark Territory': 0, 'Jack Ryan: Shadow Recruit': 0, 'Joy': 0, 'London Has Fallen': 2, 'Alien: Resurrection': 0, 'Shooter': 2, 'The Boxtrolls': 0, 'Practical Magic': 0, 'The Lego Movie': 7, 'Miss Congeniality 2: Armed and Fabulous': 9, 'Reign of Fire': 0, 'Gangster Squad': 2, 'Year One': 0, 'Invictus': 0, 'State of Play': 0, 'Duplicity': 0, 'My Favorite Martian': 0, 'The Sentinel': 0, 'Planet 51': 0, 'Star Trek: Nemesis': 0, 'Intolerable Cruelty': 0, 'Trouble with the Curve': 9, 'Edge of Darkness': 0, 'The Relic': 0, 'Analyze That': 0, 'Righteous Kill': 0, 'Mercury Rising': 0, 'The Soloist': 0, 'The Legend of Bagger Vance': 0, 'Almost Famous': 0, 'Garfield: A Tail of Two Kitties': 3, 'xXx: State of the Union': 0, 'Priest': 0, 'Sinbad: Legend of the Seven Seas': 0, 'Event Horizon': 0, 'Dragonfly': 0, 'The Black Dahlia': 0, 'Flyboys': 6, 'The Last Castle': 0, 'Supernova': 0, \"Winter's Tale\": 0, 'The Mortal Instruments: City of Bones': 2, 'Meet Dave': 0, 'Dark Water': 3, 'Edtv': 0, 'Inkheart': 0, 'The Spirit': 0, 'Mortdecai': 0, 'In the Name of the King: A Dungeon Siege Tale': 0, 'Beyond Borders': 9, '西游记之孙悟空三打白骨精': 0, 'The Great Raid': 0, 'Deadpool': 5, 'Holy Man': 0, 'American Sniper': 7, 'Goosebumps': 0, 'Just Like Heaven': 0, 'The Flintstones in Viva Rock Vegas': 0, 'Rambo III': 0, 'Leatherheads': 0, 'The Ridiculous 6': 0, 'Did You Hear About the Morgans?': 0, 'The Internship': 0, 'Resident Evil: Afterlife': 0, 'Red Tails': 0, \"The Devil's Advocate\": 6, \"That's My Boy\": 0, 'DragonHeart': 0, 'After the Sunset': 0, 'Ghost Rider: Spirit of Vengeance': 0, \"Captain Corelli's Mandolin\": 0, 'The Pacifier': 0, 'Walking Tall': 0, 'Forrest Gump': 4, 'Alvin and the Chipmunks': 2, 'Meet the Parents': 2, 'Pocahontas': 2, 'Superman': 2, 'The Nutty Professor': 0, 'Hitch': 1, 'George of the Jungle': 0, 'American Wedding': 0, 'Captain Phillips': 2, 'Date Night': 0, 'Casper': 0, 'The Equalizer': 7, 'Maid in Manhattan': 0, 'Crimson Tide': 0, 'The Pursuit of Happyness': 7, 'Flightplan': 0, 'Disclosure': 0, 'City of Angels': 0, 'Kill Bill: Vol. 1': 7, 'Bowfinger': 0, 'Kill Bill: Vol. 2': 7, 'Tango & Cash': 0, 'Death Becomes Her': 0, 'Shanghai Noon': 0, 'Executive Decision': 0, \"Mr. Popper's Penguins\": 0, 'The Forbidden Kingdom': 0, 'Free Birds': 0, 'Alien³': 2, 'Evita': 0, 'Ronin': 0, 'The Ghost and the Darkness': 0, 'Paddington': 2, 'The Watch': 0, 'The Hunted': 0, 'Instinct': 0, 'Stuck on You': 0, 'Semi-Pro': 3, 'The Pirates! In an Adventure with Scientists!': 0, 'Changeling': 6, 'Chain Reaction': 0, 'The Fan': 0, 'The Phantom of the Opera': 6, 'Elizabeth: The Golden Age': 0, 'Æon Flux': 0, 'Gods and Generals': 6, 'Turbulence': 0, 'Imagine That': 0, 'Muppets Most Wanted': 0, 'Thunderbirds': 0, 'Burlesque': 0, 'Un long dimanche de fiançailles': 9, 'Lolita': 6, 'D-Tox': 0, 'Blade II': 2, 'Seven Pounds': 2, 'Bullet to the Head': 0, 'The Godfather: Part III': 6, 'Elizabethtown': 0, 'You, Me and Dupree': 0, 'Superman II': 0, 'Gigli': 0, \"All the King's Men\": 0, 'Shaft': 0, 'Anastasia': 2, 'Moulin Rouge!': 2, 'Domestic Disturbance': 0, 'Black Mass': 2, 'Flags of Our Fathers': 0, 'Law Abiding Citizen': 2, 'Grindhouse': 6, 'Beloved': 6, 'Lucky You': 9, 'Catch Me If You Can': 7, 'Zero Dark Thirty': 6, 'The Break-Up': 0, 'Mamma Mia!': 1, \"Valentine's Day\": 0, 'The Dukes of Hazzard': 0, 'The Thin Red Line': 6, 'The Change-Up': 0, 'Man on the Moon': 0, 'Casino': 6, 'From Paris with Love': 0, 'Bulletproof Monk': 0, 'Me, Myself & Irene': 0, 'Barnyard': 0, 'Deck the Halls': 3, 'The Twilight Saga: New Moon': 7, 'Shrek': 7, 'The Adjustment Bureau': 2, 'Robin Hood: Prince of Thieves': 6, 'Jerry Maguire': 0, 'Ted': 7, 'As Good as It Gets': 2, 'Patch Adams': 2, 'Anchorman 2: The Legend Continues': 0, 'Mr. Deeds': 0, 'Super 8': 2, 'Erin Brockovich': 0, 'How to Lose a Guy in 10 Days': 0, '22 Jump Street': 7, 'Interview with the Vampire': 2, 'Yes Man': 2, 'Central Intelligence': 2, 'Stepmom': 9, \"Daddy's Home\": 0, 'Into the Woods': 2, 'Inside Man': 2, 'Payback': 0, 'Congo': 0, 'We Bought a Zoo': 2, 'Knowing': 2, 'Failure to Launch': 0, 'The Ring Two': 0, 'Crazy, Stupid, Love.': 2, 'Garfield': 0, 'Christmas with the Kranks': 0, 'Moneyball': 2, 'Outbreak': 0, 'Non-Stop': 2, 'Race to Witch Mountain': 0, 'V for Vendetta': 7, 'Shanghai Knights': 0, 'Curious George': 3, 'Herbie Fully Loaded': 0, \"Don't Say a Word\": 0, 'Hansel & Gretel: Witch Hunters': 2, 'Unfaithful': 0, 'I Am Number Four': 2, 'Syriana': 0, '13 Hours: The Secret Soldiers of Benghazi': 6, 'The Book of Life': 2, 'Firewall': 0, 'Absolute Power': 0, 'G.I. Jane': 0, 'The Game': 2, 'Silent Hill': 0, 'The Replacements': 9, 'American Reunion': 2, 'The Negotiator': 6, 'Into the Storm': 0, 'Beverly Hills Cop III': 0, 'Gremlins 2: The New Batch': 0, 'The Judge': 6, 'The Peacemaker': 0, 'Resident Evil: Apocalypse': 2, 'Bridget Jones: The Edge of Reason': 0, 'Out of Time': 0, 'On Deadly Ground': 0, 'The Adventures of Sharkboy and Lavagirl': 0, 'The Beach': 2, 'Raising Helen': 0, 'Ninja Assassin': 0, 'For Love of the Game': 9, 'Striptease': 0, 'Marmaduke': 3, 'Hereafter': 0, 'Murder by Numbers': 0, 'Assassins': 0, 'Hannibal Rising': 0, 'The Story of Us': 0, 'The Host': 2, 'Basic': 0, 'Blood Work': 0, 'The International': 0, 'Escape from L.A.': 0, 'The Iron Giant': 2, 'The Life Aquatic with Steve Zissou': 0, 'Free State of Jones': 6, 'The Life of David Gale': 9, 'Man of the House': 3, 'Run All Night': 2, 'Eastern Promises': 0, 'Into the Blue': 0, 'Joan of Arc': 6, 'Your Highness': 0, 'Dream House': 3, 'Mad City': 9, \"Baby's Day Out\": 0, 'The Scarlet Letter': 9, 'Fair Game': 9, 'Domino': 0, 'Jade': 3, 'Gamer': 0, 'Beautiful Creatures': 0, 'Death to Smoochy': 0, 'Zoolander 2': 0, 'The Big Bounce': 3, 'What Planet Are You From?': 0, 'Drive Angry': 0, 'Street Fighter: The Legend of Chun-Li': 3, 'The One': 0, 'The Adventures of Ford Fairlane': 0, 'The Boat That Rocked': 0, 'Traffic': 6, 'Indiana Jones and the Last Crusade': 7, 'Anna Karenina': 9, 'Chappie': 7, 'The Bone Collector': 0, 'Panic Room': 2, 'The Tooth Fairy': 8, 'Three Kings': 0, 'Child 44': 6, 'Rat Race': 0, 'K-PAX': 0, 'Kate & Leopold': 9, 'Bedazzled': 0, 'The Cotton Club': 0, '3:10 to Yuma': 2, 'Taken 3': 7, 'Out of Sight': 0, 'The Cable Guy': 0, '1947: Earth': 9, 'Dick Tracy': 0, 'The Thomas Crown Affair': 0, 'Riding in Cars with Boys': 9, 'First Blood': 2, 'Солярис': 6, \"Happily N'Ever After\": 3, 'Mary Reilly': 0, \"My Best Friend's Wedding\": 0, \"America's Sweethearts\": 3, 'Insomnia': 2, 'Star Trek: First Contact': 0, 'Jonah Hex': 3, 'Courage Under Fire': 0, 'Liar Liar': 2, 'The Infiltrator': 9, 'Inchon': 6, 'The Flintstones': 0, 'Taken 2': 2, 'Scary Movie 3': 0, 'Miss Congeniality': 2, 'Journey to the Center of the Earth': 2, 'The Princess Diaries 2: Royal Engagement': 0, 'The Pelican Brief': 6, 'The Client': 0, 'The Bucket List': 2, 'Patriot Games': 0, 'Monster-in-Law': 0, 'Prisoners': 7, 'Training Day': 2, 'Galaxy Quest': 0, 'Scary Movie 2': 0, 'The Muppets': 0, 'Blade': 2, 'Coach Carter': 9, 'Changing Lanes': 0, 'Anaconda': 0, 'Coyote Ugly': 0, 'Love Actually': 2, \"A Bug's Life\": 1, 'From Hell': 9, 'The Specialist': 0, 'Tin Cup': 9, 'Yours, Mine and Ours': 9, 'Kicking & Screaming': 3, \"The Hitchhiker's Guide to the Galaxy\": 2, 'Fat Albert': 3, 'Resident Evil: Extinction': 0, 'Blended': 2, 'Last Holiday': 9, 'The River Wild': 9, 'The Indian in the Cupboard': 3, 'Savages': 0, 'Cellular': 3, 'Johnny English': 0, 'The Ant Bully': 0, 'Dune': 6, 'Across the Universe': 9, 'Revolutionary Road': 9, '16 Blocks': 0, 'Babylon A.D.': 0, 'The Glimmer Man': 3, 'Multiplicity': 9, 'Aliens in the Attic': 3, 'The Pledge': 9, 'The Producers': 9, 'The Phantom': 3, 'All the Pretty Horses': 0, 'Nixon': 6, 'The Ghost Writer': 0, 'Deep Rising': 9, 'Miracle at St. Anna': 6, '滿城盡帶黃金甲': 9, 'Bangkok Dangerous': 0, 'Big Trouble': 3, 'Love in the Time of Cholera': 9, 'Shadow Conspiracy': 3, 'Johnny English Reborn': 2, 'Foodfight!': 3, 'Argo': 7, 'The Fugitive': 2, 'The Bounty Hunter': 0, 'Sleepers': 6, 'Rambo: First Blood Part II': 2, 'The Juror': 9, 'Pinocchio': 2, \"Heaven's Gate\": 6, 'Underworld: Evolution': 2, 'Victor Frankenstein': 0, 'Finding Forrester': 6, '28 Days': 9, 'Unleashed': 0, 'The Sweetest Thing': 3, 'The Firm': 6, 'Charlie St. Cloud': 0, 'The Mechanic': 2, '21 Jump Street': 7, 'Notting Hill': 2, 'Chicken Run': 2, 'Along Came Polly': 0, 'Boomerang': 9, 'The Heat': 2, 'Cleopatra': 6, 'Here Comes the Boom': 9, 'High Crimes': 9, 'The Mirror Has Two Faces': 9, 'The Mothman Prophecies': 9, 'Brüno': 3, 'Licence to Kill': 0, 'Red Riding Hood': 2, '15 Minutes': 0, 'Super Mario Bros.': 0, 'Lord of War': 2, '英雄': 2, 'One for the Money': 3, 'The Interview': 2, \"The Warrior's Way\": 3, 'Micmacs à tire-larigot': 9, '8 Mile': 2, \"Pourquoi j'ai pas mangé mon père\": 3, \"A Knight's Tale\": 0, 'The Medallion': 3, 'The Sixth Sense': 7, 'Man on a Ledge': 2, 'The Big Year': 3, 'The Karate Kid': 9, 'American Hustle': 7, 'The Proposal': 2, 'Double Jeopardy': 0, 'Back to the Future Part II': 7, 'Lucy': 7, 'Fifty Shades of Grey': 7, 'Spy Kids 3-D: Game Over': 0, 'A Time to Kill': 6, 'Cheaper by the Dozen': 0, 'Lone Survivor': 2, 'A League of Their Own': 9, 'The Conjuring 2': 2, 'The Social Network': 7, \"He's Just Not That Into You\": 2, 'Scary Movie 4': 0, 'Scream 3': 0, 'Back to the Future Part III': 2, 'Get Hard': 2, 'Dracula': 2, 'Julie & Julia': 0, '42': 2, 'The Talented Mr. Ripley': 6, 'Dumb and Dumber To': 2, 'Eight Below': 0, 'The Intern': 2, 'Ride Along 2': 0, 'The Last of the Mohicans': 2, 'Ray': 6, 'Sin City': 2, 'Vantage Point': 0, 'I Love You, Man': 0, 'Shallow Hal': 0, 'JFK': 6, \"Big Momma's House 2\": 0, 'The Mexican': 0, '17 Again': 2, 'The Other Woman': 2, 'The Final Destination': 0, 'Bridge of Spies': 2, 'Behind Enemy Lines': 0, 'Get Him to the Greek': 0, 'Shall We Dance?': 0, 'Small Soldiers': 0, 'Spawn': 0, 'The Count of Monte Cristo': 9, 'The Lincoln Lawyer': 2, 'Unknown': 2, 'The Prestige': 7, 'Horrible Bosses 2': 2, 'Escape from Planet Earth': 3, 'Apocalypto': 2, 'The Living Daylights': 0, 'Predators': 2, 'Legal Eagles': 9, 'Secret Window': 2, 'The Lake House': 0, 'The Skeleton Key': 0, 'The Odd Life of Timothy Green': 9, 'Made of Honor': 0, 'Jersey Boys': 9, 'The Rainmaker': 9, 'Gothika': 0, 'Amistad': 6, 'Medicine Man': 9, 'Aliens vs Predator: Requiem': 0, 'Ri¢hie Ri¢h': 3, 'Autumn in New York': 0, 'Music and Lyrics': 0, 'Paul': 2, 'The Guilt Trip': 3, 'Scream 4': 2, '8MM': 0, 'The Doors': 6, 'Sex Tape': 2, 'Hanging Up': 3, 'Final Destination 5': 0, 'Mickey Blue Eyes': 3, 'Pay It Forward': 9, 'Fever Pitch': 9, 'Drillbit Taylor': 3, 'A Million Ways to Die in the West': 2, 'The Shadow': 9, 'Extremely Loud & Incredibly Close': 9, 'Morning Glory': 0, \"Get Rich or Die Tryin'\": 9, 'The Art of War': 9, 'Rent': 9, 'Bless the Child': 3, 'The Out-of-Towners': 0, 'The Island of Dr. Moreau': 3, 'The Musketeer': 3, 'The Other Boleyn Girl': 9, 'Sweet November': 9, 'The Reaping': 3, 'Mean Streets': 9, 'Renaissance Man': 9, 'Colombiana': 2, 'Quest for Camelot': 3, 'City By The Sea': 9, 'At First Sight': 9, 'Torque': 3, 'City Hall': 9, 'Showgirls': 9, 'Marie Antoinette': 9, 'Kiss of Death': 3, 'Get Carter': 0, 'Lo imposible': 2, 'Ishtar': 0, 'Fantastic Mr. Fox': 2, 'Life or Something Like It': 3, 'Memoirs of an Invisible Man': 3, \"Le fabuleux destin d'Amélie Poulain\": 7, 'New York Minute': 3, 'Alfie': 0, 'Big Miracle': 9, 'The Deep End of the Ocean': 9, 'FearDotCom': 3, \"Cirque du Freak: The Vampire's Assistant\": 0, 'Duplex': 3, 'Soul Men': 3, 'Raise the Titanic': 9, 'Universal Soldier: The Return': 3, 'Pandorum': 9, 'Impostor': 9, 'Extreme Ops': 3, 'Just Visiting': 3, 'Sunshine': 2, 'A Thousand Words': 3, 'Delgo': 3, 'The Gunman': 0, 'Stormbreaker': 3, 'Disturbia': 2, 'Hackers': 9, 'The Hunting Party': 3, 'The Hudsucker Proxy': 9, '投名狀': 9, 'Nomad': 3, 'Snowpiercer': 2, 'Un monstre à Paris': 3, 'The Last Shot': 3, 'The Crow': 2, 'Baahubali: The Beginning': 6, \"The Time Traveler's Wife\": 2, 'Because I Said So': 3, 'Frankenweenie': 2, 'Serenity': 2, 'Against the Ropes': 3, 'Superman III': 0, 'Grudge Match': 0, 'Chi bi': 6, 'Sweet Home Alabama': 0, 'The Ugly Truth': 2, 'Sgt. Bilko': 3, 'Spy Kids 2: The Island of Lost Dreams': 0, 'Star Trek: Generations': 0, '一代宗師': 9, 'Water for Elephants': 0, \"Dragon Nest: Warriors' Dawn\": 3, 'The Hurricane': 6, 'Enough': 9, 'Heartbreakers': 9, 'Paul Blart: Mall Cop 2': 0, 'Angel Eyes': 0, 'Joe Somebody': 3, 'The Ninth Gate': 9, 'Extreme Measures': 9, 'Rock Star': 0, 'Precious': 9, 'White Squall': 9, 'The Thing': 2, 'Riddick': 2, 'Switchback': 9, 'Texas Rangers': 9, 'City of Ember': 0, 'The Master': 6, 'Virgin Territory': 3, 'The Express': 9, 'The 5th Wave': 2, 'Creed': 2, 'The Town': 2, \"What to Expect When You're Expecting\": 0, 'Burn After Reading': 2, \"Nim's Island\": 3, 'Rush': 2, 'Magnolia': 6, 'Cop Out': 9, 'How to Be Single': 2, 'Dolphin Tale': 9, 'Twilight': 7, 'John Q': 2, 'Blue Streak': 0, \"We're the Millers\": 7, 'Obitaemyy Ostrov': 9, 'Breakdown': 3, 'Never Say Never Again': 0, 'Hot Tub Time Machine': 2, 'Dolphin Tale 2': 9, 'Reindeer Games': 9, 'A Man Apart': 9, 'Aloha': 0, 'Ghosts of Mississippi': 9, 'Snow Falling on Cedars': 9, 'The Rite': 0, 'Gattaca': 2, \"Isn't She Great\": 3, 'Space Chimps': 3, 'Head of State': 3, 'The Hangover': 7, '葉問3': 0, 'Austin Powers: The Spy Who Shagged Me': 2, 'Batman': 9, 'There Be Dragons': 9, 'Lethal Weapon 3': 2, 'The Blind Side': 2, 'Spy Kids': 0, 'Horrible Bosses': 2, 'True Grit': 2, 'The Devil Wears Prada': 7, 'Star Trek: The Motion Picture': 0, 'Identity Thief': 2, 'Cape Fear': 2, '21': 2, 'Trainwreck': 2, 'Guess Who': 3, 'The English Patient': 6, 'L.A. Confidential': 6, 'Sky High': 0, 'In & Out': 3, 'Species': 0, 'A Nightmare on Elm Street': 2, 'The Cell': 0, 'The Man in the Iron Mask': 9, 'Secretariat': 9, 'TMNT': 3, 'Radio': 9, 'Friends with Benefits': 2, 'Neighbors 2: Sorority Rising': 2, 'Saving Mr. Banks': 2, 'Malcolm X': 6, 'This Is 40': 2, 'Old Dogs': 3, 'Underworld: Rise of the Lycans': 2, 'License to Wed': 3, 'The Benchwarmers': 3, 'Must Love Dogs': 3, 'Donnie Brasco': 2, 'Resident Evil': 2, 'Poltergeist': 2, 'The Ladykillers': 9, 'Max Payne': 0, 'In Time': 7, 'The Back-Up Plan': 0, 'Something Borrowed': 9, 'Black Knight': 3, 'The Bad News Bears': 9, 'Street Fighter': 0, 'The Pianist': 6, 'The Nativity Story': 9, 'House of Wax': 0, 'Closer': 2, 'J. Edgar': 6, 'Mirrors': 9, 'Queen of the Damned': 3, 'Predator 2': 0, 'Untraceable': 3, 'Blast from the Past': 9, 'Flash Gordon': 9, 'Jersey Girl': 3, 'Alex Cross': 0, 'Midnight in the Garden of Good and Evil': 6, 'Heist': 3, 'Nanny McPhee and the Big Bang': 0, 'Hoffa': 9, 'The X Files: I Want to Believe': 0, 'Ella Enchanted': 3, 'Concussion': 2, 'Abduction': 0, 'Valiant': 3, 'Wonder Boys': 9, 'Superhero Movie': 3, 'Broken City': 0, 'Cursed': 3, 'Premium Rush': 3, 'Hot Pursuit': 3, 'The Four Feathers': 9, 'Parker': 2, 'Wimbledon': 3, 'Furry Vengeance': 3, 'Bait': 3, 'Krull': 9, 'Lions for Lambs': 3, 'Flight of the Intruder': 9, 'Walk Hard: The Dewey Cox Story': 3, 'The Shipping News': 9, 'American Outlaws': 3, 'The Young Victoria': 9, 'Whiteout': 3, 'The Tree of Life': 6, 'Knock Off': 3, 'Sabotage': 9, 'The Order': 3, 'Punisher: War Zone': 3, 'Zoom': 3, 'The Walk': 2, 'Warriors of Virtue': 3, 'A Good Year': 9, 'Radio Flyer': 9, 'Bound by Honor': 6, \"Smilla's Sense of Snow\": 9, 'Femme Fatale': 9, 'Lion of the Desert': 6, 'Le Hussard sur le toit': 9, 'Ride with the Devil': 9, 'Biutiful': 6, 'Bandidas': 3, 'Black Water Transit': 3, 'The Maze Runner': 7, 'Unfinished Business': 3, 'The Age of Innocence': 6, 'The Fountain': 2, 'Chill Factor': 0, 'Stolen': 3, '崖の上のポニョ': 2, 'The Longest Ride': 2, \"The Astronaut's Wife\": 0, 'I Dreamed of Africa': 9, 'Playing for Keeps': 9, 'Mandela: Long Walk to Freedom': 6, 'Reds': 6, 'A Few Good Men': 2, 'Exit Wounds': 0, \"Big Momma's House\": 0, 'The House of Magic': 3, 'The Darkest Hour': 3, 'Step Up Revolution': 2, 'Snakes on a Plane': 0, 'The Watcher': 3, 'The Punisher': 2, 'Goal!: The Dream Begins': 9, 'Safe': 2, 'Pushing Tin': 9, 'Return of the Jedi': 7, 'Doomsday': 9, 'The Reader': 2, 'Wanderlust': 3, 'Elf': 2, 'Phenomenon': 9, 'Snow Dogs': 3, 'Scrooged': 9, 'Nacho Libre': 3, 'Bridesmaids': 2, 'This Is the End': 2, 'Stigmata': 9, 'Men of Honor': 9, 'Takers': 9, 'The Big Wedding': 3, 'Big Mommas: Like Father, Like Son': 9, 'Source Code': 2, 'Alive': 9, 'The Number 23': 2, 'The Young and Prodigious T.S. Spivet': 9, '1941': 9, 'Dreamer: Inspired By a True Story': 9, 'A History of Violence': 2, 'Transporter 2': 2, 'The Quick and the Dead': 9, 'Laws of Attraction': 3, 'Bringing Out the Dead': 9, 'Repo Men': 9, '디워': 0, 'Bogus': 9, 'The Incredible Burt Wonderstone': 3, \"Cats Don't Dance\": 3, 'Cradle Will Rock': 9, 'The Good German': 9, 'George and the Dragon': 3, 'Apocalypse Now': 6, 'Going the Distance': 3, \"Mr. Holland's Opus\": 9, 'Criminal': 9, 'Out of Africa': 6, 'Flight': 2, 'Moonraker': 0, 'The Grand Budapest Hotel': 7, 'Hearts in Atlantis': 9, 'Arachnophobia': 9, 'Frequency': 9, 'Vacation': 2, 'Get Shorty': 9, 'Chicago': 2, 'Big Daddy': 2, 'American Pie 2': 2, 'Toy Story': 7, 'Speed': 2, 'The Vow': 2, 'Extraordinary Measures': 9, 'Remember the Titans': 2, 'The Hunt for Red October': 2, 'The Butler': 2, 'DodgeBall: A True Underdog Story': 2, 'The Addams Family': 2, 'Ace Ventura: When Nature Calls': 2, 'The Princess Diaries': 2, 'The First Wives Club': 9, 'Se7en': 7, 'District 9': 7, 'The SpongeBob SquarePants Movie': 2, 'Mystic River': 2, 'Million Dollar Baby': 7, 'Analyze This': 0, 'The Notebook': 2, '27 Dresses': 2, 'Hannah Montana: The Movie': 0, 'Rugrats in Paris: The Movie': 3, 'The Prince of Tides': 9, 'Legends of the Fall': 2, 'Up in the Air': 2, 'About Schmidt': 9, 'Warm Bodies': 2, 'Looper': 7, 'Down to Earth': 3, 'Babe': 2, 'Hope Springs': 3, 'Forgetting Sarah Marshall': 2, 'Four Brothers': 0, 'Baby Mama': 3, 'Hope Floats': 9, 'Bride Wars': 2, 'Without a Paddle': 3, '13 Going on 30': 2, 'Midnight in Paris': 2, 'The Nut Job': 3, 'Blow': 2, 'Message in a Bottle': 0, 'Star Trek V: The Final Frontier': 9, 'Like Mike': 3, 'The Naked Gun 33⅓: The Final Insult': 3, 'A View to a Kill': 9, 'The Curse of the Were-Rabbit': 2, 'P.S. I Love You': 2, 'Racing Stripes': 3, 'Atonement': 2, 'Letters to Juliet': 9, 'Black Rain': 9, 'The Three Stooges': 3, 'Corpse Bride': 2, 'Glory Road': 9, 'Sicario': 2, 'Southpaw': 2, 'Drag Me to Hell': 2, 'The Age of Adaline': 2, 'Secondhand Lions': 9, 'Step Up 3D': 2, 'Blue Crush': 3, 'Stranger Than Fiction': 2, '30 Days of Night': 2, 'The Cabin in the Woods': 2, 'Meet the Spartans': 3, 'Midnight Run': 9, 'The Running Man': 2, 'Little Shop of Horrors': 3, 'Hanna': 2, 'Mortal Kombat: Annihilation': 3, 'Larry Crowne': 3, 'Carrie': 2, 'Take the Lead': 9, 'Gridiron Gang': 9, \"What's the Worst That Could Happen?\": 3, '9': 2, 'Side Effects': 2, 'The Prince & Me': 9, 'Winnie the Pooh': 3, 'Dumb and Dumberer: When Harry Met Lloyd': 3, 'Bulworth': 9, 'Get on Up': 9, 'One True Thing': 9, 'Virtuosity': 3, 'My Super Ex-Girlfriend': 3, 'Deliver Us from Evil': 9, 'Sanctum': 9, 'Little Black Book': 9, 'The Five-Year Engagement': 9, 'Mr. 3000': 3, 'The Next Three Days': 2, 'Ultraviolet': 3, 'Assault on Precinct 13': 9, 'The Replacement Killers': 3, 'Fled': 3, 'Eight Legged Freaks': 3, 'Love & Other Drugs': 2, '88 Minutes': 9, 'North Country': 9, 'The Whole Ten Yards': 3, 'Splice': 3, 'Howard the Duck': 9, 'Pride and Glory': 9, 'The Cave': 3, 'Alex & Emma': 3, 'Wicker Park': 9, 'Fright Night': 9, 'The New World': 9, 'Wing Commander': 3, 'In Dreams': 3, 'Dragonball Evolution': 0, 'The Last Stand': 2, 'Godsend': 3, 'Chasing Liberty': 9, 'Hoodwinked Too! Hood VS. Evil': 3, 'An Unfinished Life': 9, 'The Imaginarium of Doctor Parnassus': 2, \"Barney's Version\": 9, 'Runner Runner': 3, 'Antitrust': 9, 'Glory': 9, 'Once Upon a Time in America': 6, 'Dead Man Down': 9, 'The Merchant of Venice': 9, 'The Good Thief': 9, 'Supercross': 3, 'Miss Potter': 3, 'Wu Ji': 3, 'DOA: Dead or Alive': 3, 'The Assassination of Jesse James by the Coward Robert Ford': 6, '辛亥革命': 9, 'Le petit Nicolas': 3, 'Wild Card': 2, 'Machine Gun Preacher': 9, 'Konferenz der Tiere': 3, 'Goodbye Bafana': 6, 'United Passions': 3, 'Grace of Monaco': 3, 'Савва. Сердце воина': 3, \"Ripley's Game\": 9, 'Sausage Party': 2, 'Pitch Perfect 2': 2, 'Walk the Line': 2, 'Keeping the Faith': 9, 'The Borrowers': 3, 'Frost/Nixon': 9, 'Confessions of a Dangerous Mind': 9, 'Serving Sara': 3, 'The Boss': 3, 'Cry Freedom': 6, 'Mumford': 9, 'Seed of Chucky': 3, 'The Jacket': 9, 'Aladdin': 7, 'Straight Outta Compton': 2, 'Indiana Jones and the Temple of Doom': 7, 'The Rugrats Movie': 3, 'Along Came a Spider': 0, 'Florence Foster Jenkins': 9, 'Once Upon a Time in Mexico': 2, 'Die Hard': 7, 'Role Models': 2, 'The Big Short': 2, 'Taking Woodstock': 9, 'Miracle': 9, 'Dawn of the Dead': 2, 'The Wedding Planner': 0, 'キャプテンハーロック': 9, 'The Royal Tenenbaums': 2, 'Identity': 2, 'Last Vegas': 2, 'For Your Eyes Only': 2, 'Serendipity': 3, 'Timecop': 3, 'Zoolander': 2, 'Safe Haven': 2, 'Hocus Pocus': 3, 'No Reservations': 9, 'Kick-Ass': 7, '30 Minutes or Less': 3, 'Dracula 2000': 3, 'Alexander and the Terrible, Horrible, No Good, Very Bad Day': 3, 'Pride & Prejudice': 2, 'Blade Runner': 7, 'Rob Roy': 9, '3 Days to Kill': 2, 'We Own the Night': 9, 'Lost Souls': 3, 'Le peuple migrateur': 9, 'Just My Luck': 9, 'Mystery, Alaska': 9, 'The Spy Next Door': 3, 'A Simple Wish': 3, 'Ghosts of Mars': 3, 'Our Brand Is Crisis': 9, 'Pride and Prejudice and Zombies': 9, 'Kundun': 9, 'How to Lose Friends & Alienate People': 9, 'Kick-Ass 2': 2, 'Alatriste': 6, 'Brick Mansions': 3, 'Octopussy': 2, 'Knocked Up': 2, \"My Sister's Keeper\": 9, 'Welcome Home Roscoe Jenkins': 9, 'A Passage to India': 6, 'Notes on a Scandal': 3, 'Rendition': 9, 'Star Trek VI: The Undiscovered Country': 9, 'Divine Secrets of the Ya-Ya Sisterhood': 9, 'Kiss the Girls': 9, 'The Blues Brothers': 2, 'The Sisterhood of the Traveling Pants 2': 9, 'Joyful Noise': 9, 'About a Boy': 2, 'Lake Placid': 3, 'Lucky Number Slevin': 2, 'The Right Stuff': 6, 'Anonymous': 9, 'The Neverending Story': 2, 'Dark City': 2, 'The Duchess': 9, 'Return to Oz': 9, 'The Newton Boys': 9, 'Case 39': 9, 'Suspect Zero': 3, 'Martian Child': 9, 'Spy Kids: All the Time in the World': 3, 'Money Monster': 2, 'The 51st State': 3, 'Flawless': 9, 'Mindhunters': 9, 'What Just Happened': 3, 'The Statement': 9, 'The Magic Flute': 9, 'Paul Blart: Mall Cop': 2, 'Freaky Friday': 2, 'The 40 Year Old Virgin': 2, 'Shakespeare in Love': 2, 'A Walk Among the Tombstones': 2, 'Kindergarten Cop': 9, 'Pineapple Express': 2, 'EverAfter': 9, 'Open Range': 6, 'Flatliners': 9, 'A Bridge Too Far': 6, 'Red Eye': 3, 'Final Destination 2': 2, 'O Brother, Where Art Thou?': 2, 'Legion': 3, 'Pain & Gain': 2, 'In Good Company': 9, 'Clockstoppers': 3, 'Silverado': 9, 'Brothers': 9, 'Agent Cody Banks 2: Destination London': 3, \"New Year's Eve\": 0, 'Original Sin': 9, 'The Raven': 9, 'Welcome to Mooseport': 3, 'Highlander III: The Sorcerer': 3, 'Blood and Wine': 3, 'Snow White: A Tale of Terror': 3, 'The Curse of the Jade Scorpion': 9, 'Accidental Love': 3, 'Flipper': 3, 'Self/less': 2, 'The Constant Gardener': 9, 'The Passion of the Christ': 2, 'Mrs. Doubtfire': 2, 'Rain Man': 2, 'Gran Torino': 7, 'W.': 9, 'Taken': 7, 'The Best of Me': 2, 'The Bodyguard': 2, \"Schindler's List\": 7, 'The Help': 6, 'The Fifth Estate': 9, 'Scooby-Doo 2: Monsters Unleashed': 3, 'Viy': 9, 'Freddy vs. Jason': 0, 'The Face of an Angel': 3, 'Jimmy Neutron: Boy Genius': 3, 'Cloverfield': 2, 'Teenage Mutant Ninja Turtles II: The Secret of the Ooze': 3, 'The Untouchables': 2, 'No Country for Old Men': 2, 'Ride Along': 2, \"Bridget Jones's Diary\": 2, 'Chocolat': 2, 'Legally Blonde 2: Red, White & Blonde': 0, 'Parental Guidance': 9, 'No Strings Attached': 2, 'Tombstone': 9, 'Romeo Must Die': 9, 'The Omen': 9, 'Final Destination 3': 2, 'The Lucky One': 2, 'Bridge to Terabithia': 2, 'Finding Neverland': 2, 'A Madea Christmas': 9, 'The Grey': 2, 'Hide and Seek': 9, 'Anchorman: The Legend of Ron Burgundy': 2, 'GoodFellas': 7, 'Agent Cody Banks': 3, 'Nanny McPhee': 2, 'Scarface': 6, 'Nothing to Lose': 3, 'The Last Emperor': 6, 'Contraband': 2, 'Money Talks': 3, 'There Will Be Blood': 6, 'The Wild Thornberrys Movie': 3, 'Rugrats Go Wild': 3, 'Undercover Brother': 3, 'The Sisterhood of the Traveling Pants': 9, 'Kiss of the Dragon': 3, 'The House Bunny': 3, 'Beauty Shop': 3, 'Million Dollar Arm': 9, 'The Giver': 2, 'What a Girl Wants': 3, 'Jeepers Creepers 2': 3, 'Good Luck Chuck': 3, 'Cradle 2 the Grave': 3, 'The Hours': 9, \"She's the Man\": 9, \"Mr. Bean's Holiday\": 2, 'Anacondas: The Hunt for the Blood Orchid': 3, 'Blood Ties': 9, 'August Rush': 2, 'Elizabeth': 9, 'Bride of Chucky': 3, 'Tora! Tora! Tora!': 6, 'Spice World': 3, 'The Sitter': 3, 'Dance Flick': 3, 'The Shawshank Redemption': 7, 'Crocodile Dundee in Los Angeles': 3, 'Kingpin': 9, 'The Gambler': 9, 'August: Osage County': 9, 'Ice Princess': 3, 'A Lot Like Love': 9, 'Eddie the Eagle': 9, 'He Got Game': 9, 'Don Juan DeMarco': 3, 'Dear John': 2, 'The Losers': 3, \"Don't Be Afraid of the Dark\": 3, 'War': 9, 'Punch-Drunk Love': 3, 'EuroTrip': 3, 'Half Past Dead': 3, 'Unaccompanied Minors': 3, 'Bright Lights, Big City': 3, 'The Adventures of Pinocchio': 3, 'The Greatest Game Ever Played': 9, 'The Box': 9, 'The Ruins': 3, 'The Next Best Thing': 3, 'My Soul to Take': 3, 'The Girl Next Door': 2, 'Maximum Risk': 3, 'Stealing Harvard': 3, 'Legend': 2, 'Hot Rod': 3, 'Shark Night': 3, \"Angela's Ashes\": 6, 'Draft Day': 9, 'Lifeforce': 9, 'The Conspirator': 9, 'Lords of Dogtown': 9, 'The 33': 9, 'Big Trouble in Little China': 9, 'Un Plan parfait': 3, 'Warrior': 2, 'Michael Collins': 9, 'Gettysburg': 6, 'Stop-Loss': 9, 'Abandon': 3, 'Brokedown Palace': 3, 'The Possession': 3, 'Mrs. Winterbourne': 3, 'Straw Dogs': 9, 'The Hoax': 9, 'Stone Cold': 3, 'The Road': 2, 'Sheena': 9, 'Underclassman': 3, \"Say It Isn't So\": 3, \"The World's Fastest Indian\": 9, 'Tank Girl': 3, \"King's Ransom\": 3, 'Blindness': 9, 'BloodRayne': 3, 'Carnage': 3, 'Where the Truth Lies': 9, 'Cirque du Soleil: Worlds Away': 3, 'Without Limits': 9, 'Me and Orson Welles': 9, 'La migliore offerta': 9, 'The Bad Lieutenant: Port of Call - New Orleans': 9, \"Sammy's avonturen: De geheime doorgang\": 3, 'Les petits mouchoirs': 6, 'Love Ranch': 9, 'La véritable histoire du Chat Botté': 3, 'Белка и Стрелка. Звёздные собаки': 3, 'The Counselor': 2, 'Ironclad': 9, 'Waterloo': 9, '一個人的武林': 9, 'Red Sky': 3, 'Dangerous Liaisons': 9, 'On the Road': 9, 'Star Trek IV: The Voyage Home': 9, 'Rocky Balboa': 2, 'Scream 2': 2, 'Jane Got a Gun': 3, 'Think Like a Man Too': 9, 'The Whole Nine Yards': 0, 'Footloose': 9, 'Old School': 3, 'The Fisher King': 9, 'I Still Know What You Did Last Summer': 0, 'Return to Me': 9, 'Zack and Miri Make a Porno': 9, 'Nurse Betty': 9, 'The Men Who Stare at Goats': 3, 'Double Take': 3, 'Girl, Interrupted': 9, 'Win a Date with Tad Hamilton!': 3, 'Muppets from Space': 3, 'The Wiz': 9, 'Ready to Rumble': 3, 'Play It to the Bone': 9, \"I Don't Know How She Does It\": 3, 'Piranha 3D': 3, 'Beyond the Sea': 9, 'Meet the Deedles': 3, 'The Thief and the Cobbler': 3, 'The Bridge of San Luis Rey': 9, 'Faster': 3, 'ハウルの動く城': 2, 'Zombieland': 2, 'The Waterboy': 3, 'The Empire Strikes Back': 7, 'Bad Boys': 2, 'The Naked Gun 2½: The Smell of Fear': 3, 'Final Destination': 2, 'The Ides of March': 9, 'Pitch Black': 2, 'Someone Like You...': 3, 'Her': 7, 'Joy Ride': 3, 'The Adventurer: The Curse of the Midas Box': 3, 'Anywhere But Here': 9, 'The Crew': 3, 'Haywire': 3, 'Jaws: The Revenge': 3, \"Marvin's Room\": 3, 'The Longshots': 3, 'The End of the Affair': 9, 'Harley Davidson and the Marlboro Man': 3, 'In the Valley of Elah': 9, 'Coco avant Chanel': 9, 'Forsaken': 3, 'Chéri': 3, 'Vanity Fair': 9, '十月圍城': 9, '1408': 2, 'Spaceballs': 2, 'The Water Diviner': 9, 'Ghost': 2, \"There's Something About Mary\": 2, 'The Santa Clause': 3, 'The Rookie': 9, 'The Game Plan': 9, 'The Bridges of Madison County': 9, 'The Animal': 3, 'Gandhi': 6, 'The Hundred-Foot Journey': 9, 'The Net': 9, 'I Am Sam': 9, 'Son of God': 9, 'Underworld': 2, 'Derailed': 9, 'The Informant!': 9, 'Shadowlands': 9, 'Deuce Bigalow: European Gigolo': 3, 'Delivery Man': 9, 'Our Kind of Traitor': 9, 'Saving Silverman': 3, 'Diary of a Wimpy Kid: Dog Days': 3, 'Summer of Sam': 9, 'Jay and Silent Bob Strike Back': 9, 'The Glass House': 9, 'Hail, Caesar!': 2, 'Josie and the Pussycats': 3, 'Homefront': 2, 'The Little Vampire': 3, 'I Heart Huckabees': 9, 'RoboCop 3': 3, 'Megiddo: The Omega Code 2': 3, 'Darling Lili': 3, 'Dudley Do-Right': 3, 'The Transporter Refueled': 3, 'The Libertine': 9, 'Zwartboek': 6, 'Joyeux Noël': 9, 'Hit & Run': 3, 'Mad Money': 3, 'Before I Go to Sleep': 2, 'Sorcerer': 9, 'Stone': 3, 'Molière': 9, 'Out of the Furnace': 9, 'Michael Clayton': 9, 'My Fellow Americans': 3, 'Arlington Road': 9, 'Metegol': 9, 'To Rome with Love': 9, 'Firefox': 9, 'South Park: Bigger, Longer & Uncut': 3, 'Death at a Funeral': 3, 'Teenage Mutant Ninja Turtles III': 3, 'Hardball': 9, 'Silver Linings Playbook': 7, 'Freedom Writers': 9, 'For Colored Girls': 9, 'The Transporter': 2, 'Never Back Down': 9, 'The Rage: Carrie 2': 3, 'Away We Go': 3, 'Swing Vote': 9, 'Moonlight Mile': 9, 'Tinker Tailor Soldier Spy': 9, 'Molly': 3, 'The Beaver': 3, 'The Best Little Whorehouse in Texas': 9, 'eXistenZ': 3, 'Raiders of the Lost Ark': 7, 'Home Alone 2: Lost in New York': 7, 'Close Encounters of the Third Kind': 2, 'Pulse': 3, 'Beverly Hills Cop II': 2, 'Bringing Down the House': 3, 'The Silence of the Lambs': 7, \"Wayne's World\": 2, 'Jackass 3D': 3, 'Jaws 2': 9, 'Beverly Hills Chihuahua': 3, 'The Conjuring': 7, 'Are We There Yet?': 3, 'Tammy': 3, 'School of Rock': 2, 'Mortal Kombat': 3, 'White Chicks': 0, 'The Descendants': 2, 'Holes': 9, 'The Last Song': 9, '12 Years a Slave': 7, 'Drumline': 9, 'Why Did I Get Married Too?': 9, 'Edward Scissorhands': 2, 'Me Before You': 2, \"Madea's Witness Protection\": 9, 'The French Connection': 9, 'Bad Moms': 2, 'Date Movie': 3, 'Return to Never Land': 3, 'Selma': 9, 'The Jungle Book 2': 3, 'Boogeyman': 3, 'Premonition': 3, 'The Tigger Movie': 3, 'Orphan': 2, 'Max': 9, 'Epic Movie': 3, 'Spotlight': 2, 'Lakeview Terrace': 9, 'The Grudge 2': 3, 'How Stella Got Her Groove Back': 9, \"Bill & Ted's Bogus Journey\": 3, 'Man of the Year': 9, 'The Black Hole': 3, 'The American': 9, 'Selena': 9, 'Vampires Suck': 3, 'Babel': 6, 'This Is Where I Leave You': 9, 'Doubt': 9, 'Team America: World Police': 2, 'Texas Chainsaw 3D': 3, 'Copycat': 9, 'Scary Movie 5': 3, 'Paint Your Wagon': 6, 'Milk': 9, 'Risen': 9, 'Ghost Ship': 3, 'A Very Harold & Kumar Christmas': 9, 'Wild Things': 9, 'The Stepfather': 3, 'The Debt': 9, 'High Fidelity': 9, 'One Missed Call': 3, 'Eye for an Eye': 3, 'The Bank Job': 9, 'Eternal Sunshine of the Spotless Mind': 7, 'You Again': 9, 'Street Kings': 9, \"The World's End\": 2, 'Nancy Drew': 3, 'Daybreakers': 3, \"She's Out of My League\": 9, 'Monte Carlo': 9, 'Stay Alive': 3, 'Quigley Down Under': 9, 'Alpha and Omega': 3, 'The Covenant': 3, 'Stick It': 9, 'Shorts': 3, 'To Die For': 9, 'Nerve': 2, 'Appaloosa': 9, 'Vampires': 9, 'Psycho': 2, \"My Best Friend's Girl\": 3, 'Endless Love': 9, 'Georgia Rule': 9, 'Under the Rainbow': 3, 'Ladyhawke': 9, 'Simon Birch': 9, 'Reign Over Me': 9, 'Into the Wild': 2, 'School for Scoundrels': 3, 'Silent Hill: Revelation 3D': 3, 'From Dusk Till Dawn': 2, \"Pooh's Heffalump Movie\": 3, 'Home for the Holidays': 3, '功夫': 9, 'The Country Bears': 3, 'The Kite Runner': 9, '21 Grams': 2, 'Paparazzi': 3, 'A Guy Thing': 3, 'Loser': 3, 'Capitalism: A Love Story': 9, 'The Greatest Story Ever Told': 6, 'Secret in Their Eyes': 9, 'Disaster Movie': 3, 'Armored': 3, 'The Man Who Knew Too Little': 3, \"What's Your Number?\": 9, 'Lockout': 3, 'Envy': 3, 'Crank: High Voltage': 2, 'Bullets Over Broadway': 3, 'One Night with the King': 9, 'The Quiet American': 9, 'The Weather Man': 3, 'Undisputed': 3, 'Ghost Town': 9, '12 Rounds': 9, 'Let Me In': 9, '3 Ninjas Kick Back': 3, 'Be Kind Rewind': 3, 'Mrs Henderson Presents': 9, 'Triple 9': 9, 'Deconstructing Harry': 9, 'Three to Tango': 3, 'Burnt': 2, \"We're No Angels\": 9, 'Everyone Says I Love You': 9, 'Death Sentence': 9, \"Everybody's Fine\": 3, 'Superbabies: Baby Geniuses 2': 3, 'The Man': 3, 'Code Name: The Cleaner': 3, 'Connie and Carla': 3, 'Sweet Charity': 6, 'Inherent Vice': 6, 'Doogal': 3, 'Battle of the Year': 9, 'An American Carol': 3, 'Machete Kills': 9, 'Willard': 3, 'Strange Wilderness': 3, 'Topsy-Turvy': 6, 'Little Boy': 9, 'A Dangerous Method': 3, 'A Scanner Darkly': 9, 'Chasing Mavericks': 9, 'Alone in the Dark': 3, 'Bandslam': 9, 'Birth': 3, 'A Most Violent Year': 9, 'Passchendaele': 9, 'Flash of Genius': 9, \"I'm Not There.\": 9, 'The Cold Light of Day': 3, 'The Brothers Bloom': 9, 'Synecdoche, New York': 9, 'もののけ姫': 2, 'Bon voyage': 9, \"Can't Stop the Music\": 9, 'The Proposition': 9, 'My All American': 9, 'Marci X': 3, 'Equilibrium': 2, '黃石的孩子': 9, 'The Yards': 9, 'The Oogieloves in the Big Balloon Adventure': 3, 'By the Sea': 9, 'Steamboy': 9, 'The Game of Their Lives': 3, 'All Good Things': 3, 'Rapa Nui': 9, '長江七號': 3, 'Les Visiteurs 2 : Les Couloirs du temps': 9, 'Dylan Dog: Dead of Night': 3, 'People I Know': 3, 'The Tempest': 9, 'Regression': 3, '三国之见龙卸甲': 9, 'Butterfly on a Wheel': 3, 'Zambezia': 3, 'ராமானுஜன்': 6, 'Dwegons': 3, 'Hands of Stone': 9, 'Survivor': 3, 'The Frozen Ground': 9, 'The Painted Veil': 9, 'Der Baader Meinhof Komplex': 6, 'Dances with Wolves': 6, 'Bad Teacher': 2, 'Sea of Love': 9, 'A Cinderella Story': 3, 'Scream': 2, 'Thir13en Ghosts': 3, 'The Shining': 7, 'Back to the Future': 7, 'House on Haunted Hill': 3, 'I Can Do Bad All By Myself': 9, 'Fight Valley': 3, 'The Switch': 3, 'Just Married': 3, \"The Devil's Double\": 9, 'Thomas and the Magic Railroad': 3, 'The Crazies': 9, '千と千尋の神隠し': 7, '風暴': 9, 'The Bounty': 9, 'The Book Thief': 2, 'Sex Drive': 9, 'Leap Year': 9, 'The Fall of the Roman Empire': 6, 'Take Me Home Tonight': 3, \"Won't Back Down\": 9, 'The Nutcracker': 3, 'Kansas City': 9, 'Indignation': 9, 'The Amityville Horror': 3, 'Adaptation.': 9, 'Land of the Dead': 3, '逃出生天': 9, 'Fear and Loathing in Las Vegas': 2, 'The Invention of Lying': 3, 'Neighbors': 2, 'The Mask': 7, 'Big': 2, 'Borat: Cultural Learnings of America for Make Benefit Glorious Nation of Kazakhstan': 2, 'Legally Blonde': 2, 'Star Trek III: The Search for Spock': 9, 'The Exorcism of Emily Rose': 2, 'Deuce Bigalow: Male Gigolo': 3, 'Left Behind': 3, 'The Family Stone': 9, 'Barbershop 2:  Back in Business': 9, 'Bad Santa': 3, 'Austin Powers: International Man of Mystery': 2, 'My Big Fat Greek Wedding 2': 3, 'Diary of a Wimpy Kid: Rodrick Rules': 3, 'Predator': 2, 'Amadeus': 6, 'Prom Night': 3, 'Mean Girls': 2, 'Under the Tuscan Sun': 9, 'Gosford Park': 9, 'Peggy Sue Got Married': 3, 'Birdman': 7, 'Blue Jasmine': 2, 'United 93': 9, 'Honey': 3, 'Spy Hard': 3, 'The Fog': 3, 'Soul Surfer': 9, 'Catch-22': 9, 'Observe and Report': 3, 'Conan the Destroyer': 3, 'Raging Bull': 9, 'Love Happens': 9, 'Young Sherlock Holmes': 9, 'Fame': 3, '127 Hours': 2, 'Small Time Crooks': 3, 'Center Stage': 9, 'Love the Coopers': 9, 'Catch That Kid': 3, 'Life as a House': 9, 'Steve Jobs': 2, 'I Love You, Beth Cooper': 3, 'Youth in Revolt': 3, 'The Legend of the Lone Ranger': 3, 'The Tailor of Panama': 9, 'Blow Out': 9, 'Getaway': 3, 'The Ice Storm': 9, 'And So It Goes': 3, 'Troop Beverly Hills': 3, 'Being Julia': 9, 'Nine 1/2 Weeks': 9, 'Dragonslayer': 9, 'The Last Station': 9, 'Ed Wood': 9, 'Labor Day': 9, 'Монгол': 9, 'RockNRolla': 9, 'Megaforce': 3, 'Hamlet': 6, \"Mao's Last Dancer\": 9, 'Midnight Special': 9, 'Anything Else': 9, 'The Railway Man': 9, 'Das weisse Band': 6, 'Restoration': 3, 'The Wraith': 3, 'Salton Sea': 9, 'Metallica: Through the Never': 3, 'The Informers': 3, 'Carlos': 6, 'I Come with the Rain': 9, \"One Man's Hero\": 9, 'Day of the Dead': 3, 'I Am Wrath': 3, 'Renaissance': 9, 'Red Sonja': 3, 'Red Lights': 9, 'Superbad': 2, 'Madea Goes to Jail': 9, 'Wolves': 3, 'Step Up 2: The Streets': 2, 'Hoodwinked!': 3, 'Hotel Rwanda': 9, 'Hitman': 2, 'Black Nativity': 3, 'The Prince': 3, 'City of Ghosts': 9, 'The Others': 2, 'Aliens': 7, 'My Fair Lady': 6, 'I Know What You Did Last Summer': 2, \"Let's Be Cops\": 2, 'Sideways': 9, 'Beerfest': 9, 'Halloween': 2, 'Good Boy!': 3, 'The Best Man Holiday': 9, \"Smokin' Aces\": 9, 'Saw 3D': 2, '40 Days and 40 Nights': 3, 'A Night at the Roxbury': 3, 'Beastly': 3, 'The Hills Have Eyes': 2, 'Dickie Roberts: Former Child Star': 3, 'McFarland, USA': 9, 'Lottery Ticket': 3, 'ATL': 9, 'Pitch Perfect': 2, 'Summer Catch': 3, 'A Simple Plan': 9, 'They': 3, 'Larry the Cable Guy: Health Inspector': 3, 'The Adventures of Elmo in Grouchland': 3, \"Brooklyn's Finest\": 9, '55 Days at Peking': 6, 'Evil Dead': 2, 'My Life in Ruins': 3, 'American Dreamz': 3, 'Superman IV: The Quest for Peace': 3, 'How She Move': 3, 'Running Scared': 9, 'Bobby Jones: Stroke of Genius': 9, 'Shanghai Surprise': 3, 'The Illusionist': 2, 'Roar': 3, 'Veronica Guerin': 3, 'Escobar: Paradise Lost': 9, 'Southland Tales': 6, 'Chasseurs de dragons': 3, 'Damnation Alley': 3, 'The Apparition': 3, 'My Girl': 9, 'Fur: An Imaginary Portrait of Diane Arbus': 9, 'Wall Street': 9, 'Sense and Sensibility': 9, 'Becoming Jane': 9, 'Sydney White': 9, 'House of Sand and Fog': 9, 'Dead Poets Society': 7, 'Dumb and Dumber': 2, 'When Harry Met Sally...': 2, 'The Verdict': 9, 'Road Trip': 3, 'Varsity Blues': 9, 'The Artist': 2, 'The Unborn': 3, 'Moonrise Kingdom': 2, 'The Texas Chainsaw Massacre: The Beginning': 3, 'The Young Messiah': 9, 'The Master of Disguise': 3, 'El laberinto del fauno': 7, 'See Spot Run': 3, 'Baby Boy': 9, 'The Roommate': 3, 'Joe Dirt': 3, 'Double Impact': 9, 'Hot Fuzz': 2, 'The Women': 9, 'Vicky Cristina Barcelona': 2, 'Arn: Tempelriddaren': 9, 'Boys and Girls': 3, 'White Oleander': 9, \"Jennifer's Body\": 3, 'Drowning Mona': 3, 'Radio Days': 3, 'Remember Me': 2, 'How to Deal': 3, 'My Stepmother is an Alien': 9, 'Philadelphia': 2, 'The Thirteenth Floor': 9, 'The Cookout': 3, 'Meteor': 3, 'Duets': 9, 'Hollywood Ending': 9, 'Detroit Rock City': 3, 'Highlander': 9, 'Things We Lost in the Fire': 9, 'Steel': 3, 'The Immigrant': 9, 'The White Countess': 9, 'Trance': 2, 'Soul Plane': 3, \"Bienvenue chez les ch'tis\": 9, 'Good': 3, 'Enter the Void': 6, 'Vamps': 3, \"Hachi: A Dog's Tale\": 2, 'Zulu': 9, 'The Homesman': 9, 'Juwanna Mann': 3, 'Ararat': 9, 'Madison': 3, 'Slow Burn': 3, 'Wasabi': 3, 'Slither': 3, 'Beverly Hills Cop': 2, 'Home Alone': 2, 'Three Men and a Baby': 3, 'Tootsie': 9, 'Top Gun': 2, '卧虎藏龙': 2, 'American Beauty': 7, \"The King's Speech\": 7, 'Twins': 2, 'The Yellow Handkerchief': 9, 'The Color Purple': 6, '해운대': 9, 'The Imitation Game': 7, 'Private Benjamin': 9, \"Coal Miner's Daughter\": 9, 'Diary of a Wimpy Kid': 3, 'Mama': 2, \"National Lampoon's Vacation\": 9, 'Jackass Presents: Bad Grandpa': 2, 'The Queen': 9, 'Beetlejuice': 2, 'Why Did I Get Married?': 9, 'Little Women': 9, 'The Woman in Black': 2, 'When a Stranger Calls': 3, 'Big Fat Liar': 3, 'The Deer Hunter': 6, 'Wag the Dog': 3, 'The Lizzie McGuire Movie': 3, 'Snitch': 2, 'Krampus': 3, 'The Faculty': 9, \"What's Love Got to Do with It\": 9, 'Cop Land': 9, 'Not Another Teen Movie': 3, 'End of Watch': 2, 'The Skulls': 9, 'The Theory of Everything': 7, \"Malibu's Most Wanted\": 3, 'Where the Heart Is': 9, 'Lawrence of Arabia': 6, 'Halloween II': 3, 'Wild': 2, 'The Last House on the Left': 9, 'The Wedding Date': 3, 'Halloween: Resurrection': 3, 'The Princess Bride': 2, 'The Great Debaters': 9, 'Drive': 2, 'Confessions of a Teenage Drama Queen': 3, 'The Object of My Affection': 9, '28 Weeks Later': 2, 'When the Game Stands Tall': 9, 'Because of Winn-Dixie': 9, 'Love & Basketball': 9, 'Grosse Pointe Blank': 9, 'All About Steve': 3, 'Book of Shadows: Blair Witch 2': 3, 'The Craft': 9, 'Match Point': 2, 'Ramona and Beezus': 3, 'The Remains of the Day': 9, 'Boogie Nights': 6, 'Nowhere to Run': 3, 'Flicka': 3, 'The Hills Have Eyes II': 3, 'Urban Legends: Final Cut': 3, 'Tuck Everlasting': 3, 'The Marine': 3, 'Keanu': 3, 'Country Strong': 9, 'Disturbing Behavior': 3, 'The Place Beyond the Pines': 2, 'The November Man': 2, 'Eye of the Beholder': 9, 'The Hurt Locker': 2, 'Firestarter': 9, 'Killing Them Softly': 3, 'A Most Wanted Man': 9, 'Freddy Got Fingered': 3, \"VeggieTales: The Pirates Who Don't Do Anything\": 3, 'U2 3D': 3, 'Highlander: Endgame': 3, 'Idlewild': 9, 'One Day': 9, 'Whip It': 9, 'Knockaround Guys': 3, 'Confidence': 3, 'The Muse': 3, 'De-Lovely': 9, 'New York Stories': 9, \"Barney's Great Adventure\": 3, 'The Man with the Iron Fists': 3, 'Home Fries': 3, 'Here On Earth': 3, 'Brazil': 9, 'Raise Your Voice': 3, 'The Big Lebowski': 2, 'Black Snake Moan': 9, 'Dark Blue': 9, 'A Mighty Heart': 9, 'Whatever It Takes': 3, 'Boat Trip': 3, 'The Importance of Being Earnest': 3, 'The Love Letter': 3, 'Hoot': 3, 'In Bruges': 2, 'Peeples': 3, 'The Rocker': 3, 'Post Grad': 3, 'Promised Land': 9, 'Whatever Works': 3, 'The In Crowd': 3, 'The Three Burials of Melquiades Estrada': 9, 'Jakob the Liar': 9, 'Kiss Kiss Bang Bang': 2, 'Idle Hands': 3, 'Mulholland Drive': 6, 'Blood and Chocolate': 3, 'You Will Meet a Tall Dark Stranger': 3, 'Never Let Me Go': 9, 'The Company': 6, 'Transsiberian': 9, 'The Clan of the Cave Bear': 3, 'Crazy in Alabama': 9, 'Funny Games': 9, 'Listening': 3, \"Felicia's Journey\": 9, 'Metropolis': 6, 'Banlieue 13': 3, \"Things to Do in Denver When You're Dead\": 9, '刺客聶隱娘': 9, 'Buffalo Soldiers': 3, 'Возвращение': 9, 'Ong Bak 2': 3, 'Centurion': 3, 'Silent Trigger': 3, 'The Midnight Meat Train': 3, 'Winnie Mandela': 3, 'The Son of No One': 3, \"All The Queen's Men\": 3, 'The Good Night': 3, 'Bathory': 9, 'Khumba': 3, 'Autómata': 2, 'Dungeons & Dragons: Wrath of the Dragon God': 3, 'Chiamatemi Francesco - Il Papa della gente': 9, '新宿事件': 9, 'Pandaemonium': 9, 'Groundhog Day': 2, 'Magic Mike XXL': 2, 'Romeo + Juliet': 2, \"Elle s'appelait Sarah\": 9, 'Freedom': 3, 'Unforgiven': 2, 'Manderlay': 9, 'Slumdog Millionaire': 7, 'Fatal Attraction': 2, 'Pretty Woman': 2, 'Crocodile Dundee II': 9, 'Broken Horses': 3, 'Born on the Fourth of July': 6, 'Cool Runnings': 2, 'My Bloody Valentine': 3, 'Stomp the Yard': 9, 'The Spy Who Loved Me': 2, 'Urban Legend': 3, 'Good Deeds': 9, 'White Fang': 9, 'Superstar': 3, 'The Iron Lady': 9, 'Jonah: A VeggieTales Movie': 3, 'Poetic Justice': 9, 'All About the Benjamins': 3, 'Vampire in Brooklyn': 3, 'Exorcist II: The Heretic': 9, 'An American Haunting': 3, \"My Boss's Daughter\": 3, 'A Perfect Getaway': 3, 'Our Family Wedding': 3, 'Dead Man on Campus': 3, 'Tea with Mussolini': 9, 'Thinner': 3, 'New York, New York': 6, 'Crooklyn': 9, 'I Think I Love My Wife': 3, 'Jason X': 3, 'Bobby': 9, 'Head Over Heels': 3, 'Fun Size': 3, 'Le scaphandre et le papillon': 9, 'Little Children': 9, 'Gossip': 3, 'A Walk on the Moon': 9, 'Catch a Fire': 3, 'Soul Survivors': 3, 'Jefferson in Paris': 9, 'Easy Virtue': 3, 'Caravans': 9, 'Mr. Turner': 6, 'Les herbes folles': 3, 'Amen.': 9, '剑雨': 9, 'The Lucky Ones': 9, 'Margaret': 6, 'Stan Helsing': 3, 'Flipped': 3, 'Brokeback Mountain': 2, 'Clueless': 3, 'Far from Heaven': 9, 'Hot Tub Time Machine 2': 3, 'Quills': 9, 'Seven Psychopaths': 2, \"The Caveman's Valentine\": 9, 'Der Untergang': 6, 'Mar adentro': 9, 'Under the Skin': 2, 'Good Morning, Vietnam': 9, 'The Last Godfather': 3, 'Justin Bieber: Never Say Never': 3, 'Black Swan': 7, 'The Godfather: Part II': 7, 'Save the Last Dance': 9, 'A Nightmare on Elm Street 4: The Dream Master': 3, 'Miracles from Heaven': 9, 'Dude, Where’s My Car?': 3, 'Young Guns': 9, 'St. Vincent': 2, 'About Last Night': 3, '10 Things I Hate About You': 2, 'The New Guy': 3, \"National Lampoon's Loaded Weapon 1\": 3, 'The Shallows': 2, 'The Butterfly Effect': 2, 'Snow Day': 3, 'This Christmas': 9, 'Baby Geniuses': 3, 'The Big Hit': 3, 'Harriet the Spy': 3, \"Child's Play 2\": 3, 'No Good Deed': 3, 'The Mist': 2, 'Ex Machina': 7, 'Being John Malkovich': 2, 'Two Can Play That Game': 3, 'Earth to Echo': 3, 'Crazy/Beautiful': 3, 'Letters from Iwo Jima': 6, 'The Astronaut Farmer': 9, 'Woo': 3, 'Room': 2, 'Dirty Work': 3, 'Serial Mom': 3, 'Dick': 3, 'Light It Up': 3, '54': 3, 'Bubble Boy': 3, 'Birthday Girl': 3, '21 & Over': 3, \"Paris, je t'aime\": 9, 'Resurrecting the Champ': 9, 'Admission': 9, 'La veuve de Saint-Pierre': 9, 'Chloe': 3, 'Faithful': 3, 'Find Me Guilty': 9, 'The Perks of Being a Wallflower': 2, 'Excessive Force': 3, 'Infamous': 9, 'The Claim': 9, 'The Vatican Tapes': 3, 'Attack the Block': 3, 'In the Land of Blood and Honey': 9, 'The Call': 2, '인천상륙작전': 9, 'The Crocodile Hunter: Collision Course': 3, 'I Love You Phillip Morris': 3, 'La Guerre du feu': 9, 'Antwone Fisher': 9, \"The Emperor's Club\": 9, 'True Romance': 9, 'Womb': 9, 'Glengarry Glen Ross': 9, 'The Killer Inside Me': 9, 'Cat People': 9, 'Sorority Row': 3, 'The Prisoner of Zenda': 9, 'Lars and the Real Girl': 9, 'The Boy in the Striped Pyjamas': 2, 'Dancer in the Dark': 6, 'Oscar and Lucinda': 9, 'The Funeral': 9, 'Solitary Man': 3, 'Machete': 2, 'Casino Jack': 9, 'The Land Before Time': 3, '태극기 휘날리며': 9, 'The Perfect Game': 9, 'The Exorcist': 2, 'Jaws': 7, 'American Pie': 2, 'Ernest et Célestine': 3, 'The Golden Child': 3, 'Think Like a Man': 9, 'Barbershop': 3, 'Star Trek II: The Wrath of Khan': 9, 'Ace Ventura: Pet Detective': 2, 'WarGames': 9, 'Witness': 9, 'Act of Valor': 9, 'Step Up': 2, 'Beavis and Butt-Head Do America': 3, 'Jackie Brown': 6, 'Harold & Kumar Escape from Guantanamo Bay': 9, 'Chronicle': 2, 'Yentl': 9, 'Time Bandits': 9, 'Crossroads': 3, 'Project X': 2, 'Patton': 6, 'One Hour Photo': 3, 'Quarantine': 3, 'The Eye': 3, 'Johnson Family Vacation': 3, 'How High': 3, 'The Muppet Christmas Carol': 3, 'Frida': 9, 'Katy Perry: Part of Me': 3, 'The Fault in Our Stars': 7, 'Rounders': 9, 'Top Five': 3, 'Prophecy': 3, 'Stir of Echoes': 3, 'Philomena': 2, 'The Upside of Anger': 9, 'The Boys from Brazil': 9, 'Aquamarine': 3, 'Paper Towns': 2, \"My Baby's Daddy\": 3, 'Nebraska': 9, 'Tales from the Crypt: Demon Knight': 3, \"Max Keeble's Big Move\": 3, 'Young Adult': 3, 'Crank': 2, 'How to Be a Player': 3, 'Living Out Loud': 3, 'Just Wright': 3, 'Rachel Getting Married': 9, 'The Postman Always Rings Twice': 9, 'Girl with a Pearl Earring': 3, 'Das Boot': 6, 'Sorority Boys': 3, 'About Time': 2, '十面埋伏': 9, 'Arbitrage': 3, 'Project Almanac': 2, 'Cadillac Records': 9, 'Screwed': 3, 'Fortress': 3, 'For Your Consideration': 3, 'Celebrity': 9, 'Running with Scissors': 9, 'From Justin to Kelly': 3, 'Girl 6': 9, 'In the Cut': 9, 'Two Lovers': 9, 'Last Orders': 9, '괴물': 9, 'The Pursuit of D.B. Cooper': 3, 'Ravenous': 9, 'Charlie Bartlett': 3, 'La grande bellezza': 6, 'The Dangerous Lives of Altar Boys': 9, 'Stoker': 9, '2046': 9, 'Married Life': 3, 'Duma': 9, 'Ondine': 9, 'Brother': 9, 'Welcome to Collinwood': 3, 'Critical Care': 9, 'The Life Before Her Eyes': 3, 'Darling Companion': 3, 'Trade': 9, 'Sorstalanság': 9, 'Breakfast of Champions': 9, '三枪拍案惊奇': 3, 'Cypher': 3, '南京!南京!': 9, '兔侠传奇': 3, 'Space Battleship Yamato': 9, '5 Days of War': 9, 'Triangle': 9, '10 Days in a Madhouse': 3, 'Heaven is for Real': 3, 'Snatch': 2, \"Dancin' It's On\": 3, 'Pet Sematary': 9, 'まあだだよ': 9, 'The Cry of the Owl': 3, '三城记': 9, 'Gremlins': 2, 'Star Wars': 7, 'Dirty Grandpa': 2, 'Doctor Zhivago': 6, 'Trash': 9, 'High School Musical 3: Senior Year': 9, 'The Fighter': 2, 'Jackass Number Two': 3, 'My Cousin Vinny': 9, 'If I Stay': 2, 'Drive Hard': 3, 'Major League': 9, \"St. Trinian's\": 3, 'Phone Booth': 2, 'A Walk to Remember': 2, 'Dead Man Walking': 9, 'Cruel Intentions': 3, 'Saw VI': 3, 'History of the World: Part I': 3, 'The Secret Life of Bees': 9, 'Corky Romano': 3, 'Raising Cain': 3, 'F.I.S.T.': 6, 'Invaders from Mars': 3, 'Brooklyn': 2, 'Barry Lyndon': 6, 'Out Cold': 3, 'The Ladies Man': 3, 'Quartet': 3, 'Tomcats': 3, 'Frailty': 9, 'Woman in Gold': 9, 'Kinsey': 9, 'Army of Darkness': 3, 'Slackers': 3, \"What's Eating Gilbert Grape\": 9, 'The Visual Bible: The Gospel of John': 9, 'Vera Drake': 9, 'The Guru': 3, 'The Perez Family': 9, 'Inside Llewyn Davis': 2, 'O': 3, 'Return to the Blue Lagoon': 3, 'The Molly Maguires': 9, 'Romance & Cigarettes': 9, 'Copying Beethoven': 9, 'Brighton Rock': 9, 'Saw V': 2, 'Gli intoccabili': 9, 'LOL': 3, 'Jindabyne': 9, 'कभी अलविदा ना कहना': 6, 'An Ideal Husband': 3, 'The Last Days on Mars': 3, 'Darkness': 3, '2001: A Space Odyssey': 7, 'E.T. the Extra-Terrestrial': 7, 'In the Land of Women': 3, 'The Blue Butterfly': 3, 'There Goes My Baby': 9, 'Housefull': 9, 'September Dawn': 3, 'For Greater Glory - The True Story of Cristiada': 6, 'La Famille Bélier': 9, 'Good Will Hunting': 2, 'Misconduct': 3, 'Saw III': 2, 'Stripes': 9, 'Bring It On': 3, 'The Purge: Election Year': 2, \"She's All That\": 3, 'Saw IV': 2, 'White Noise': 3, \"Madea's Family Reunion\": 9, 'The Color of Money': 9, 'The Longest Day': 6, 'The Mighty Ducks': 3, 'The Grudge': 2, 'Happy Gilmore': 3, 'Jeepers Creepers': 3, \"Bill & Ted's Excellent Adventure\": 3, 'Oliver!': 6, 'The Best Exotic Marigold Hotel': 9, \"Recess: School's Out\": 3, 'Mad Max Beyond Thunderdome': 2, 'Commando': 3, 'The Boy': 2, 'Devil': 3, 'Friday After Next': 3, 'Insidious: Chapter 3': 2, 'The Last Dragon': 9, 'The Lawnmower Man': 9, \"Nick and Norah's Infinite Playlist\": 3, 'Dogma': 9, 'The Banger Sisters': 3, 'Twilight Zone: The Movie': 3, 'Road House': 9, 'A Low Down Dirty Shame': 3, 'Swimfan': 3, 'Employee of the Month': 3, \"Can't Hardly Wait\": 3, 'The Outsiders': 3, \"Pete's Dragon\": 0, 'The Dead Zone': 9, 'Sinister 2': 3, 'Sparkle': 9, 'Valentine': 3, 'The Fourth Kind': 3, 'A Prairie Home Companion': 9, 'Sugar Hill': 9, 'Invasion U.S.A.': 3, 'Roll Bounce': 9, 'Rushmore': 3, 'Skyline': 3, 'The Second Best Exotic Marigold Hotel': 9, 'Kit Kittredge: An American Girl': 3, 'The Perfect Man': 3, \"Mo' Better Blues\": 9, 'Kung Pow: Enter the Fist': 3, 'Tremors': 2, 'Wrong Turn': 3, 'The Long Riders': 3, 'The Corruptor': 9, 'Mud': 9, 'Reno 911!: Miami': 3, 'One Direction: This Is Us': 3, 'The Goods: Live Hard, Sell Hard': 3, 'Hey Arnold! The Movie': 3, 'My Week with Marilyn': 3, 'The Matador': 3, 'Love Jones': 9, 'The Gift': 2, 'End of the Spear': 9, 'Get Over It': 3, 'Office Space': 3, 'Drop Dead Gorgeous': 3, 'Big Eyes': 2, 'Very Bad Things': 3, 'Sleepover': 3, 'Body Double': 9, 'MacGruber': 3, 'Dirty Pretty Things': 3, 'Movie 43': 3, 'Over Her Dead Body': 3, 'Seeking a Friend for the End of the World': 9, 'Cedar Rapids': 3, 'American History X': 2, 'The Collection': 3, \"Teacher's Pet\": 3, 'The Red Violin': 9, 'The Straight Story': 9, 'Deuces Wild': 3, 'Bad Words': 3, 'Run Fatboy Run': 3, 'Heartbeeps': 3, 'Black or White': 9, 'On the Line': 3, 'Rescue Dawn': 9, 'Danny Collins': 9, 'Jeff, Who Lives at Home': 3, \"Io sono l'amore\": 9, 'Atlas Shrugged Part II': 9, 'Romeo Is Bleeding': 3, 'The Limey': 3, 'Crash': 2, 'The House of Mirth': 9, 'Malone': 3, 'Peaceful Warrior': 9, 'Bucky Larson: Born to Be a Star': 3, 'Bamboozled': 9, 'The Forest': 3, 'Sphinx': 9, \"While We're Young\": 3, 'A Better Life': 3, 'Spider': 3, 'Gun Shy': 3, 'Nicholas Nickleby': 9, 'The Iceman': 9, 'कृष': 6, 'Cecil B. Demented': 3, 'Killer Joe': 9, 'The Joneses': 3, 'Owning Mahowny': 9, 'The Brothers Solomon': 3, 'My Blueberry Nights': 9, 'Illuminata': 9, 'Swept Away': 3, 'War, Inc.': 3, '少林足球': 9, 'The Brown Bunny': 3, 'Rien ne va plus': 9, 'Rosewater': 9, 'La femme de chambre du Titanic': 3, 'Coriolanus': 9, 'Imaginary Heroes': 9, 'High Heels and Low Lifes': 3, \"World's Greatest Dad\": 3, 'Severance': 3, 'Edmond': 3, 'Welcome to the Rileys': 9, 'Police Academy: Mission to Moscow': 3, 'Blood Done Sign My Name': 8, 'Cinco de Mayo: La Batalla': 9, 'Elsa & Fred': 9, 'An Alan Smithee Film: Burn, Hollywood, Burn': 3, 'The Open Road': 3, 'The Good Guy': 3, 'Motherhood': 3, 'Free Style': 3, 'Strangerland': 9, 'Janky Promoters': 3, 'Blonde Ambition': 3, 'The Oxford Murders': 9, 'The Reef': 3, 'Eulogy': 3, 'White Noise 2: The Light': 3, 'Beat the World': 3, 'Fifty Dead Men Walking': 9, 'Jungle Shuffle': 3, 'Adam Resurrected': 9, 'Hross í oss': 3, 'Hai Marjawaan!': 3, \"The Devil's Tomb\": 3, 'Partition': 9, 'Good Intentions': 3, '좋은 놈, 나쁜 놈, 이상한 놈': 9, 'Nurse 3-D': 3, 'Gunless': 3, 'Adventureland': 9, 'The Lost City': 6, 'Next Friday': 3, 'American Heist': 3, 'You Only Live Twice': 9, 'Plastic': 3, 'Amour': 9, 'Poltergeist III': 3, 'Re-Kill': 3, \"It's a Mad, Mad, Mad, Mad World\": 6, 'Volver': 9, 'Heavy Metal': 3, 'Gentlemen Broncos': 3, 'Richard III': 9, 'Into the Grizzly Maze': 3, 'Kites': 9, 'Melancholia': 9, 'Red Dog': 3, 'Jab Tak Hai Jaan': 6, 'Alien': 7, 'The Texas Chain Saw Massacre': 3, 'The Runaways': 9, 'Fiddler on the Roof': 6, 'Thunderball': 9, 'Detention': 3, 'Mine vaganti': 9, 'Set It Off': 9, 'The Best Man': 9, \"Child's Play\": 3, 'Sicko': 9, 'The Purge: Anarchy': 2, 'Down to You': 3, 'Harold & Kumar Go to White Castle': 3, 'The Contender': 9, 'Boiler Room': 9, 'Trading Places': 2, 'Black Christmas': 3, \"Breakin' All the Rules\": 3, 'Henry V': 9, 'The Savages': 9, 'Chasing Papi': 3, 'The Way of the Gun': 9, 'Igby Goes Down': 3, 'PCU': 3, 'The Ultimate Gift': 9, 'The Ice Pirates': 3, 'Gracie': 3, 'Trust the Man': 3, 'Hamlet 2': 3, 'Velvet Goldmine': 9, '곡성': 6, 'Glee: The Concert Movie': 3, 'สุริโยไท': 6, 'Due occhi diabolici': 9, 'Barbecue': 3, 'All or Nothing': 9, 'Princess Kaiulani': 9, 'Opal Dream': 3, 'Flammen & Citronen': 9, 'Undiscovered': 3, 'Red Riding: In the Year of Our Lord 1974': 9, 'La Fille du RER': 3, 'Veronika Decides to Die': 3, 'Crocodile Dundee': 2, 'Ultramarines: A Warhammer 40,000 Movie': 3, 'The I Inside': 3, 'Beneath Hill 60': 9, 'Polisse': 9, 'Awake': 0, 'Star Wars: Clone Wars (Volume 1)': 3, 'Skin Trade': 3, 'The Lost Boys': 3, 'Crazy Heart': 9, 'The Rose': 9, 'Baggage Claim': 3, 'Barbarella': 3, 'Håkon Håkonsen': 3, 'Election': 3, 'The Namesake': 9, 'The DUFF': 2, 'Glitter': 3, 'The Haunting in Connecticut 2: Ghosts of Georgia': 3, '실미도': 9, 'Bright Star': 9, 'My Name Is Khan': 6, 'All Is Lost': 9, 'Limbo': 9, 'Namastey London': 9, 'The Wind That Shakes the Barley': 9, 'Yeh Jawaani Hai Deewani': 6, 'Quo Vadis': 6, 'Repo! The Genetic Opera': 3, 'Kurtlar vadisi - Irak': 9, 'Pulp Fiction': 7, 'The Muppet Movie': 3, 'Nightcrawler': 7, 'Club Dread': 3, 'The Sound of Music': 6, 'Splash': 9, 'Little Miss Sunshine': 2, 'Stand by Me': 2, '28 Days Later': 2, 'You Got Served': 3, 'Escape from Alcatraz': 9, 'Brown Sugar': 9, 'A Thin Line Between Love and Hate': 9, '50/50': 2, 'Shutter': 3, 'That Awkward Moment': 2, 'Modern Problems': 3, 'Kicks': 3, 'Much Ado About Nothing': 9, \"On Her Majesty's Secret Service\": 6, 'New Nightmare': 9, 'Drive Me Crazy': 3, 'Akeelah and the Bee': 9, 'Half Baked': 3, 'New in Town': 3, 'American Psycho': 2, 'The Good Girl': 3, 'Bon Cop Bad Cop': 9, 'The Boondock Saints II: All Saints Day': 9, 'The City of Your Final Destination': 9, 'Enough Said': 3, 'Easy A': 2, 'The Inkwell': 3, 'Shadow of the Vampire': 3, 'Prom': 3, 'The Pallbearer': 3, 'Held Up': 3, 'Woman on Top': 3, 'Howards End': 9, 'Anomalisa': 3, 'Another Year': 9, '8 femmes': 9, 'Showdown in Little Tokyo': 3, 'Clay Pigeons': 9, \"It's Kind of a Funny Story\": 9, 'Made in Dagenham': 9, 'And When Did You Last See Your Father?': 3, 'Prefontaine': 9, 'The Wicked Lady': 3, 'The Secret of Kells': 3, 'Begin Again': 2, 'Down in the Valley': 9, 'Brooklyn Rules': 3, 'Restless': 6, 'The Singing Detective': 9, 'The Land Girls': 9, 'Fido': 3, 'The Wendell Baker Story': 3, 'Wild Target': 3, 'Pathology': 3, 'Wuthering Heights': 9, '10th & Wolf': 9, 'Dear Wendy': 3, 'Aloft': 9, 'アキラ': 9, 'The Death and Life of Bobby Z': 3, 'Maurice Richard': 9, 'Swelter': 3, '非常幸运': 9, 'Imagine Me & You': 3, 'Mr. Church': 9, 'Swimming Pool': 9, 'Green Street Hooligans: Underground': 3, 'The Blood of Heroes': 3, 'Code of Honor': 3, 'Driving Miss Daisy': 9, 'Soul Food': 9, '紅番區': 3, 'Loin des hommes': 9, 'Thank You for Smoking': 3, 'Hostel: Part II': 3, 'An Education': 9, 'Shopgirl': 3, 'The Hotel New Hampshire': 9, 'Narc': 9, 'Men with Brooms': 3, 'Witless Protection': 3, 'The Work and the Glory': 9, 'Extract': 3, 'Masked and Anonymous': 9, 'Betty Fisher et autres histoires': 9, 'Code 46': 3, 'Outside Bet': 3, 'Albert Nobbs': 9, 'Black November': 3, 'Ta Ra Rum Pum': 6, 'Persepolis': 9, 'The Hole': 3, 'Die Welle': 9, 'The Neon Demon': 9, 'Harry Brown': 9, 'The Omega Code': 3, 'Juno': 2, 'Pound of Flesh': 3, 'Diamonds Are Forever': 9, 'The Godfather': 7, 'Flashdance': 3, '(500) Days of Summer': 2, 'The Piano': 9, 'Magic Mike': 2, 'Darkness Falls': 3, 'Live and Let Die': 2, 'My Dog Skip': 3, 'Definitely, Maybe': 9, 'Jumping the Broom': 9, 'Good Night, and Good Luck.': 3, 'Capote': 9, 'Desperado': 9, \"Logan's Run\": 9, 'The Man with the Golden Gun': 9, 'Action Jackson': 3, 'The Descent': 9, 'Michael Jordan to the Max': 3, \"Devil's Due\": 3, 'Flirting with Disaster': 3, \"The Devil's Rejects\": 9, 'Dope': 9, 'In Too Deep': 3, 'House of 1000 Corpses': 3, 'Alien Zone': 3, 'A Serious Man': 9, 'Get Low': 9, 'Warlock': 3, 'Beyond the Lights': 9, 'A Single Man': 9, 'The Last Temptation of Christ': 6, 'Outside Providence': 3, 'Bride & Prejudice': 9, 'Rabbit-Proof Fence': 3, \"Who's Your Caddy?\": 3, 'Split Second': 3, 'The Other Side of Heaven': 9, 'Veer-Zaara': 6, 'Redbelt': 3, 'Cyrus': 3, 'A Dog Of Flanders': 3, 'Auto Focus': 9, 'Factory Girl': 3, 'We Need to Talk About Kevin': 9, 'The Christmas Candle': 3, 'The Mighty Macs': 3, \"Losin' It\": 3, 'Mother and Child': 9, 'March or Die': 9, 'Les visiteurs': 9, 'Somewhere': 3, 'I Hope They Serve Beer in Hell': 3, 'Chairman of the Board': 3, 'Hesher': 9, 'Dom Hemingway': 3, 'Gerry': 3, 'The Heart of Me': 9, 'Freeheld': 9, 'The Extra Man': 9, 'Трудно быть богом': 6, 'Ca$h': 9, 'Wah-Wah': 9, 'The Boondock Saints': 9, 'Z 風暴': 3, 'Twixt': 3, 'Снежная королева': 3, 'Alpha and Omega: The Legend of the Saw Tooth Cave': 3, 'Pale Rider': 9, 'Stargate: The Ark of Truth': 3, 'Dazed and Confused': 9, 'High School Musical 2': 9, 'Two Lovers and a Bear': 3, 'Criminal Activities': 3, 'Aimee & Jaguar': 9, 'The Chumscrubber': 9, 'Shade': 3, 'House at the End of the Street': 3, 'Incendies': 9, 'Ricordati di me': 9, 'Perrier’s Bounty': 3, 'Tropa de Elite': 9, 'Annabelle': 2, 'Bran Nue Dae': 3, 'Boyz n the Hood': 9, 'La Bamba': 9, 'The Four Seasons': 9, 'Dressed to Kill': 9, 'The Adventures of Huck Finn': 9, 'Go': 3, 'Friends with Money': 3, 'The Andromeda Strain': 9, 'Bats': 3, 'Nirgendwo in Afrika': 9, 'Shame': 2, 'Layer Cake': 9, 'The Work and the Glory II: American Zion': 9, 'The East': 9, 'A Home at the End of the World': 3, 'Aberdeen': 9, 'The Messenger': 9, 'Tracker': 3, 'Control': 9, 'The Terminator': 7, 'Good bye, Lenin!': 9, 'The Damned United': 9, 'The Return of the Living Dead': 3, 'Mallrats': 3, 'Grease': 2, 'Platoon': 2, 'Fahrenheit 9/11': 9, 'Butch Cassidy and the Sundance Kid': 9, 'Mary Poppins': 2, 'Ordinary People': 9, 'West Side Story': 6, 'Caddyshack': 3, 'The Brothers': 9, 'The Wood': 9, 'The Usual Suspects': 2, 'A Nightmare on Elm Street 5: The Dream Child': 3, 'National Lampoon’s Van Wilder': 3, 'The Wrestler': 2, 'Duel in the Sun': 6, 'Best in Show': 3, 'Escape from New York': 9, 'School Daze': 9, 'Daddy Day Camp': 3, '一個好人': 9, 'A Mighty Wind': 3, 'Mystic Pizza': 3, 'Sliding Doors': 3, 'Tales from the Hood': 3, 'The Last King of Scotland': 9, 'Halloween 5: The Revenge of Michael Myers': 3, 'Bernie': 3, 'Dolphins and Whales: Tribes of the Ocean': 3, 'Pollock': 9, '200 Cigarettes': 3, 'The Words': 3, 'Casa De Mi Padre': 3, 'City Island': 9, 'The Guard': 3, 'College': 3, 'The Virgin Suicides': 9, 'Little Voice': 3, 'Miss March': 3, 'Wish I Was Here': 9, 'Simply Irresistible': 3, 'Hedwig and the Angry Inch': 3, 'Only the Strong': 3, 'Goddess of Love': 3, 'Shattered Glass': 3, 'Novocaine': 3, 'The Business of Strangers': 3, 'The Wild Bunch': 6, 'The Wackness': 3, 'The First Great Train Robbery': 9, 'Morvern Callar': 3, 'Beastmaster 2: Through the Portal of Time': 3, 'The 5th Quarter': 3, 'La fleur du mal': 3, 'The Greatest': 3, 'Snow Flower and the Secret Fan': 3, 'Come Early Morning': 3, 'Lucky Break': 9, 'Julia': 9, 'Surfer, Dude': 3, 'Lake of Fire': 6, '11:14': 3, 'Men of War': 3, 'Don McKay': 3, 'Deadfall': 3, 'A Shine of Rainbows': 3, 'The Hit List': 3, 'Emma': 6, 'Videodrome': 3, \"L'Auberge espagnole\": 9, 'Song One': 3, 'Oorlogswinter': 9, 'Freaky Deaky': 3, 'The Train': 9, 'Trade Of Innocents': 3, 'ต้มยำกุ้ง': 9, 'Stiff Upper Lips': 9, 'Bend It Like Beckham': 9, 'Sunshine State': 9, 'Crossover': 3, 'Khiladi 786': 9, '[REC]²': 3, 'Standing Ovation': 3, 'The Sting': 9, 'Chariots of Fire': 9, 'Diary of a Mad Black Woman': 9, 'Shine': 9, 'Don Jon': 2, 'High Plains Drifter': 9, 'Ghost World': 9, 'Iris': 3, 'Galaxina': 3, 'Les Choristes': 9, 'Mambo Italiano': 3, 'Wonderland': 9, 'Do the Right Thing': 9, 'Harvard Man': 3, 'Le Havre': 3, 'Irréversible': 9, 'R100': 3, 'Rang De Basanti': 6, 'Animals': 3, 'Salvation Boulevard': 3, 'The Ten': 3, 'A Room for Romeo Brass': 3, 'Hodejegerne': 9, 'Grabbers': 3, 'Saint Ralph': 3, 'Miss Julie': 9, 'Somewhere in Time': 9, 'Dum Maaro Dum': 9, 'Insidious: Chapter 2': 2, 'Saw II': 2, '10 Cloverfield Lane': 2, 'Jackass: The Movie': 3, 'Lights Out': 2, 'Paranormal Activity 3': 3, 'Ouija': 2, 'A Nightmare on Elm Street 3: Dream Warriors': 3, 'No se Aceptan Devoluciones': 9, 'Paranormal Activity 4': 3, 'The Robe': 9, 'The Return of the Pink Panther': 9, \"Freddy's Dead: The Final Nightmare\": 3, 'Monster': 9, '20,000 Leagues Under the Sea': 9, 'Paranormal Activity: The Marked Ones': 3, 'The Elephant Man': 9, 'Dallas Buyers Club': 2, 'The Lazarus Effect': 3, 'Memento': 7, 'Oculus': 2, 'Clerks II': 3, 'Billy Elliot': 9, 'The Way Way Back': 9, 'House Party 2': 3, 'The Man from Snowy River': 9, \"Doug's 1st Movie\": 3, 'The Apostle': 9, 'Mommie Dearest': 9, 'Our Idiot Brother': 3, 'Race': 9, 'The Players Club': 9, 'As Above, So Below': 3, 'Addicted': 3, \"Eve's Bayou\": 9, 'Still Alice': 2, 'The Egyptian': 9, 'Nighthawks': 3, 'Friday the 13th Part VIII: Jason Takes Manhattan': 3, 'My Big Fat Greek Wedding': 2, 'Spring Breakers': 2, 'Halloween: The Curse of Michael Myers': 3, 'Y tu mamá también': 9, 'Shaun of the Dead': 2, 'The Haunting of Molly Hartley': 3, 'Lone Star': 9, 'Halloween 4: The Return of Michael Myers': 3, \"April Fool's Day\": 3, 'Diner': 9, 'Lone Wolf McQuade': 3, 'Apollo 18': 3, 'Sunshine Cleaning': 9, 'No Escape': 2, 'The Beastmaster': 9, 'Solomon and Sheba': 9, 'Fifty Shades of Black': 3, 'Not Easily Broken': 3, 'A Farewell to Arms': 3, 'The Perfect Match': 3, 'Digimon: The Movie': 3, 'Saved!': 3, 'Les Invasions barbares': 9, 'Robin and Marian': 9, 'The Forsaken': 3, 'Force 10 from Navarone': 9, 'UHF': 3, \"Grandma's Boy\": 3, 'Slums of Beverly Hills': 3, \"C'era una volta il West\": 6, 'Made': 3, 'Moon': 2, 'Keeping Up with the Steins': 3, 'Sea Rex 3D: Journey to a Prehistoric World': 8, 'The Sweet Hereafter': 9, 'Des hommes et des dieux': 9, 'Bottle Shock': 9, 'Jekyll and Hyde ... Together Again': 3, 'Heavenly Creatures': 9, '90 Minutes in Heaven': 9, 'Everything Must Go': 3, 'Zero Effect': 9, 'The Machinist': 2, 'Light Sleeper': 3, 'Kill the Messenger': 9, 'Rabbit Hole': 3, 'Party Monster': 3, 'Green Room': 3, 'The Oh in Ohio': 3, 'Atlas Shrugged Part III: Who is John Galt?': 3, 'Bottle Rocket': 3, 'Albino Alligator': 3, 'Gandhi, My Father': 9, 'Standard Operating Procedure': 9, 'Out of the Blue': 3, 'Tucker and Dale vs Evil': 3, 'Lovely, Still': 3, 'Tycoon': 9, 'Desert Blue': 3, 'Decoys': 3, 'The Visit': 2, 'Redacted': 3, 'Fascination': 3, 'Area 51': 3, 'Mientras duermes': 9, 'The Cottage': 3, 'Dead Like Me: Life After Death': 3, 'Farce of the Penguins': 3, 'Flying By': 3, 'Rudderless': 9, 'Henry & Me': 3, 'Christmas Eve': 3, 'We Have Your Husband': 3, 'Dying of the Light': 3, 'Born Of War': 3, 'Capricorn One': 9, \"Should've Been Romeo\": 8, 'Running Forever': 3, 'Yoga Hosers': 3, 'Navy Seals vs. Zombies': 3, 'Obsluhoval jsem anglického krále': 9, 'Soul Kitchen': 9, 'Sling Blade': 9, 'The Awakening': 9, 'Hostel': 2, 'A Cock and Bull Story': 3, 'Take Shelter': 9, 'Lady in White': 9, 'Driving Lessons': 3, \"Let's Kill Ward's Wife\": 3, 'The Texas Chainsaw Massacre 2': 3, 'Pat Garrett & Billy the Kid': 9, 'Only God Forgives': 3, 'Camping Sauvage': 3, 'Without Men': 3, 'Dear Frankie': 9, 'All Hat': 3, 'Le Nom des gens': 9, 'Treading Water': 3, 'Savage Grace': 3, 'Police Academy': 3, 'The Blue Lagoon': 9, 'Four Weddings and a Funeral': 2, 'Fast Times at Ridgemont High': 3, 'Moby Dick': 9, '25th Hour': 9, 'Bound': 9, 'Requiem for a Dream': 2, 'State Fair': 3, 'Tango, no me dejes nunca': 9, 'Salvador': 9, \"Moms' Night Out\": 3, 'Donnie Darko': 2, 'Salvando al Soldado Perez': 9, 'Karakter': 9, 'Spun': 3, 'Life During Wartime': 3, '친절한 금자씨': 9, 'Nannerl, la soeur de Mozart': 9, 'Mean Machine': 3, '放‧逐': 9, 'Blackthorn': 3, 'Lilja 4-Ever': 9, 'After.Life': 3, 'Fugly': 9, \"One Flew Over the Cuckoo's Nest\": 7, \"R.L. Stine's Monsterville: The Cabinet of Souls\": 3, 'Silent Movie': 3, 'Airlift': 9, 'Anne of Green Gables': 6, 'Falcon Rising': 3, 'The Sweeney': 9, 'Sexy Beast': 3, 'Snabba Cash': 9, 'Whale Rider': 9, 'Paa': 9, 'Cargo': 9, 'High School Musical': 3, 'Love and Death on Long Island': 3, 'Ночной дозор': 9, 'The Crying Game': 9, \"Porky's\": 3, 'Survival of the Dead': 3, 'Night of the Living Dead': 9, 'Lost in Translation': 2, 'Annie Hall': 2, 'The Greatest Show on Earth': 6, \"Monster's Ball\": 9, 'Maggie': 3, 'Leaving Las Vegas': 9, 'Hansel and Gretel Get Baked': 3, 'The Front Page': 9, 'The Boy Next Door': 3, 'Trapeze': 9, 'The Kids Are All Right': 9, 'They Live': 3, 'The Great Escape': 6, 'What the #$*! Do We (K)now!?': 9, 'The Last Exorcism Part II': 3, 'Boyhood': 6, 'Scoop': 3, 'The Wash': 3, '3 Strikes': 3, 'The Cooler': 9, 'The Misfits': 9, 'The Night Listener': 3, 'The Jerky Boys': 3, 'El orfanato': 9, 'A Haunted House 2': 3, 'The Rules of Attraction': 9, 'Topaz': 9, \"Let's Go to Prison\": 3, 'Four Rooms': 3, 'Secretary': 9, 'The Real Cancun': 3, 'Talk Radio': 9, 'Waiting for Guffman': 3, 'Love Stinks': 3, 'You Kill Me': 3, 'Thumbsucker': 3, 'Red State': 3, 'Mirrormask': 3, 'Samsara': 9, 'The Barbarians': 3, 'The Art of Getting By': 3, 'Zipper': 3, 'Poolhall Junkies': 3, 'The Loss of Sexual Innocence': 3, 'Holy Motors': 9, 'Joe': 9, 'Shooting Fish': 9, 'Prison': 9, 'Psycho Beach Party': 3, 'The Big Tease': 3, 'Guten Tag, Ramón': 9, 'Trust': 9, 'An Everlasting Piece': 3, 'Among Giants': 3, 'Adore': 3, 'The Velocity of Gary': 3, 'Los lunes al sol': 9, 'Stake Land': 3, 'The Last Time I Committed Suicide': 3, 'Praia do Futuro': 9, 'Another Happy Day': 9, 'A Lonely Place to Die': 3, 'Nothing': 3, 'Географ глобус пропил': 9, '1776': 9, 'Inescapable': 3, \"Hell's Angels\": 9, 'Purple Violets': 3, 'The Veil': 3, 'The Loved Ones': 3, 'The Helpers': 3, 'How to Fall in Love': 8, 'The Perfect Wave': 3, 'A Man for All Seasons': 9, 'Network': 9, 'Gone with the Wind': 6, 'Desert Dancer': 3, 'Major Dundee': 9, 'Annie Get Your Gun': 9, 'Four Lions': 9, 'Casa de Areia': 9, 'Defendor': 3, 'The Pirate': 9, 'The Good Heart': 3, 'The History Boys': 9, 'Midnight Cowboy': 9, 'The Full Monty': 3, 'Airplane!': 2, 'Chain of Command': 3, 'Friday': 3, 'Menace II Society': 3, 'Creepshow 2': 3, 'The Ballad of Cable Hogue': 9, 'In Cold Blood': 9, \"The Nun's Story\": 6, 'Harper': 9, 'Frenzy': 9, 'The Witch': 2, 'I Got the Hook Up': 3, \"She's the One\": 3, 'Gods and Monsters': 9, 'El secreto de sus ojos': 9, 'Train': 3, 'Evil Dead II': 3, 'Pootie Tang': 3, 'Sharknado': 3, 'La otra conquista': 3, 'Trolljegeren': 9, 'Ira & Abby': 3, 'Winter Passing': 3, 'D.E.B.S.': 3, 'The Masked Saint': 3, 'The Betrayed': 3, 'Taxman': 3, 'The Secret': 6, '2:13': 3, 'Batman: The Dark Knight Returns, Part 2': 3, 'Time to Choose': 3, 'In the Name of the King III': 3, 'Wicked Blood': 3, 'Dawn Patrol': 3, 'Lords of London': 3, 'High Anxiety': 3, \"La Marche de l'empereur\": 3, 'Margin Call': 9, 'August': 3, 'Choke': 3, 'Whiplash': 7, 'Cidade de Deus': 2, 'Human Traffic': 3, 'To Write Love on Her Arms': 9, 'The Dead Girl': 3, 'Jagten': 9, 'A Christmas Story': 3, 'Bella': 3, 'Class of 1984': 3, 'Opposite Sex': 3, 'Dreaming of Joseph Lees': 3, 'Entre les murs': 9, \"Rosemary's Baby\": 9, 'The Man Who Shot Liberty Valance': 9, 'Adam': 3, 'María, llena eres de gracia': 9, 'Beginners': 9, 'Feast': 3, 'Animal House': 9, 'Goldfinger': 2, 'Antiviral': 9, \"It's a Wonderful Life\": 2, 'Trainspotting': 2, 'The Original Kings of Comedy': 9, 'Paranormal Activity 2': 3, 'Waking Ned': 3, 'Bowling for Columbine': 9, '归来': 9, \"A Nightmare on Elm Street Part 2: Freddy's Revenge\": 3, 'A Room with a View': 9, 'The Purge': 2, 'Sinister': 2, 'Martin Lawrence Live: Runteldat': 9, 'Cat on a Hot Tin Roof': 9, 'Beneath the Planet of the Apes': 3, 'Air Bud': 3, 'Pokémon 3: The Movie': 3, 'Friday the 13th Part VI: Jason Lives': 3, 'The Bridge on the River Kwai': 6, 'Spaced Invaders': 3, 'Family Plot': 9, 'The Apartment': 9, 'Jason Goes to Hell: The Final Friday': 3, 'Torn Curtain': 9, \"Dave Chappelle's Block Party\": 3, 'Slow West': 3, 'Krush Groove': 3, 'Next Day Air': 3, 'Elmer Gantry': 6, 'Judgment at Nuremberg': 6, \"Trippin'\": 3, 'Red River': 9, 'Phat Girlz': 3, 'Before Midnight': 9, 'Teen Wolf Too': 3, 'Phantasm II': 3, 'Woman Thou Art Loosed': 3, 'Real Women Have Curves': 3, 'Water': 9, 'East Is East': 3, 'Whipped': 3, 'Kama Sutra - A Tale of Love': 9, 'Please Give': 3, 'Willy Wonka & the Chocolate Factory': 9, 'Warlock: The Armageddon': 3, '8 Heads in a Duffel Bag': 3, 'Days of Heaven': 3, 'Thirteen Conversations About One Thing': 9, 'Jawbreaker': 3, 'Basquiat': 9, 'Frances Ha': 3, 'Tsotsi': 3, 'Happiness': 9, 'DysFunktional Family': 3, 'Tusk': 3, '올드보이': 2, 'Letters to God': 9, 'Hobo with a Shotgun': 3, 'Compadres': 3, 'Freeway': 9, \"Love's Abiding Joy\": 3, 'Fish Tank': 9, 'Damsels in Distress': 3, 'Creature': 6, 'Bachelorette': 3, 'Brave New Girl': 9, \"Tim and Eric's Billion Dollar Movie\": 3, 'Sommersturm': 3, 'Fort McCoy': 8, 'Chain Letter': 3, 'Just Looking': 3, 'The Divide': 9, 'The Eclipse': 3, 'Demonic': 3, 'My Big Fat Independent Movie': 3, 'The Deported': 3, 'Tanner Hall': 3, 'Open Road': 3, 'They Came Together': 3, '30 Nights of Paranormal Activity With the Devil Inside the Girl With the Dragon Tattoo': 3, 'Never Back Down 2: The Beatdown': 3, 'Point Blank': 3, 'Four Single Fathers': 3, 'Enter the Dangerous Mind': 3, 'Something Wicked': 3, 'AWOL-72': 3, 'Iguana': 3, 'Chicago Overcoat': 3, 'Barry Munday': 3, 'Central do Brasil': 9, 'Pocketful of Miracles': 9, 'Close Range': 3, 'Boynton Beach Club': 9, 'Amnesiac': 3, 'Freakonomics': 3, 'Haute tension': 3, 'Griff the Invisible': 3, 'Unnatural': 3, 'Hustle & Flow': 9, 'Some Like It Hot': 9, 'Friday the 13th Part VII: The New Blood': 3, 'The Wizard of Oz': 2, 'Young Frankenstein': 2, 'Diary of the Dead': 3, 'Lage Raho Munna Bhai': 6, \"Ulee's Gold\": 9, 'The Black Stallion': 9, 'Sardaarji': 8, 'Rejsen til Saturn': 3, \"Donovan's Reef\": 9, 'De jurk': 9, 'A Guy Named Joe': 9, 'Blazing Saddles': 3, 'Friday the 13th: The Final Chapter': 3, 'Ida': 3, 'Maurice': 9, 'Beer League': 3, 'Riding Giants': 9, 'Los cronocrímenes': 3, '疯狂的赛车': 9, 'Timber Falls': 3, \"Singin' in the Rain\": 9, 'Fat, Sick & Nearly Dead': 3, 'A Haunted House': 3, \"2016: Obama's America\": 3, 'That Thing You Do!': 9, 'Halloween III: Season of the Witch': 3, 'Escape from the Planet of the Apes': 3, 'Hud': 9, 'Kevin Hart: Let Me Explain': 3, 'My Own Private Idaho': 9, 'Garden State': 9, 'Before Sunrise': 9, 'Sur le seuil': 9, \"Jesus' Son\": 9, 'Saving Face': 3, 'Brick Lane': 3, 'Robot & Frank': 3, 'My Life Without Me': 9, 'The Spectacular Now': 3, 'Religulous': 9, 'Fuel': 3, \"Valley of the Heart's Delight\": 9, 'Eye of the Dolphin': 9, '8: The Mormon Proposition': 3, 'The Other End of the Line': 9, 'Anatomie': 9, 'Sleep Dealer': 3, 'Super': 3, 'Christmas Mail': 3, 'Stung': 3, 'Antibirth': 3, 'Get on the Bus': 9, 'Thr3e': 3, 'Idiocracy': 3, 'The Rise of the Krays': 3, 'This Is England': 9, 'U.F.O.': 3, 'Bathing Beauty': 9, 'Go for It!': 3, 'Dancer, Texas Pop. 81': 9, 'Show Boat': 9, 'Redemption Road': 3, 'The Calling': 9, 'The Brave Little Toaster': 3, 'Fantasia': 9, '8 Days': 3, 'Friday the 13th Part III': 3, 'Friday the 13th: A New Beginning': 3, 'The Last Sin Eater': 9, 'Do You Believe?': 9, 'Impact Point': 3, 'The Valley of Decision': 9, 'Eden': 3, 'Chicken Tikka Masala': 3, \"There's Always Woodstock\": 3, 'Jack Brooks: Monster Slayer': 3, 'The Best Years of Our Lives': 6, 'Bully': 9, 'Elling': 3, 'Mi America': 3, '[REC]': 3, 'Lies in Plain Sight': 3, 'Sharkskin': 8, 'Containment': 3, 'The Timber': 3, 'From Russia with Love': 2, 'The Toxic Avenger Part II': 3, 'Sleeper': 3, 'It Follows': 2, 'Everything You Always Wanted to Know About Sex *But Were Afraid to Ask': 3, 'To Kill a Mockingbird': 9, 'Mad Max 2': 2, '醉拳二': 9, \"Boys Don't Cry\": 9, 'Silent House': 3, 'Das Leben der Anderen': 6, 'Courageous': 9, 'The Hustler': 9, 'Boom Town': 9, 'Les triplettes de Belleville': 3, 'Smoke Signals': 3, 'American Splendor': 9, 'Before Sunset': 3, 'Amores perros': 6, 'Thirteen': 9, \"Gentleman's Agreement\": 9, \"Winter's Bone\": 9, 'Touching the Void': 9, \"Alexander's Ragtime Band\": 3, 'Me and You and Everyone We Know': 3, 'Inside Job': 9, 'We Are Your Friends': 3, 'Ghost Dog: The Way of the Samurai': 9, 'Harsh Times': 9, 'Captive': 3, 'Full Frontal': 3, 'Witchboard': 3, 'Shortbus': 3, 'Vals Im Bashir': 3, 'The Book of Mormon Movie, Volume 1: The Journey': 9, 'No End in Sight': 9, 'The Diary of a Teenage Girl': 3, 'In the Shadow of the Moon': 9, \"Meek's Cutoff\": 9, 'Inside Deep Throat': 3, 'Dinner Rush': 9, 'Clockwatchers': 3, 'The Virginity Hit': 9, 'Subway': 9, 'House of D': 3, 'Teeth': 3, 'Six-String Samurai': 3, 'Hum To Mohabbat Karega': 8, \"It's All Gone Pete Tong\": 3, 'Saint John of Las Vegas': 3, '24 7: Twenty Four Seven': 3, 'Stonewall': 9, 'Roadside Romeo': 3, 'This Thing of Ours': 3, 'The Lost Medallion: The Adventures of Billy Stone': 3, 'The Last Five Years': 3, 'The Missing Person': 3, 'Return of the Living Dead 3': 3, 'London': 3, 'Sherrybaby': 3, 'Circle': 3, 'Eden Lake': 3, 'Plush': 3, 'Lesbian Vampire Killers': 3, 'Jerusalema': 9, 'Freeze Frame': 3, 'Grave Encounters': 3, 'Stitches': 3, 'Nine Dead': 3, 'To Be Frank, Sinatra at 100': 3, 'Bananas': 3, '$upercapitalist': 3, 'Rockaway': 3, 'The Lady from Shanghai': 3, \"No Man's Land: The Rise of Reeker\": 3, 'Highway': 3, 'Small Apartments': 3, 'Coffee Town': 3, 'The Ghastly Love of Johnny X': 9, 'All Is Bright': 3, 'Die Schlangengrube und das Pendel': 3, \"Straight A's\": 3, 'A Funny Thing Happened on the Way to the Forum': 3, 'Slacker Uprising': 3, \"The Legend of Hell's Gate: An American Conspiracy\": 3, 'Walking with the Dead': 3, 'The Curse of Downers Grove': 3, 'Shark Lake': 3, \"River's Edge\": 3, 'Northfork': 9, 'The Marine 4: Moving Target': 3, 'Buried': 3, 'Submarine': 9, 'The Square': 3, 'Chacun sa nuit': 3, 'एबीसीडी': 6, 'Man on Wire': 3, 'Abandoned': 3, 'Brotherly Love': 3, 'The Last Exorcism': 3, 'Nowhere Boy': 3, 'A Streetcar Named Desire': 9, 'Dr. Strangelove or: How I Learned to Stop Worrying and Love the Bomb': 2, 'El Crimen del Padre Amaro': 9, 'Beasts of the Southern Wild': 3, 'Battle for the Planet of the Apes': 3, 'Songcatcher': 9, 'Higher Ground': 9, 'வாலு': 6, 'The Greatest Movie Ever Sold': 3, 'Ed and His Dead Mother': 3, 'Travellers and Magicians': 9, \"Hang 'em High\": 9, 'Deadline - U.S.A.': 3, 'Sublime': 9, \"A Beginner's Guide to Snuff\": 3, 'Independence Daysaster': 3, 'Dysfunctional Friends': 3, 'Lola rennt': 3, 'May': 3, 'Against the Wild': 3, 'La misma luna': 9, 'Conquest of the Planet of the Apes': 3, 'In the Bedroom': 9, 'I Spit on Your Grave': 9, 'Happy, Texas': 3, 'My Summer of Love': 3, 'Dabba': 9, 'Yes': 3, \"You Can't Take It With You\": 9, 'From Here to Eternity': 9, 'She Wore a Yellow Ribbon': 9, 'Grace Unplugged': 3, 'Foolish': 3, 'N-Secure': 8, 'سكر بنات': 3, 'Out of the Dark': 3, 'Ha-Buah': 9, 'The Conversation': 9, 'दिल जो भी कहे': 8, 'La sirène du Mississipi': 9, 'I Love Your Work': 9, 'Cabin Fever': 3, 'Waitress': 9, 'Bloodsport': 3, 'Mr. Smith Goes to Washington': 9, 'Kids': 3, 'The Squid and the Whale': 3, 'Kissing Jessica Stein': 3, 'Kickboxer: Vengeance': 3, 'Spellbound': 9, 'Exotica': 9, \"Buffalo '66\": 9, 'Insidious': 2, 'Repo Man': 3, 'Nueve Reinas': 9, 'The Gatekeepers': 3, 'The Ballad of Jack and Rose': 9, 'The To Do List': 3, 'Killing Zoe': 3, 'The Believer': 3, 'Snow Angels': 9, 'Unsullied': 3, 'Session 9': 3, 'I Want Someone to Eat Cheese With': 3, 'Mooz-lum': 3, 'Hatchet': 3, 'Modern Times': 3, 'Stolen Summer': 3, 'My Name Is Bruce': 3, 'The Salon': 8, 'Road Hard': 3, 'Forty Shades of Blue': 9, 'Amigo': 9, 'Pontypool': 3, 'Trucker': 3, 'Me You and Five Bucks': 9, 'The Lords of Salem': 3, 'Housebound': 9, 'Wal-Mart: The High Cost of Low Price': 3, 'Fetching Cody': 3, 'Last I Heard': 3, 'Closer to the Moon': 9, 'Mutant World': 3, 'Growing Up Smith': 9, 'Checkmate': 3, '#Horror': 3, 'Wind Walkers': 3, 'Snow White and the Seven Dwarfs': 2, 'La niña santa': 9, 'Shalako': 9, 'Incident at Loch Ness': 3, 'The Dog Lover': 3, 'GirlHouse': 3, 'La chambre bleue': 3, 'House at the End of the Drive': 3, 'Lock, Stock and Two Smoking Barrels': 2, 'The Ballad of Gregorio Cortez': 3, 'Festen': 9, 'Trees Lounge': 3, 'Vượt Sóng': 9, 'The Basket': 9, 'Eddie: The Sleepwalking Cannibal': 3, 'Kurmanjan Datka. Queen of the Mountains': 3, 'Def-Con 4': 3, 'The Hebrew Hammer': 3, \"Neal 'n' Nikki\": 3, 'The 41–Year–Old Virgin Who Knocked Up Sarah Marshall and Felt Superbad About It': 3, 'Forget Me Not': 3, 'Rebecca': 9, 'Friday the 13th Part 2': 3, 'The Lost Weekend': 9, 'C.H.U.D.': 3, 'Filly Brown': 3, 'The Lion of Judah': 3, 'Niagara': 3, 'How Green Was My Valley': 9, 'Da Sweet Blood of Jesus': 9, 'Sex, Lies, and Videotape': 3, 'Saw': 2, 'Super Troopers': 3, 'The Algerian': 3, 'Los insólitos peces gato': 3, 'Monsoon Wedding': 9, 'You Can Count on Me': 9, 'The Trouble with Harry': 3, \"But I'm a Cheerleader\": 3, 'Home Run': 9, 'Reservoir Dogs': 2, 'The Blue Bird': 3, 'Il buono, il brutto, il cattivo': 6, 'Que Horas Ela Volta?': 9, 'Blue Like Jazz': 3, 'Down & Out With The Dolls': 3, 'Pink Ribbons, Inc.': 3, 'Certifiably Jonathan': 3, 'Q': 3, 'La Navaja De Don Juan': 3, 'Grand Theft Parsons': 3, 'Extreme Movie': 3, 'The Charge of the Light Brigade': 9, 'Below Zero': 8, 'Crowsnest': 3, 'Airborne': 3, 'Cotton Comes to Harlem': 3, 'The Wicked Within': 3, 'Bleeding Hearts': 8, 'Waiting...': 3, \"Dead Man's Shoes\": 3, 'From a Whisper to a Scream': 3, 'Sex With Strangers': 8, \"Dracula: Pages from a Virgin's Diary\": 3, 'Faith Like Potatoes': 3, 'Beyond the Black Rainbow': 9, 'Serbuan maut': 2, 'The Dead Undead': 3, 'The Vatican Exorcisms': 8, 'Casablanca': 2, 'Lake Mungo': 3, 'Rocket Singh: Salesman of the Year': 6, 'Silent Running': 3, 'Rocky': 2, 'The Sleepwalker': 3, 'Tom Jones': 9, 'Unfriended': 3, 'Taxi Driver': 2, 'The Howling': 3, 'Dr. No': 2, 'Chernobyl Diaries': 3, 'Hellraiser': 3, \"God's Not Dead 2\": 9, 'Cry_Wolf': 3, 'Gojira ni-sen mireniamu': 9, 'Blue Valentine': 9, 'Transamerica': 9, 'The Devil Inside': 3, 'Beyond the Valley of the Dolls': 9, 'Love Me Tender': 3, 'An Inconvenient Truth': 9, 'Sands of Iwo Jima': 3, 'Shine a Light': 9, 'The Green Inferno': 3, 'Departure': 9, 'The Sessions': 3, 'Food, Inc.': 3, 'October Baby': 9, 'Next Stop Wonderland': 3, 'The Skeleton Twins': 3, 'Martha Marcy May Marlene': 9, 'Obvious Child': 3, 'Frozen River': 3, '20 Feet from Stardom': 3, 'Two Girls and a Guy': 3, 'Walking and Talking': 3, 'Who Killed the Electric Car?': 3, 'The Broken Hearts Club: A Romantic Comedy': 3, 'Bubba Ho-tep': 3, 'Slam': 3, 'Brigham City': 9, 'Fiza': 6, 'Orgazmo': 3, 'All the Real Girls': 9, 'Dream with the Fishes': 9, 'Blue Car': 3, 'Palo Alto': 3, 'Ajami': 9, 'Wristcutters: A Love Story': 3, 'I Origins': 2, 'The Battle of Shaker Heights': 3, 'Jagal': 9, 'Taxi to the Dark Side': 9, 'Once in a Lifetime: The Extraordinary Story of the New York Cosmos': 3, 'Guiana 1838': 3, 'Lisa Picard Is Famous': 3, 'Antarctica: A Year on Ice': 3, 'A LEGO Brickumentary': 3, 'Hardflip': 9, 'Chocolate: Deep Dark Secrets': 6, 'The House of the Devil': 3, 'The Perfect Host': 3, 'Safe Men': 3, 'Speedway Junky': 3, 'The Last Big Thing': 3, 'The Specials': 3, '16 to Life': 9, 'Alone With Her': 3, 'Creative Control': 3, 'Special': 3, 'Sparkler': 3, 'The Helix... Loaded': 3, 'In Her Line of Fire': 3, 'The Jimmy Show': 9, 'Heli': 9, 'Karachi se Lahore': 8, 'Loving Annabelle': 3, 'Hits': 3, 'Jimmy and Judy': 3, 'Frat Party': 3, \"The Party's Over\": 3, 'Proud': 3, 'The Poker House': 3, 'Childless': 3, 'ZMD: Zombies of Mass Destruction': 3, 'Snow White: A Deadly Summer': 3, 'A escondidas': 9, 'My Last Day Without You': 3, 'Steppin: The Movie': 3, \"Doc Holliday's Revenge\": 3, 'Black Rock': 3, 'Truth or Dare': 3, 'The Pet': 3, 'Bang Bang Baby': 3, 'Fear Clinic': 3, 'Zombie Hunter': 3, 'A Fine Step': 3, 'Charly': 9, 'Banshee Chapter': 3, 'Ask Me Anything': 3, 'And Then Came Love': 3, 'Food Chains': 3, 'On the Waterfront': 9, 'L!fe Happens': 3, '4 luni, 3 săptămîni și 2 zile': 9, 'The Horror Network Vol. 1': 8, 'Hard Candy': 9, 'The Quiet': 3, 'Circumstance': 9, 'Fruitvale Station': 3, 'The Brass Teapot': 3, 'Bambi': 2, 'The Hammer': 3, 'Latter Days': 9, \"Le bonheur d'Elza\": 3, '1982': 3, 'For a Good Time, Call...': 3, 'Celeste & Jesse Forever': 3, 'Time Changer': 3, 'London to Brighton': 3, 'American Hero': 3, 'Windsor Drive': 3, 'جدایی نادر از سیمین': 9, 'Crying with Laughter': 3, 'Welcome to the Dollhouse': 3, 'Ruby in Paradise': 9, 'Raising Victor Vargas': 3, 'Die Büchse der Pandora': 9, 'Harrison Montgomery': 8, 'Cama adentro': 3, 'Deterrence': 3, 'The Mudge Boy': 3, 'The Young Unknowns': 3, 'Not Cool': 3, 'Død snø': 3, 'Saints and Soldiers': 3, 'Vessel': 8, 'American Graffiti': 9, 'Iraq for Sale: The War Profiteers': 3, 'Aqua Teen Hunger Force Colon Movie Film for Theaters': 3, 'Safety Not Guaranteed': 3, 'Kevin Hart: Laugh at My Pain': 3, 'Kill List': 3, 'The Innkeepers': 3, 'Il conformista': 9, 'Interview with the Assassin': 3, 'Donkey Punch': 3, 'All the Boys Love Mandy Lane': 3, 'Bled': 3, 'High Noon': 3, 'Hoop Dreams': 6, 'Rize': 3, 'L.I.E. Long Island Expressway': 3, 'The Sisterhood of Night': 9, 'B-Girl': 3, 'Half Nelson': 9, 'Naturally Native': 3, 'Hav Plenty': 3, 'Adulterers': 3, 'Escape from Tomorrow': 3, 'Starsuckers': 3, 'The Hadza:  Last of the First': 3, 'After': 3, 'Treachery': 3, 'Walter': 3, 'Top Hat': 9, 'The Blair Witch Project': 2, 'Woodstock': 6, 'The Kentucky Fried Movie': 3, 'Mercy Streets': 3, 'Arnolds Park': 3, 'Broken Vessels': 3, 'Water & Power': 8, 'They Will Have to Kill Us First': 3, 'Light from the Darkroom': 8, 'Médecin de campagne': 3, \"The Maid's Room\": 3, \"A Hard Day's Night\": 3, 'The Harvest (La Cosecha)': 3, 'Love Letters': 3, 'Julija in Alfa Romeo': 3, 'Fireproof': 9, 'Faith Connections': 9, 'Benji': 3, 'Open Water': 3, 'High Road': 3, 'Kingdom of the Spiders': 3, 'Mad Hot Ballroom': 9, 'The Station Agent': 3, 'To Save A Life': 9, 'Wordplay': 3, 'Beyond the Mat': 9, 'The Singles Ward': 9, 'Osama': 3, 'Sholem Aleichem: Laughing In The Darkness': 3, 'Groove': 3, 'The R.M.': 3, 'Twin Falls Idaho': 9, 'Mean Creek': 3, 'Hurricane Streets': 3, 'Never Again': 3, 'Civil Brand': 3, 'Lonesome Jim': 3, 'Drinking Buddies': 3, 'Deceptive Practice: The Mysteries and Mentors of Ricky Jay': 3, '七人の侍': 6, 'Kita svajonių komanda': 3, 'Johnny Suede': 3, 'Finishing The Game': 3, 'Rubber': 3, 'Kiss the Bride': 3, 'The Slaughter Rule': 9, 'Monsters': 3, 'The Californians': 3, 'The Living Wake': 3, 'Detention of the Dead': 3, '疯狂的石头': 3, 'Scott Walker: 30 Century Man': 3, 'Everything Put Together': 3, 'Good Kill': 3, 'The Outrageous Sophie Tucker': 3, 'Now Is Good': 9, 'Girls Gone Dead': 3, 'America Is Still the Place': 8, 'Subconscious': 3, 'Enter Nowhere': 3, 'El Rey de Najayo': 3, 'Fight to the Finish': 3, \"Alleluia! The Devil's Carnival\": 8, 'The Sound and the Shadow': 3, 'Rodeo Girl': 3, 'Born to Fly: Elizabeth Streb vs. Gravity': 3, 'The Little Ponderosa Zoo': 3, 'The Toxic Avenger': 3, 'Straight Out of Brooklyn': 8, 'Bloody Sunday': 9, 'Diamond Ruff': 8, 'Conversations with Other Women': 3, 'Poultrygeist: Night of the Chicken Dead': 3, 'Mutual Friends': 8, '42nd Street': 3, 'Rise of the Entrepreneur: The Search for a Better Way': 8, 'Metropolitan': 3, 'Så som i himmelen': 9, 'Roadside': 3, 'Napoleon Dynamite': 3, 'Blue Ruin': 3, 'Paranormal Activity': 2, 'Dogtown and Z-Boys': 3, 'Monty Python and the Holy Grail': 2, 'Quinceañera': 3, 'Gory Gory Hallelujah': 8, 'Tarnation': 3, 'I Want Your Money': 3, 'Love in the Time of Monsters': 8, \"...E tu vivrai nel terrore! L'aldilà\": 3, 'What Happens in Vegas': 2, 'The Dark Hours': 3, 'My Beautiful Laundrette': 3, 'Fabled': 3, 'Show Me': 3, 'Viskningar och rop': 3, 'Intolerance': 6, 'Trekkies': 3, 'The Broadway Melody': 3, 'The Evil Dead': 3, 'Maniac': 3, 'Censored Voices': 3, 'Murderball': 3, 'American Ninja 2: The Confrontation': 3, '51 Birch Street': 3, 'Rotor DR1': 3, '12 Angry Men': 2, 'My Dog Tulip': 3, 'It Happened One Night': 9, 'Κυνόδοντας': 3, 'Tupac: Resurrection': 9, 'Tumbleweeds': 3, 'The Prophecy': 3, 'Chacun Cherche Son Chat': 3, 'Pieces of April': 3, 'The Big Swap': 8, 'Old Joy': 3, 'Wendy and Lucy': 3, '3 Backyards': 3, 'Pierrot le fou': 9, 'Sisters in Law': 9, 'Ayurveda: Art of Being': 3, 'Nothing But a Man': 3, 'First Love, Last Rites': 3, 'Fighting Tommy Riley': 8, 'Royal Kill': 3, 'The Looking Glass': 9, 'Death Race 2000': 3, 'Locker 13': 3, 'Midnight Cabaret': 3, \"Anderson's Cross\": 3, 'Bizarre': 3, 'Graduation Day': 3, 'Some Guy Who Kills People': 3, 'Compliance': 3, 'Chasing Amy': 9, 'Lovely & Amazing': 3, 'Death Calls': 8, 'Better Luck Tomorrow': 3, 'The Incredibly True Adventure of Two Girls In Love': 3, 'Chuck & Buck': 3, 'American Desi': 3, \"Amidst the Devil's Wings\": 3, 'Cube': 2, 'Love and Other Catastrophes': 3, 'I Married a Strange Person!': 3, 'November': 3, 'Like Crazy': 3, 'Teeth and Blood': 3, 'Sugar Town': 3, 'The Motel': 3, 'The Canyons': 3, 'On the Outs': 3, 'Shotgun Stories': 3, 'Exam': 9, 'The Sticky Fingers of Time': 3, 'Sunday School Musical': 3, 'Rust': 3, 'Ink': 9, 'The Christmas Bunny': 3, 'Butterfly': 3, 'UnDivided': 8, 'The Frozen': 8, 'Horse Camp': 3, 'Give Me Shelter': 3, 'The Big Parade': 6, 'Little Big Top': 8, 'Along the Roadside': 9, 'Bronson': 3, 'Western Religion': 3, 'Burn': 3, 'Urbania': 3, 'The Stewardesses': 3, 'The Beast from 20,000 Fathoms': 3, 'Mad Max': 2, 'Swingers': 3, 'Per un pugno di dollari': 2, 'She Done Him Wrong': 3, 'Short Cut to Nirvana: Kumbh Mela': 3, 'The Grace Card': 3, 'Middle of Nowhere': 3, 'Drei': 9, 'The Business of Fancydancing': 9, 'Call + Response': 3, 'Malevolence': 3, 'Reality Show': 3, 'Super Hybrid': 3, 'Baghead': 3, 'Solitude': 3, 'Chats perchés': 3, 'Ordet': 9, 'Good Dick': 3, 'The Man from Earth': 3, 'The Trials Of Darryl Hunt': 9, 'Samantha: An American Girl Holiday': 3, 'Yesterday Was a Lie': 3, 'Theresa Is a Mother': 3, 'H.': 3, 'Archaeology of a Woman': 3, 'بچه\\u200cهای آسمان': 3, 'Weekend': 3, \"She's Gotta Have It\": 3, 'Butterfly Girl': 3, 'Lumea e a mea': 3, 'Another Earth': 3, \"Sweet Sweetback's Baadasssss Song\": 3, 'Perfect Cowboy': 3, 'Tadpole': 3, 'Once': 3, 'The Woman Chaser': 3, 'The Horse Boy': 3, 'When the Lights Went Out': 3, 'Heroes of Dirt': 3, 'A Charlie Brown Christmas': 8, 'Antarctic Edge: 70° South': 3, 'Aroused': 3, 'Top Spin': 3, 'Roger & Me': 3, 'An American in Hollywood': 3, 'Sound of My Voice': 3, 'The Blood of My Brother: A Story of Death in Iraq': 3, \"Your Sister's Sister\": 3, \"A Dog's Breakfast\": 3, \"Une femme mariée: Suite de fragments d'un film tourné en 1964\": 3, 'The Birth of a Nation': 9, 'The Work and The Story': 3, 'Facing the Giants': 9, 'The Gallows': 3, 'Eraserhead': 3, 'Hollywood Shuffle': 3, 'The Mighty': 9, 'Penitentiary': 3, 'The Lost Skeleton of Cadavra': 3, \"Dude Where's My Dog?\": 8, 'Cheap Thrills': 3, 'Indie Game: The Movie': 3, 'Straightheads': 3, 'Open Secret': 3, 'Echo Dr.': 3, 'The Night Visitor': 9, 'The Past Is a Grotesque Animal': 3, 'Peace, Propaganda & the Promised Land': 3, 'Pi': 3, \"I Love You, Don't Touch Me!\": 3, '20 Dates': 3, 'Queen Crab': 3, 'Super Size Me': 3, 'The FP': 3, 'Happy Christmas': 3, \"The Brain That Wouldn't Die\": 3, 'Tiger Orange': 3, 'Supporting Characters': 3, 'Absentia': 3, 'The Brothers McMullen': 3, 'The Dirties': 3, 'Gabriela, Cravo e Canela': 3, 'Tiny Furniture': 3, 'Hayride': 3, 'The Naked Ape': 3, 'Counting': 9, 'The Call of Cthulhu': 3, 'Bending Steel': 3, 'The Signal': 3, 'The Image Revolution': 3, 'This Is Martin Bonner': 3, 'A True Story': 3, 'George Washington': 3, 'Smiling Fish & Goat On Fire': 3, 'Dawn of the Crescent Moon': 3, 'Raymond Did It': 3, 'The Last Waltz': 9, 'Run, Hide, Die': 3, 'The Exploding Girl': 3, \"The Legend of God's Gun\": 3, 'Mutual Appreciation': 9, 'Her Cry: La Llorona Investigation': 3, 'Down Terrace': 3, 'Clerks': 3, 'Pink Narcissus': 3, 'Funny Ha Ha': 3, 'In the Company of Men': 3, 'Manito': 3, 'Rampage': 3, 'Slacker': 3, 'Dutch Kills': 3, 'Dry Spell': 3, 'Flywheel': 9, 'Backmask': 3, 'The Puffy Chair': 3, 'Stories of Our Lives': 3, 'Breaking Upwards': 3, 'All Superheroes Must Die': 3, 'Pink Flamingos': 3, 'Clean': 9, 'دایره': 3, 'Tin Can Man': 3, 'キュア': 9, 'On The Downlow': 3, 'Sanctuary: Quite a Conundrum': 3, 'Bang': 3, 'Primer': 3, 'Cavite': 3, 'El Mariachi': 3, 'Newlyweds': 3, 'Signed, Sealed, Delivered': 9, 'Shanghai Calling': 3, 'My Date with Drew': 3}\n"
          ]
        }
      ]
    },
    {
      "cell_type": "code",
      "source": [
        "kmeans_df = pd.DataFrame.from_dict(kmeans_labels_dict, orient='index')\n",
        "kmeans_df.head()"
      ],
      "metadata": {
        "colab": {
          "base_uri": "https://localhost:8080/",
          "height": 206
        },
        "id": "98UzIcEe5GMw",
        "outputId": "a0e70b84-38b9-445f-9063-07be7c967d99"
      },
      "execution_count": null,
      "outputs": [
        {
          "output_type": "execute_result",
          "data": {
            "text/plain": [
              "                                          0\n",
              "Avatar                                    4\n",
              "Pirates of the Caribbean: At World's End  4\n",
              "Spectre                                   4\n",
              "The Dark Knight Rises                     4\n",
              "John Carter                               1"
            ],
            "text/html": [
              "\n",
              "  <div id=\"df-d9acc8ff-d67f-4993-978b-ec470866abae\">\n",
              "    <div class=\"colab-df-container\">\n",
              "      <div>\n",
              "<style scoped>\n",
              "    .dataframe tbody tr th:only-of-type {\n",
              "        vertical-align: middle;\n",
              "    }\n",
              "\n",
              "    .dataframe tbody tr th {\n",
              "        vertical-align: top;\n",
              "    }\n",
              "\n",
              "    .dataframe thead th {\n",
              "        text-align: right;\n",
              "    }\n",
              "</style>\n",
              "<table border=\"1\" class=\"dataframe\">\n",
              "  <thead>\n",
              "    <tr style=\"text-align: right;\">\n",
              "      <th></th>\n",
              "      <th>0</th>\n",
              "    </tr>\n",
              "  </thead>\n",
              "  <tbody>\n",
              "    <tr>\n",
              "      <th>Avatar</th>\n",
              "      <td>4</td>\n",
              "    </tr>\n",
              "    <tr>\n",
              "      <th>Pirates of the Caribbean: At World's End</th>\n",
              "      <td>4</td>\n",
              "    </tr>\n",
              "    <tr>\n",
              "      <th>Spectre</th>\n",
              "      <td>4</td>\n",
              "    </tr>\n",
              "    <tr>\n",
              "      <th>The Dark Knight Rises</th>\n",
              "      <td>4</td>\n",
              "    </tr>\n",
              "    <tr>\n",
              "      <th>John Carter</th>\n",
              "      <td>1</td>\n",
              "    </tr>\n",
              "  </tbody>\n",
              "</table>\n",
              "</div>\n",
              "      <button class=\"colab-df-convert\" onclick=\"convertToInteractive('df-d9acc8ff-d67f-4993-978b-ec470866abae')\"\n",
              "              title=\"Convert this dataframe to an interactive table.\"\n",
              "              style=\"display:none;\">\n",
              "        \n",
              "  <svg xmlns=\"http://www.w3.org/2000/svg\" height=\"24px\"viewBox=\"0 0 24 24\"\n",
              "       width=\"24px\">\n",
              "    <path d=\"M0 0h24v24H0V0z\" fill=\"none\"/>\n",
              "    <path d=\"M18.56 5.44l.94 2.06.94-2.06 2.06-.94-2.06-.94-.94-2.06-.94 2.06-2.06.94zm-11 1L8.5 8.5l.94-2.06 2.06-.94-2.06-.94L8.5 2.5l-.94 2.06-2.06.94zm10 10l.94 2.06.94-2.06 2.06-.94-2.06-.94-.94-2.06-.94 2.06-2.06.94z\"/><path d=\"M17.41 7.96l-1.37-1.37c-.4-.4-.92-.59-1.43-.59-.52 0-1.04.2-1.43.59L10.3 9.45l-7.72 7.72c-.78.78-.78 2.05 0 2.83L4 21.41c.39.39.9.59 1.41.59.51 0 1.02-.2 1.41-.59l7.78-7.78 2.81-2.81c.8-.78.8-2.07 0-2.86zM5.41 20L4 18.59l7.72-7.72 1.47 1.35L5.41 20z\"/>\n",
              "  </svg>\n",
              "      </button>\n",
              "      \n",
              "  <style>\n",
              "    .colab-df-container {\n",
              "      display:flex;\n",
              "      flex-wrap:wrap;\n",
              "      gap: 12px;\n",
              "    }\n",
              "\n",
              "    .colab-df-convert {\n",
              "      background-color: #E8F0FE;\n",
              "      border: none;\n",
              "      border-radius: 50%;\n",
              "      cursor: pointer;\n",
              "      display: none;\n",
              "      fill: #1967D2;\n",
              "      height: 32px;\n",
              "      padding: 0 0 0 0;\n",
              "      width: 32px;\n",
              "    }\n",
              "\n",
              "    .colab-df-convert:hover {\n",
              "      background-color: #E2EBFA;\n",
              "      box-shadow: 0px 1px 2px rgba(60, 64, 67, 0.3), 0px 1px 3px 1px rgba(60, 64, 67, 0.15);\n",
              "      fill: #174EA6;\n",
              "    }\n",
              "\n",
              "    [theme=dark] .colab-df-convert {\n",
              "      background-color: #3B4455;\n",
              "      fill: #D2E3FC;\n",
              "    }\n",
              "\n",
              "    [theme=dark] .colab-df-convert:hover {\n",
              "      background-color: #434B5C;\n",
              "      box-shadow: 0px 1px 3px 1px rgba(0, 0, 0, 0.15);\n",
              "      filter: drop-shadow(0px 1px 2px rgba(0, 0, 0, 0.3));\n",
              "      fill: #FFFFFF;\n",
              "    }\n",
              "  </style>\n",
              "\n",
              "      <script>\n",
              "        const buttonEl =\n",
              "          document.querySelector('#df-d9acc8ff-d67f-4993-978b-ec470866abae button.colab-df-convert');\n",
              "        buttonEl.style.display =\n",
              "          google.colab.kernel.accessAllowed ? 'block' : 'none';\n",
              "\n",
              "        async function convertToInteractive(key) {\n",
              "          const element = document.querySelector('#df-d9acc8ff-d67f-4993-978b-ec470866abae');\n",
              "          const dataTable =\n",
              "            await google.colab.kernel.invokeFunction('convertToInteractive',\n",
              "                                                     [key], {});\n",
              "          if (!dataTable) return;\n",
              "\n",
              "          const docLinkHtml = 'Like what you see? Visit the ' +\n",
              "            '<a target=\"_blank\" href=https://colab.research.google.com/notebooks/data_table.ipynb>data table notebook</a>'\n",
              "            + ' to learn more about interactive tables.';\n",
              "          element.innerHTML = '';\n",
              "          dataTable['output_type'] = 'display_data';\n",
              "          await google.colab.output.renderOutput(dataTable, element);\n",
              "          const docLink = document.createElement('div');\n",
              "          docLink.innerHTML = docLinkHtml;\n",
              "          element.appendChild(docLink);\n",
              "        }\n",
              "      </script>\n",
              "    </div>\n",
              "  </div>\n",
              "  "
            ]
          },
          "metadata": {},
          "execution_count": 89
        }
      ]
    },
    {
      "cell_type": "code",
      "source": [
        "kmeans_df.to_csv('kmeans_cluster_labels.csv')"
      ],
      "metadata": {
        "id": "QvMcdpwp58SN"
      },
      "execution_count": null,
      "outputs": []
    },
    {
      "cell_type": "code",
      "source": [],
      "metadata": {
        "id": "psGtVFPo68BI"
      },
      "execution_count": null,
      "outputs": []
    }
  ],
  "metadata": {
    "colab": {
      "provenance": []
    },
    "kernelspec": {
      "display_name": "Python 3",
      "name": "python3"
    },
    "language_info": {
      "name": "python"
    }
  },
  "nbformat": 4,
  "nbformat_minor": 0
}