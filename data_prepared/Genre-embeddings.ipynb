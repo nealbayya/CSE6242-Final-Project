{
 "cells": [
  {
   "cell_type": "code",
   "execution_count": 14,
   "id": "616d5f6a",
   "metadata": {},
   "outputs": [],
   "source": [
    "import pandas as pd\n",
    "from matplotlib import pyplot as plt\n",
    "import numpy as np\n",
    "import umap.umap_ as umap\n",
    "import ast"
   ]
  },
  {
   "cell_type": "markdown",
   "id": "1f1ca848",
   "metadata": {},
   "source": [
    "## Genre Level Embeddings "
   ]
  },
  {
   "cell_type": "code",
   "execution_count": 4,
   "id": "71cb9f5e",
   "metadata": {},
   "outputs": [],
   "source": [
    "metadata = pd.read_csv('clean_movie_credits_tmdb.csv', index_col='idx')\n",
    "pca = pd.read_csv('movie_pca_features.csv', index_col='idx')"
   ]
  },
  {
   "cell_type": "code",
   "execution_count": 39,
   "id": "49a07a42",
   "metadata": {},
   "outputs": [],
   "source": [
    "genres2embeddings_df = {}\n",
    "for index, row in metadata.iterrows():\n",
    "    movie_genres = ast.literal_eval(row['genres'])\n",
    "    vec = pca.loc[index].values.flatten().tolist()\n",
    "    for genre in movie_genres:\n",
    "        if genre not in genres2embeddings_df.keys():\n",
    "            genres2embeddings_df[genre] = pd.DataFrame(columns=['f1', 'f2', 'f3', 'f4', \\\n",
    "                                                                'f5', 'f6', 'f7', 'f8'])\n",
    "            genres2embeddings_df[genre].index.name = 'idx'\n",
    "        genres2embeddings_df[genre].loc[index] = vec"
   ]
  },
  {
   "cell_type": "code",
   "execution_count": 111,
   "id": "2ca07a83",
   "metadata": {},
   "outputs": [
    {
     "name": "stdout",
     "output_type": "stream",
     "text": [
      "['Action', 'Adventure', 'Animation', 'Comedy', 'Crime', 'Documentary', 'Drama', 'Family', 'Fantasy', 'Foreign', 'History', 'Horror', 'Music', 'Mystery', 'Romance', 'Science Fiction', 'TV Movie', 'Thriller', 'War', 'Western']\n",
      "20\n"
     ]
    }
   ],
   "source": [
    "print(sorted(genres2embeddings_df.keys()))\n",
    "print(len(genres2embeddings_df))"
   ]
  },
  {
   "cell_type": "code",
   "execution_count": 54,
   "id": "698706d7",
   "metadata": {},
   "outputs": [
    {
     "name": "stderr",
     "output_type": "stream",
     "text": [
      "/Users/nealbayya/opt/anaconda3/lib/python3.8/site-packages/umap/umap_.py:2344: UserWarning: n_neighbors is larger than the dataset size; truncating to X.shape[0] - 1\n",
      "  warn(\n"
     ]
    }
   ],
   "source": [
    "genres2umap_df = {}\n",
    "for genre in genres2embeddings_df.keys():\n",
    "    embeddings = genres2embeddings_df[genre]\n",
    "    reducer = umap.UMAP()\n",
    "    umap_out = reducer.fit_transform(embeddings)\n",
    "    umap_df = pd.DataFrame(umap_out, columns = ['x', 'y'], index = embeddings.index)\n",
    "    genres2umap_df[genre] = umap_df\n",
    "    #plt.scatter(umap_df[:, 0], umap_df[:, 1])"
   ]
  },
  {
   "cell_type": "markdown",
   "id": "341f705d",
   "metadata": {},
   "source": [
    "## Genre Level Clusters"
   ]
  },
  {
   "cell_type": "code",
   "execution_count": 59,
   "id": "b2a39ddf",
   "metadata": {},
   "outputs": [],
   "source": [
    "from sklearn.cluster import KMeans\n",
    "import seaborn as sns"
   ]
  },
  {
   "cell_type": "code",
   "execution_count": 102,
   "id": "27768b8b",
   "metadata": {},
   "outputs": [
    {
     "name": "stdout",
     "output_type": "stream",
     "text": [
      "(1154, 8)\n",
      "(1154,)\n"
     ]
    },
    {
     "data": {
      "text/html": [
       "<div>\n",
       "<style scoped>\n",
       "    .dataframe tbody tr th:only-of-type {\n",
       "        vertical-align: middle;\n",
       "    }\n",
       "\n",
       "    .dataframe tbody tr th {\n",
       "        vertical-align: top;\n",
       "    }\n",
       "\n",
       "    .dataframe thead th {\n",
       "        text-align: right;\n",
       "    }\n",
       "</style>\n",
       "<table border=\"1\" class=\"dataframe\">\n",
       "  <thead>\n",
       "    <tr style=\"text-align: right;\">\n",
       "      <th></th>\n",
       "      <th>cluster</th>\n",
       "    </tr>\n",
       "    <tr>\n",
       "      <th>idx</th>\n",
       "      <th></th>\n",
       "    </tr>\n",
       "  </thead>\n",
       "  <tbody>\n",
       "    <tr>\n",
       "      <th>0</th>\n",
       "      <td>1</td>\n",
       "    </tr>\n",
       "    <tr>\n",
       "      <th>1</th>\n",
       "      <td>1</td>\n",
       "    </tr>\n",
       "    <tr>\n",
       "      <th>2</th>\n",
       "      <td>1</td>\n",
       "    </tr>\n",
       "    <tr>\n",
       "      <th>3</th>\n",
       "      <td>1</td>\n",
       "    </tr>\n",
       "    <tr>\n",
       "      <th>4</th>\n",
       "      <td>2</td>\n",
       "    </tr>\n",
       "    <tr>\n",
       "      <th>...</th>\n",
       "      <td>...</td>\n",
       "    </tr>\n",
       "    <tr>\n",
       "      <th>4734</th>\n",
       "      <td>0</td>\n",
       "    </tr>\n",
       "    <tr>\n",
       "      <th>4769</th>\n",
       "      <td>0</td>\n",
       "    </tr>\n",
       "    <tr>\n",
       "      <th>4772</th>\n",
       "      <td>0</td>\n",
       "    </tr>\n",
       "    <tr>\n",
       "      <th>4778</th>\n",
       "      <td>0</td>\n",
       "    </tr>\n",
       "    <tr>\n",
       "      <th>4798</th>\n",
       "      <td>0</td>\n",
       "    </tr>\n",
       "  </tbody>\n",
       "</table>\n",
       "<p>1154 rows × 1 columns</p>\n",
       "</div>"
      ],
      "text/plain": [
       "      cluster\n",
       "idx          \n",
       "0           1\n",
       "1           1\n",
       "2           1\n",
       "3           1\n",
       "4           2\n",
       "...       ...\n",
       "4734        0\n",
       "4769        0\n",
       "4772        0\n",
       "4778        0\n",
       "4798        0\n",
       "\n",
       "[1154 rows x 1 columns]"
      ]
     },
     "execution_count": 102,
     "metadata": {},
     "output_type": "execute_result"
    }
   ],
   "source": [
    "pca_df = genres2embeddings_df['Action']\n",
    "print(pca_df.shape)\n",
    "kmeans = KMeans(n_clusters = 4, random_state = 42)\n",
    "kmeans.fit(pca_df)\n",
    "print(kmeans.labels_.shape)\n",
    "cluster_df = pd.DataFrame(kmeans.labels_, columns = ['cluster'], index = pca_df.index)\n",
    "cluster_df"
   ]
  },
  {
   "cell_type": "code",
   "execution_count": 89,
   "id": "087b359e",
   "metadata": {},
   "outputs": [],
   "source": [
    "within_cluster_sum_of_squares = []\n",
    "k_values = []\n",
    "for number_of_clusters in range(1, 20):\n",
    "    k_values.append(number_of_clusters)\n",
    "    kmeans = KMeans(n_clusters = number_of_clusters, random_state = 42)\n",
    "    kmeans.fit(pca_df)\n",
    "    within_cluster_sum_of_squares.append(kmeans.inertia_)"
   ]
  },
  {
   "cell_type": "code",
   "execution_count": 90,
   "id": "b7f78336",
   "metadata": {},
   "outputs": [
    {
     "data": {
      "text/plain": [
       "[<matplotlib.lines.Line2D at 0x7fbd4979f2e0>]"
      ]
     },
     "execution_count": 90,
     "metadata": {},
     "output_type": "execute_result"
    },
    {
     "data": {
      "image/png": "[encoded data removed]",
      "text/plain": [
       "<Figure size 432x288 with 1 Axes>"
      ]
     },
     "metadata": {
      "needs_background": "light"
     },
     "output_type": "display_data"
    }
   ],
   "source": [
    "plt.plot(k_values, within_cluster_sum_of_squares)"
   ]
  },
  {
   "cell_type": "code",
   "execution_count": 91,
   "id": "1894cdb3",
   "metadata": {},
   "outputs": [
    {
     "data": {
      "text/plain": [
       "\"\\ngenre2num_clusters = {}\\ngenre2num_clusters['Action'] = 3\\ngenre2num_clusters['Adventure'] = 4\\ngenre2num_clusters['Fantasy'] = 3\\ngenre2num_clusters['Science Fiction'] = 3\\ngenre2num_clusters['Crime'] = 3\\ngenre2num_clusters['Drama'] = 3\\ngenre2num_clusters['Thriller'] = 3\\ngenre2num_clusters['Animation'] = 3\\ngenre2num_clusters['Family'] = 3\\ngenre2num_clusters['Western'] = 3\\ngenre2num_clusters['Comedy'] = 3\\ngenre2num_clusters['Romance'] = 3\\ngenre2num_clusters['Horror'] = 3\\ngenre2num_clusters['Mystery'] = 3\\ngenre2num_clusters['History'] = 3\\ngenre2num_clusters['War'] = 3\\ngenre2num_clusters['Music'] = 3\\ngenre2num_clusters['Documentary'] = 3\\ngenre2num_clusters['Foreign'] = 3\\ngenre2num_clusters['TV Movie'] = 3\\n\""
      ]
     },
     "execution_count": 91,
     "metadata": {},
     "output_type": "execute_result"
    }
   ],
   "source": [
    "'''\n",
    "genre2num_clusters = {}\n",
    "genre2num_clusters['Action'] = 3\n",
    "genre2num_clusters['Adventure'] = 4\n",
    "genre2num_clusters['Fantasy'] = 3\n",
    "genre2num_clusters['Science Fiction'] = 3\n",
    "genre2num_clusters['Crime'] = 3\n",
    "genre2num_clusters['Drama'] = 3\n",
    "genre2num_clusters['Thriller'] = 3\n",
    "genre2num_clusters['Animation'] = 3\n",
    "genre2num_clusters['Family'] = 3\n",
    "genre2num_clusters['Western'] = 3\n",
    "genre2num_clusters['Comedy'] = 3\n",
    "genre2num_clusters['Romance'] = 3\n",
    "genre2num_clusters['Horror'] = 3\n",
    "genre2num_clusters['Mystery'] = 3\n",
    "genre2num_clusters['History'] = 3\n",
    "genre2num_clusters['War'] = 3\n",
    "genre2num_clusters['Music'] = 3\n",
    "genre2num_clusters['Documentary'] = 3\n",
    "genre2num_clusters['Foreign'] = 3\n",
    "genre2num_clusters['TV Movie'] = 3\n",
    "'''"
   ]
  },
  {
   "cell_type": "code",
   "execution_count": 104,
   "id": "badad91e",
   "metadata": {},
   "outputs": [],
   "source": [
    "genre2cluster_df = {}\n",
    "for genre in genres2embeddings_df.keys():\n",
    "    pca_df = genres2embeddings_df[genre]\n",
    "    embeddings_df = genres2embeddings_df[genre]\n",
    "    kmeans = KMeans(n_clusters = 4, random_state = 42)\n",
    "    kmeans.fit(embeddings_df)\n",
    "    cluster_df = pd.DataFrame(kmeans.labels_, columns = ['cluster'], index = pca_df.index)\n",
    "    genre2cluster_df[genre] = cluster_df"
   ]
  },
  {
   "cell_type": "markdown",
   "id": "f57d8ae1",
   "metadata": {},
   "source": [
    "## Output"
   ]
  },
  {
   "cell_type": "code",
   "execution_count": 58,
   "id": "1a9957b5",
   "metadata": {},
   "outputs": [],
   "source": [
    "for genre in genres2umap_df:\n",
    "    umap_df = genres2umap_df[genre]\n",
    "    csv_name = genre.replace(\" \", \"\").lower() + '_umap.csv'\n",
    "    umap_df.to_csv('embeddings/' + csv_name)  "
   ]
  },
  {
   "cell_type": "code",
   "execution_count": 110,
   "id": "32190bbd",
   "metadata": {},
   "outputs": [],
   "source": [
    "for genre in genre2cluster_df.keys():\n",
    "    cluster_df = genre2cluster_df[genre]\n",
    "    csv_name = genre.replace(\" \", \"\").lower() + '_clusters.csv'\n",
    "    cluster_df.to_csv('clusters/' + csv_name)  "
   ]
  },
  {
   "cell_type": "code",
   "execution_count": null,
   "id": "a4eed89b",
   "metadata": {},
   "outputs": [],
   "source": []
  }
 ],
 "metadata": {
  "kernelspec": {
   "display_name": "Python 3",
   "language": "python",
   "name": "python3"
  },
  "language_info": {
   "codemirror_mode": {
    "name": "ipython",
    "version": 3
   },
   "file_extension": ".py",
   "mimetype": "text/x-python",
   "name": "python",
   "nbconvert_exporter": "python",
   "pygments_lexer": "ipython3",
   "version": "3.8.8"
  }
 },
 "nbformat": 4,
 "nbformat_minor": 5
}
